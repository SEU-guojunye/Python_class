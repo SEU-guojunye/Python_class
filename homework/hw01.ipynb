{
  "cells": [
    {
      "cell_type": "markdown",
      "metadata": {
        "id": "2nQmjoJmEnB6"
      },
      "source": [
        "# Homework 1\n",
        "\n",
        "\n",
        "## References\n",
        "\n",
        "+ Lectures 1-4 (inclusive).\n",
        "\n",
        "## Instructions\n",
        "\n",
        "+ Type your name and email in the \"Student details\" section below.\n",
        "+ Develop the code and generate the figures you need to solve the problems using this notebook.\n"
      ]
    },
    {
      "cell_type": "markdown",
      "metadata": {
        "id": "Bv-KfhgAEnB8"
      },
      "source": [
        "## Student details\n",
        "\n",
        "+ **姓名:** 郭俊烨\n",
        "+ **学号:** 07Q20108\n",
        "+ **Email:** gjy2383@gmail.com\n",
        "------\n",
        "+ **姓名:** 刘宏毅\n",
        "+ **学号:** 07Q20138\n",
        "+ **Email:** 213201699@seu.edu.cn"
      ]
    },
    {
      "cell_type": "markdown",
      "metadata": {
        "id": "PgwGZJpZEnB8"
      },
      "source": [
        "## Problem 1： Compute $\\pi$\n",
        "\n",
        "Up through history, great minds have developed different computational schemes for the number $\\pi$. We will here consider two such schemes, one by Leibniz (1646– 1716), and one by Euler (1707–1783).\n",
        "\n",
        "The scheme by Leibniz may be written\n",
        "\n",
        "$$\n",
        "\\pi = 8 \\sum^{\\infty}_{k=0} \\frac{1}{(4k+1)(4k+3)}\n",
        "$$\n",
        "while one form of the Euler scheme may appear as\n",
        "$$\n",
        "\\pi = \\sqrt{ 6\\sum^{\\infty}_{k=1} \\frac{1}{k^2}}\n",
        "$$\n",
        "If only the first $N$ terms of each sum are used as an approximation to $\\pi$, each modified scheme will have computed $\\pi$ with some error.\n",
        "\n",
        "Write a program that takes $N$ as input from the user, and plots the error development with both schemes as the number of iterations approaches $ N$. Your program should also print out the final error achieved with both schemes, i.e. when the number of terms is $N$. Run the program with $N = 100$ and explain briefly what the graphs show."
      ]
    },
    {
      "cell_type": "code",
      "execution_count": null,
      "metadata": {},
      "outputs": [],
      "source": [
        "#代码\n",
        "from numpy import *\n",
        "from matplotlib.pyplot import *\n",
        "\n",
        "def LeibnizScheme(N):\n",
        "    PiTemp=zeros(N+1)#利用向量方便后续操作,因只考虑正整数迭代次数故为N+1\n",
        "    PiTemp[0]=1/3#初值，向量首个分量\n",
        "    n=1\n",
        "    while n<N+1:#从n=1，即向量第二个分量开始\n",
        "        PiTemp[n]=PiTemp[n-1]+1/((4*n+1)*(4*n+3))\n",
        "        n+=1\n",
        "    return 8*PiTemp#最后处理\n",
        "\n",
        "def  EulerScheme(N):\n",
        "    PiTemp=zeros(N+1)#初值为0，不需另行处理\n",
        "    n=1\n",
        "    while n<N+1:\n",
        "        PiTemp[n]=PiTemp[n-1]+1/(n**2)\n",
        "        n+=1\n",
        "    return (6*PiTemp)**0.5\n",
        "\n",
        "while True:\n",
        "    N=input(\"请输入迭代次数N(正整数):\")\n",
        "    N=int(N)\n",
        "    if N<=0:#检查是否为正整数\n",
        "        print(\"请输入正整数\")\n",
        "    else:\n",
        "        break\n",
        "LeibnizPi=LeibnizScheme(N)\n",
        "EulerPi=EulerScheme(N)\n",
        "LeibnizPiError=abs(LeibnizPi-pi)#误差考虑绝对值\n",
        "EulerPiError=abs(EulerPi-pi)\n",
        "nVals=array(range(1,N))#1-N的向量\n",
        "figure()\n",
        "title(\"Iteration-Error\")\n",
        "xlabel(\"Iteration\")\n",
        "ylabel(\"Error\")\n",
        "print(\"Leibniz方法所得近似值\",LeibnizPi[N],\" 最终误差\",LeibnizPiError[N])\n",
        "plot(nVals,LeibnizPiError[nVals],label=\"Leibniz scheme\")\n",
        "print(\"Euler方法所得近似值\",EulerPi[N],\" 最终误差\",EulerPiError[N])\n",
        "plot(nVals,EulerPiError[nVals],label=\"Euler scheme\")\n",
        "legend()\n",
        "show()"
      ]
    },
    {
      "cell_type": "markdown",
      "metadata": {
        "id": "viJKbXBNEnB9"
      },
      "source": [
        "\n",
        "# 运行实例\n",
        "```\n",
        "请输入迭代次数N(正整数):0\n",
        "请输入正整数\n",
        "请输入迭代次数N(正整数):-1\n",
        "请输入正整数\n",
        "请输入迭代次数N(正整数):100\n",
        "Leibniz方法所得近似值 3.136642188870299  最终误差 0.004950464719494008\n",
        "Euler方法所得近似值 3.1320765318091053  最终误差 0.009516121780687836\n",
        "```"
      ]
    },
    {
      "cell_type": "markdown",
      "metadata": {},
      "source": [
        "\n",
        "\n",
        "可见莱布尼兹方法在各个迭代次数上表现均优于欧拉方法。在迭代次数达到50之前差距较显著。"
      ]
    },
    {
      "cell_type": "markdown",
      "metadata": {
        "id": "FG_C0iL6EnB9"
      },
      "source": [
        "## Problem 2:  Fibonacci Numbers\n",
        "\n",
        "The Fibonacci numbers is a sequence of integers in which each number (except the two first ones) is given as a sum of the two preceding numbers:\n",
        "$$\n",
        "F_n=F_{n-1}+F_{n-2}, \\quad F_0=1, F_1 = 1, \\quad n = 2,3,...\n",
        "$$\n",
        "Thus, the sequence starts out as\n",
        "$$\n",
        "1, 1, 2, 3,5,8,13,21,34,...\n",
        "$$\n",
        "\n",
        "- a) Write a fucnion that generates, and returns, the $N$ first Fibonacci numbers, when $N$ is an input parameter to the function.\n",
        "- b) The famous Johannes Kepler found that the ratio of consecutive Fibonacci numbers converges to the *golden ratio*, i.e.\n",
        "$$\n",
        "\\displaystyle \\lim_{n \\rightarrow \\infty} \\frac{F_{n+1}}{F_n} = \\frac{1+\\sqrt{5}}{2}.\n",
        "$$\n",
        "Checks (you decide *how*) whether Kepler’s understanding seems correct. Place a call to the function in the test block and run the program. Was Kepler right?\n",
        "- c) With the iterative procedure of the previous question, the ratios converged to the golden ratio at a certain *rate*. This brings in the concept of *convergence rate*, which we have not yet addressed. However, if you are motivated, you may get a head start right now. Call the function from the test block and run the program. Do the convergence rates approach the expected value?\n",
        "\n",
        "> In brief, if we define the difference (in absolute value) between $\\frac{F_{n+1}}{F_n}$ and the golden ratio as the error $e_n$ at iteration $n$, this error (when small enough) will develop as $e_{n+1} = Ce_n^q$, where $C$ is some constant and $q$ is the *convergence rate* (in fact, this error model is typical for iterative methods). That is, we have a relation that predicts how the error changes from one iteration to the next. With the given error model, we may compute the convergence rate from:\n",
        "$$\n",
        "q = \\frac{\\ln(e_{n+1}/e_n)}{\\ln(e_n/e_{n-1})}.\n",
        "$$\n",
        "\n"
      ]
    },
    {
      "cell_type": "code",
      "execution_count": 3,
      "metadata": {},
      "outputs": [
        {
          "name": "stdout",
          "output_type": "stream",
          "text": [
            "[1]\n"
          ]
        }
      ],
      "source": [
        "\n",
        "# a)\n",
        "#函数\n",
        "from numpy import *\n",
        "\n",
        "def FibonacciN(N):\n",
        "    if N==1:\n",
        "        return [1]\n",
        "    if N==2:\n",
        "        return [1,1]#特殊处理\n",
        "    Fibtemp=ones(N,int)#N个1,索引最大为N-1,元素为整数\n",
        "    n=2#从第三个开始\n",
        "    while n<N:\n",
        "        Fibtemp[n]=Fibtemp[n-1]+Fibtemp[n-2]\n",
        "        n+=1\n",
        "    return Fibtemp\n",
        "\n",
        "#在函数后添加测试用部分\n",
        "while True:\n",
        "    N=input(\"请输入正整数N:\")\n",
        "    N=int(N)\n",
        "    if N<=0:#检查是否为正整数\n",
        "        print(\"请输入正整数\")\n",
        "    else:\n",
        "        break\n",
        "\n",
        "Fib=FibonacciN(N)\n",
        "print(Fib)"
      ]
    },
    {
      "cell_type": "markdown",
      "metadata": {},
      "source": [
        "# 测试\n",
        "```\n",
        "请输入正整数N:1\n",
        "[1]\n",
        "-------\n",
        "请输入正整数N:2\n",
        "[1, 1]\n",
        "-------\n",
        "请输入正整数N:9\n",
        "[ 1  1  2  3  5  8 13 21 34]\n",
        "```\n",
        "功能正常。"
      ]
    },
    {
      "cell_type": "code",
      "execution_count": 4,
      "metadata": {
        "id": "pSB7JxioEnB-"
      },
      "outputs": [
        {
          "data": {
            "image/png": "[encoded data removed]",
            "text/plain": [
              "<Figure size 640x480 with 1 Axes>"
            ]
          },
          "metadata": {},
          "output_type": "display_data"
        }
      ],
      "source": [
        "# b)\n",
        "# 在函数后添加代码\n",
        "from matplotlib.pyplot import *\n",
        "N=46#超过46时上溢\n",
        "Fib=FibonacciN(N)\n",
        "ErrorRatio=zeros(N-1)#比生成的数列的项数少一\n",
        "n=0\n",
        "while n<N-1:#注意边界\n",
        "    ErrorRatio[n]=Fib[n+1]/Fib[n]\n",
        "    n+=1\n",
        "ErrorRatio=abs(ErrorRatio-(1+5**0.5)/2)\n",
        "nVals=array(range(N-1))#0-(N-2)的向量\n",
        "figure()\n",
        "title(\"Iteration-Error\")\n",
        "xlabel(\"Iteration\")\n",
        "ylabel(\"Error\")\n",
        "plot(nVals,ErrorRatio[nVals])\n",
        "show()"
      ]
    },
    {
      "cell_type": "markdown",
      "metadata": {},
      "source": [
        "\n",
        "# 测试\n",
        "得到图像<br>\n",
        "![无标题.png](data:image/png;base64,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)\n",
        "<br>根据图像,推断Kepler是对的。<br>"
      ]
    },
    {
      "cell_type": "code",
      "execution_count": 5,
      "metadata": {},
      "outputs": [
        {
          "data": {
            "image/png": "[encoded data removed]",
            "text/plain": [
              "<Figure size 640x480 with 1 Axes>"
            ]
          },
          "metadata": {},
          "output_type": "display_data"
        },
        {
          "data": {
            "image/png": "[encoded data removed]",
            "text/plain": [
              "<Figure size 640x480 with 1 Axes>"
            ]
          },
          "metadata": {},
          "output_type": "display_data"
        }
      ],
      "source": [
        "# c)\n",
        "from matplotlib.pyplot import *\n",
        "from numpy import polynomial as P\n",
        "\n",
        "N=46#超过46时上溢\n",
        "Fib=FibonacciN(N)\n",
        "nVals=array(range(N-1))\n",
        "LogConvergenceRate=zeros(N-1)#比生成的数列的项数少一\n",
        "n=0\n",
        "while n<N-1:#注意边界\n",
        "    LogConvergenceRate[n]=log(Fib[n+1]/Fib[n])#取对数，进行多项式拟合\n",
        "    n+=1\n",
        "\n",
        "Fitcurve=P.Polynomial.fit(nVals[8:45],LogConvergenceRate[8:45],deg=1)\n",
        "#前段数据波动较大，考虑到是为研究极限情况，舍去 #注意边界 #一次多项式拟合\n",
        "LogConvergenceRateFit=Fitcurve(nVals)#生成拟合数据\n",
        "figure()\n",
        "title(\"n-Y\")\n",
        "xlabel(\"n\")\n",
        "ylabel(\"Y\")\n",
        "plot(nVals,LogConvergenceRate[nVals])\n",
        "plot(nVals[8:45],LogConvergenceRateFit[nVals[8:45]-8])#注意边界\n",
        "show()#数据曲线\n",
        "figure()\n",
        "title(\"n-error\")\n",
        "xlabel(\"n\")\n",
        "ylabel(\"error\")\n",
        "plot(nVals[8:45],(LogConvergenceRate[nVals[8:45]]-LogConvergenceRateFit[nVals[8:45]-8])/LogConvergenceRate[nVals[8:45]])\n",
        "show()#拟合数据的百分误差曲线"
      ]
    },
    {
      "cell_type": "markdown",
      "metadata": {
        "id": "k3XVII2dEnB-"
      },
      "source": [
        "## Problem 3:  Find Crossing Points of Two Graphs\n",
        "\n",
        "Consider two functions $f(x) = x$ and $g(x) = x^2$ on the interval $[−4, 4]$.\n",
        "Write a program that, by trial and error, finds approximately for which values of $x$ the two graphs cross, i.e., $f(x) = g(x)$. Do this by considering $N$ equally distributed points on the interval, at each point checking whether $|f (x)−g(x)| < \\epsilon$, where $\\epsilon$ is some small number. Let $N$ and $\\epsilon$ be user input to the program and let the result be printed to screen. Run your program with $N = 400$ and $\\epsilon = 0.01$. Explain the output from the program. Finally, try also other values of $N$, keeping the value\n",
        "of $\\epsilon$ fixed. Explain your observations.\n",
        "\n"
      ]
    },
    {
      "cell_type": "code",
      "execution_count": null,
      "metadata": {},
      "outputs": [],
      "source": [
        "\n",
        "#原程序\n",
        "from numpy import *\n",
        "\n",
        "while True:\n",
        "    N=input(\"请输入分点数N(大于2的正整数):\")\n",
        "    N=int(N)\n",
        "    if N<3:#检查\n",
        "        print(\"请输入大于2的正整数\")#3个点等分才有意义\n",
        "    else:\n",
        "        while True:\n",
        "            eps=input(\"请输入误差限epsilon(小正实数):\")\n",
        "            eps=float(eps)\n",
        "            if eps<=0:#检查是否为正数，程序上不需要检查是否充分小\n",
        "                print(\"请输入正数\")\n",
        "            else:\n",
        "                break\n",
        "        break\n",
        "\n",
        "fVals=linspace(-4,4,N)#取等分点，直接视为f(x)函数值\n",
        "gVals=fVals**2\n",
        "Error=abs(fVals-gVals)\n",
        "flag=1\n",
        "for n in Error:\n",
        "    if n<eps:\n",
        "        flag=0\n",
        "        print(n,\"处,|f(x)-g(x)|<epsilon,近似视为f(x)=g(x)\")\n",
        "if flag:\n",
        "    print(\"所取分点处总有|f(x)-g(x)|>=epsilon,近似视为f(x)与g(x)不相等\")\n",
        "\n",
        "\n"
      ]
    },
    {
      "cell_type": "markdown",
      "metadata": {},
      "source": [
        "\n",
        "\n",
        "\n",
        "# 运行实例\n",
        "```\n",
        "请输入分点数N(大于2的正整数):400\n",
        "请输入误差限epsilon(小正实数):0.01\n",
        "0.009924560775371795 处,|f(x)-g(x)|<epsilon,近似视为f(x)=g(x)\n",
        "0.007462264684267805 处,|f(x)-g(x)|<epsilon,近似视为f(x)=g(x)\n",
        "```\n"
      ]
    },
    {
      "cell_type": "markdown",
      "metadata": {},
      "source": [
        "\n",
        "对连续函数F(x)=|f(x)-g(x)|,\\{x|F(x)<$\\epsilon$\\}为区间,故可能包含多个所取分点。\n",
        "\n"
      ]
    },
    {
      "cell_type": "code",
      "execution_count": 2,
      "metadata": {},
      "outputs": [
        {
          "name": "stdout",
          "output_type": "stream",
          "text": [
            "N= 50 时,有 0 个点处|f(x)-g(x)|<epsilon\n",
            "N= 100 时,有 0 个点处|f(x)-g(x)|<epsilon\n",
            "N= 150 时,有 1 个点处|f(x)-g(x)|<epsilon\n",
            "N= 200 时,有 0 个点处|f(x)-g(x)|<epsilon\n",
            "N= 250 时,有 0 个点处|f(x)-g(x)|<epsilon\n",
            "N= 300 时,有 1 个点处|f(x)-g(x)|<epsilon\n",
            "N= 350 时,有 1 个点处|f(x)-g(x)|<epsilon\n",
            "N= 400 时,有 2 个点处|f(x)-g(x)|<epsilon\n",
            "N= 450 时,有 3 个点处|f(x)-g(x)|<epsilon\n",
            "N= 500 时,有 3 个点处|f(x)-g(x)|<epsilon\n"
          ]
        }
      ],
      "source": [
        "#修改程序\n",
        "from numpy import *\n",
        "\n",
        "eps=0.01\n",
        "N=50\n",
        "while N<501:\n",
        "    fVals=linspace(-4,4,N)#取等分点，直接视为f(x)函数值\n",
        "    gVals=fVals**2\n",
        "    Error=abs(fVals-gVals)\n",
        "    flag=0\n",
        "    for n in Error:\n",
        "        if n<eps:\n",
        "           flag+=1\n",
        "    print(\"N=\",N,\"时,有\",flag,\"个点处|f(x)-g(x)|<epsilon\")\n",
        "    N+=50\n"
      ]
    },
    {
      "cell_type": "markdown",
      "metadata": {},
      "source": [
        "\n",
        "# 运行结果\n",
        "```\n",
        "N= 50 时,有 0 个点处|f(x)-g(x)|<epsilon\n",
        "N= 100 时,有 0 个点处|f(x)-g(x)|<epsilon\n",
        "N= 150 时,有 1 个点处|f(x)-g(x)|<epsilon\n",
        "N= 200 时,有 0 个点处|f(x)-g(x)|<epsilon\n",
        "N= 250 时,有 0 个点处|f(x)-g(x)|<epsilon\n",
        "N= 300 时,有 1 个点处|f(x)-g(x)|<epsilon\n",
        "N= 350 时,有 1 个点处|f(x)-g(x)|<epsilon\n",
        "N= 400 时,有 2 个点处|f(x)-g(x)|<epsilon\n",
        "N= 450 时,有 3 个点处|f(x)-g(x)|<epsilon\n",
        "N= 500 时,有 3 个点处|f(x)-g(x)|<epsilon\n",
        "```\n"
      ]
    },
    {
      "cell_type": "markdown",
      "metadata": {},
      "source": [
        "\n",
        "随着N增加,点分布更细密,所取点更有可能落入\\{x|F(x)<$\\epsilon$\\}之中,在分点数较少时,随分点数增加,所取分点的数值变动较大,故可能出现分点数增加了,落入该区间中的点反而减少了的现象。\n",
        "\n",
        "\n",
        "\n"
      ]
    },
    {
      "cell_type": "markdown",
      "metadata": {
        "id": "oNG3MxxlEnB-"
      },
      "source": [
        "## Problem 4: Fit Sines to Straight Line\n",
        "\n",
        "A lot of technology, especially most types of digital audio devices for processing sound, is based on representing a signal of time as a sum of sine functions. Say the signal is some function $f(t)$ on the interval $[−\\pi, \\pi]$ (a more general interval $[a, b]$ can easily be treated, but leads to slightly more complicated formulas). Instead of working with $f(t)$ directly, we approximate $f$ by the sum\n",
        "$$\n",
        "S_N(t) = \\sum^N_{n=1}b_n \\sin(nt),\n",
        "$$\n",
        "where the coefficients $b_n$ must be adjusted such that $S_N(t)$ is a good approximation to $f(t)$. We shall in this exercise adjust $b_n$ by a trial-and-error process.\n",
        "\n",
        "- 1) Make a function `sinesum(t, b)` that returns $S_N(t)$, given the coefficients $b_n$ in an array $b$ and time coordinates in an array $t$. Note that if $t$ is an array, the return value is also an array.\n",
        "- 2) Write a function `test_sinesum()` that calls `sinesum(t, b)` in 1) and determines if the function computes a test case correctly. As test case, let $t$ be an array with values $−\\pi/2$ and $\\pi/4$, choose $N = 2$, and $b_1 = 4$ and $b_2 = −3$. Compute $S_N(t)$ by hand to get reference values.\n",
        "- 3) Make a function `plot_compare(f, N, M)` that plots the original function $f(t)$ together with the sum of sines $S_N(t)$, so that the quality of the approximation $S_N(t)$ can be examined visually. The argument `f` is a Python function implementing $f(t)$, $N$ is the number of terms in the sum $S_N(t)$, and $M$ is the number of uniformly distributed $t$ coordinates used to plot $f$ and $S_N$.\n",
        "\n",
        "- 4) Write a function `error(b, f, M)` that returns a mathematical measure of the error in $S_N(t)$ as an approximation to $f(t)$:\n",
        "$$\n",
        "E = \\sqrt{\\sum_i(f(t_i)-S_N(t_i))^2}\n",
        "$$\n",
        "where the $t_i$ values are $M$ uniformly distributed coordinates on $[−\\pi,\\pi]$. The array $b$ holds the coefficients in $S_N$ and $f$ is a Python function implementing the mathematical function $f(t)$.\n",
        "- 5) Make a function `trial(f, N)` for interactively giving $b_n$ values and getting a plot on the screen where the resulting $S_N(t)$ is plotted together with $f(t)$. The error in the approximation should also be computed as indicated in 4). The argument `f` is a Python function for $f(t)$ and $N$ is the number of terms $N$ in the sum $S_N(t)$. The `trial` function can run a loop where the user is asked for the $b_n$ values in each pass of the loop and the corresponding plot is shown. You must find a way to terminate the loop when the experiments are over. Use $M=500$ in the calls to `plot_compare` and `error`.\n",
        "\n",
        "- 6) Choose $f(t)$ to be a straight line $f(t) = \\frac{1}{\\pi}t$ on $[−\\pi, \\pi]$. Call `trial(f, 3)` and try to find through experimentation some values $b_1, b_2$, and $b_3$ such that the sum of sines $S_N(t)$ is a good approximation to the straight line.\n",
        "\n",
        "- 7) Now we shall try to automate the procedure in 6). Write a function that has three nested loops over values of $b_1, b_2$, and $b_3$. Let each loop cover the interval $[−1, 1]$ in steps of 0.1. For each combination of $b_1, b_2$, and $b_3$, the error in the approximation $S_N$ should be computed. Use this to find, and print, the smallest error and the corresponding values of $b_1, b_2$, and $b_3$. Let the program also plot $f$ and the approximation $S_N$ corresponding to the smallest error.\n",
        "\n",
        "\n",
        "**Answer:**\n",
        "<br><br><br><br><br><br><br><br>"
      ]
    },
    {
      "cell_type": "code",
      "execution_count": 2,
      "metadata": {
        "colab": {
          "base_uri": "https://localhost:8080/",
          "height": 574
        },
        "id": "nsrP9yKmEnB_",
        "outputId": "d7feaf49-e0dc-43c8-aa12-951bb0b82364"
      },
      "outputs": [
        {
          "name": "stdout",
          "output_type": "stream",
          "text": [
            "The smallest error:\n",
            " 12.935790247939138\n",
            "The best coficients:\n",
            " [-1.0, -1.0, -0.5000000000000001]\n"
          ]
        },
        {
          "data": {
            "image/png": "[encoded data removed]",
            "text/plain": [
              "<Figure size 640x480 with 1 Axes>"
            ]
          },
          "metadata": {},
          "output_type": "display_data"
        },
        {
          "name": "stdout",
          "output_type": "stream",
          "text": [
            "Error/n 12.935790247939138\n",
            "Another trial? (y/n)\n",
            "n\n"
          ]
        }
      ],
      "source": [
        "# Problem4: Fit Sines to Straight Line\n",
        "import numpy as np\n",
        "import matplotlib.pyplot as plt\n",
        "\n",
        "#left_end: the minimum time stamp, default is -\\pi\n",
        "#right_end: the maximum time stamp, default is \\pi\n",
        "left_end = -np.pi\n",
        "right_end = np.pi\n",
        "\n",
        "#Define the function\n",
        "def f(t):\n",
        "    f = 1 / np.pi * t\n",
        "    return f\n",
        "\n",
        "\n",
        "# t: time coordinates\n",
        "# b: coefficients\n",
        "def sinesum(t, b):\n",
        "\n",
        "    # change into numpy array type, in order to use the functions in numpy\n",
        "    t = np.array(t)\n",
        "    b = np.array(b)\n",
        "\n",
        "    # caculate the sum of S_N(t)\n",
        "    S_N = []\n",
        "    for t_stamp in t.flatten():\n",
        "        n = len(b)\n",
        "        N = np.linspace(1, n, n)\n",
        "        s = np.dot(b, np.sin(N * t_stamp))\n",
        "\n",
        "    # if t is an array then append the result to S_N\n",
        "    S_N.append(s)\n",
        "\n",
        "    return S_N\n",
        "\n",
        "# a test function that calls sinesum(t, b)\n",
        "def test_sinesum():\n",
        "    t = [-np.pi/2, np.pi/4]\n",
        "    b = [4, -3]\n",
        "    return sinesum(t,b)\n",
        "\n",
        "\n",
        "#f: a Python function\n",
        "#N: the number of terms\n",
        "#M: the number of uniformly distributed t coordinates\n",
        "def plot_compare(f, b, N, M):\n",
        "    time = np.linspace(left_end, right_end, M)\n",
        "    y = f(time)\n",
        "    S = [sinesum(t, b) for t in time]\n",
        "\n",
        "    #plot\n",
        "    plt.plot(time, y, 'b-', label='f')\n",
        "    plt.plot(time, S, 'r--', label='S')\n",
        "    plt.xlabel('Time')\n",
        "    plt.ylabel('f (blue) and S (red)')\n",
        "    plt.legend()\n",
        "    plt.show()\n",
        "\n",
        "\n",
        "#f: a Python function\n",
        "#N: the number of terms\n",
        "#M: the number of uniformly distributed t coordinates\n",
        "def error(b, f, M):\n",
        "    time = np.linspace(left_end, right_end, M)\n",
        "    y = f(time)\n",
        "    S = sinesum(time, b)\n",
        "    err = np.sqrt(np.sum((y - S)**2))\n",
        "    return err\n",
        "\n",
        "\n",
        "#f: a Python function\n",
        "#N: the number of terms\n",
        "#b: coefficients\n",
        "def trial(f, N, b):\n",
        "    M = 500\n",
        "    new_trial = True\n",
        "    while new_trial:\n",
        "        plot_compare(f, b, N, M)\n",
        "        print('Error/n',error(b, f, M))\n",
        "        flag = input('Another trial? (y/n)\\n')\n",
        "        if flag == 'n':\n",
        "            new_trial =False\n",
        "\n",
        "\n",
        "#Find the best cofficients\n",
        "#f: a Python function\n",
        "#M: the number of uniformly distributed t coordinates\n",
        "def find_cof(f, M):\n",
        "    step = 0.1\n",
        "    start = -1\n",
        "    end = 1\n",
        "    min_err = error([-1, -1, -1], f, M)\n",
        "    for b1 in np.arange(start, end, step):\n",
        "        for b2 in np.arange(start, end, step):\n",
        "            for b3 in np.arange(start, end, step):\n",
        "                b = [b1, b2, b3]\n",
        "                err = error(b, f, M)\n",
        "                if(err < min_err):\n",
        "                    min_err = err\n",
        "                    best_cof = b\n",
        "    print('The smallest error:\\n', min_err)\n",
        "    print('The best coficients:\\n', best_cof)\n",
        "    return best_cof\n",
        "\n",
        "\n",
        "if __name__ == \"__main__\":\n",
        "    b = find_cof(f, 500)\n",
        "    trial(f, 3, b)\n"
      ]
    },
    {
      "cell_type": "markdown",
      "metadata": {
        "id": "ET3YWVvuEnB_"
      },
      "source": [
        "-End-"
      ]
    }
  ],
  "metadata": {
    "accelerator": "GPU",
    "colab": {
      "gpuType": "T4",
      "provenance": [],
      "toc_visible": true
    },
    "kernelspec": {
      "display_name": "Python 3",
      "name": "python3"
    },
    "language_info": {
      "codemirror_mode": {
        "name": "ipython",
        "version": 3
      },
      "file_extension": ".py",
      "mimetype": "text/x-python",
      "name": "python",
      "nbconvert_exporter": "python",
      "pygments_lexer": "ipython3",
      "version": "3.11.3"
    }
  },
  "nbformat": 4,
  "nbformat_minor": 0
}
