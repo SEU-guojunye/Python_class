{
 "cells": [
  {
   "cell_type": "markdown",
   "metadata": {},
   "source": [
    "# Homework 1\n",
    "\n",
    "\n",
    "## References\n",
    "\n",
    "+ Lectures 1-4 (inclusive).\n",
    "\n",
    "## Instructions\n",
    "\n",
    "+ Type your name and email in the \"Student details\" section below.\n",
    "+ Develop the code and generate the figures you need to solve the problems using this notebook.\n"
   ]
  },
  {
   "cell_type": "markdown",
   "metadata": {},
   "source": [
    "## Student details\n",
    "\n",
    "+ **姓名:**\n",
    "+ **学号:**\n",
    "+ **Email:**"
   ]
  },
  {
   "cell_type": "markdown",
   "metadata": {},
   "source": [
    "## Problem 1： Compute $\\pi$\n",
    "\n",
    "Up through history, great minds have developed different computational schemes for the number $\\pi$. We will here consider two such schemes, one by Leibniz (1646– 1716), and one by Euler (1707–1783).\n",
    "\n",
    "The scheme by Leibniz may be written\n",
    "\n",
    "$$\n",
    "\\pi = 8 \\sum^{\\infty}_{k=0} \\frac{1}{(4k+1)(4k+3)}\n",
    "$$\n",
    "while one form of the Euler scheme may appear as\n",
    "$$\n",
    "\\pi = \\sqrt{ 6\\sum^{\\infty}_{k=1} \\frac{1}{k^2}}\n",
    "$$\n",
    "If only the first $N$ terms of each sum are used as an approximation to $\\pi$, each modified scheme will have computed $\\pi$ with some error.\n",
    "\n",
    "Write a program that takes $N$ as input from the user, and plots the error development with both schemes as the number of iterations approaches $ N$. Your program should also print out the final error achieved with both schemes, i.e. when the number of terms is $N$. Run the program with $N = 100$ and explain briefly what the graphs show."
   ]
  },
  {
   "cell_type": "markdown",
   "metadata": {},
   "source": [
    "**Answer:**\n",
    "<br><br><br><br><br><br><br><br>"
   ]
  },
  {
   "cell_type": "code",
   "execution_count": null,
   "metadata": {},
   "outputs": [],
   "source": []
  },
  {
   "cell_type": "markdown",
   "metadata": {},
   "source": [
    "## Problem 2:  Fibonacci Numbers\n",
    "\n",
    "The Fibonacci numbers is a sequence of integers in which each number (except the two first ones) is given as a sum of the two preceding numbers:\n",
    "$$\n",
    "F_n=F_{n-1}+F_{n-2}, \\quad F_0=1, F_1 = 1, \\quad n = 2,3,...\n",
    "$$\n",
    "Thus, the sequence starts out as\n",
    "$$\n",
    "1, 1, 2, 3,5,8,13,21,34,...\n",
    "$$\n",
    "\n",
    "- a) Write a fucnion that generates, and returns, the $N$ first Fibonacci numbers, when $N$ is an input parameter to the function. \n",
    "- b) The famous Johannes Kepler found that the ratio of consecutive Fibonacci numbers converges to the *golden ratio*, i.e.\n",
    "$$\n",
    "\\displaystyle \\lim_{n \\rightarrow \\infty} \\frac{F_{n+1}}{F_n} = \\frac{1+\\sqrt{5}}{2}.\n",
    "$$\n",
    "Checks (you decide *how*) whether Kepler’s understanding seems correct. Place a call to the function in the test block and run the program. Was Kepler right?\n",
    "- c) With the iterative procedure of the previous question, the ratios converged to the golden ratio at a certain *rate*. This brings in the concept of *convergence rate*, which we have not yet addressed. However, if you are motivated, you may get a head start right now. Call the function from the test block and run the program. Do the convergence rates approach the expected value?\n",
    "\n",
    "> In brief, if we define the difference (in absolute value) between $\\frac{F_{n+1}}{F_n}$ and the golden ratio as the error $e_n$ at iteration $n$, this error (when small enough) will develop as $e_{n+1} = Ce_n^q$, where $C$ is some constant and $q$ is the *convergence rate* (in fact, this error model is typical for iterative methods). That is, we have a relation that predicts how the error changes from one iteration to the next. With the given error model, we may compute the convergence rate from:\n",
    "$$\n",
    "q = \\frac{\\ln(e_{n+1}/e_n)}{\\ln(e_n/e_{n-1})}.\n",
    "$$\n",
    "\n",
    "\n",
    "\n",
    "**Answer:**\n",
    "<br><br><br><br><br><br><br><br>"
   ]
  },
  {
   "cell_type": "code",
   "execution_count": null,
   "metadata": {},
   "outputs": [],
   "source": []
  },
  {
   "cell_type": "markdown",
   "metadata": {},
   "source": [
    "## Problem 3:  Find Crossing Points of Two Graphs\n",
    "\n",
    "Consider two functions $f(x) = x$ and $g(x) = x^2$ on the interval $[−4, 4]$.\n",
    "Write a program that, by trial and error, finds approximately for which values of $x$ the two graphs cross, i.e., $f(x) = g(x)$. Do this by considering $N$ equally distributed points on the interval, at each point checking whether $|f (x)−g(x)| < \\epsilon$, where $\\epsilon$ is some small number. Let $N$ and $\\epsilon$ be user input to the program and let the result be printed to screen. Run your program with $N = 400$ and $\\epsilon = 0.01$. Explain the output from the program. Finally, try also other values of $N$, keeping the value\n",
    "of $\\epsilon$ fixed. Explain your observations.\n",
    "**Answer:**\n",
    "<br><br><br><br><br><br><br><br>"
   ]
  },
  {
   "cell_type": "code",
   "execution_count": null,
   "metadata": {},
   "outputs": [],
   "source": []
  },
  {
   "cell_type": "markdown",
   "metadata": {},
   "source": [
    "## Problem 4: Fit Sines to Straight Line\n",
    "\n",
    "A lot of technology, especially most types of digital audio devices for processing sound, is based on representing a signal of time as a sum of sine functions. Say the signal is some function $f(t)$ on the interval $[−\\pi, \\pi]$ (a more general interval $[a, b]$ can easily be treated, but leads to slightly more complicated formulas). Instead of working with $f(t)$ directly, we approximate $f$ by the sum\n",
    "$$\n",
    "S_N(t) = \\sum^N_{n=1}b_n \\sin(nt),\n",
    "$$\n",
    "where the coefficients $b_n$ must be adjusted such that $S_N(t)$ is a good approximation to $f(t)$. We shall in this exercise adjust $b_n$ by a trial-and-error process.\n",
    "\n",
    "- 1) Make a function `sinesum(t, b)` that returns $S_N(t)$, given the coefficients $b_n$ in an array $b$ and time coordinates in an array $t$. Note that if $t$ is an array, the return value is also an array.\n",
    "- 2) Write a function `test_sinesum()` that calls `sinesum(t, b)` in 1) and determines if the function computes a test case correctly. As test case, let $t$ be an array with values $−\\pi/2$ and $\\pi/4$, choose $N = 2$, and $b_1 = 4$ and $b_2 = −3$. Compute $S_N(t)$ by hand to get reference values.\n",
    "- 3) Make a function `plot_compare(f, N, M)` that plots the original function $f(t)$ together with the sum of sines $S_N(t)$, so that the quality of the approximation $S_N(t)$ can be examined visually. The argument `f` is a Python function implementing $f(t)$, $N$ is the number of terms in the sum $S_N(t)$, and $M$ is the number of uniformly distributed $t$ coordinates used to plot $f$ and $S_N$.\n",
    "\n",
    "- 4) Write a function `error(b, f, M)` that returns a mathematical measure of the error in $S_N(t)$ as an approximation to $f(t)$:\n",
    "$$\n",
    "E = \\sqrt{\\sum_i(f(t_i)-S_N(t_i))^2}\n",
    "$$\n",
    "where the $t_i$ values are $M$ uniformly distributed coordinates on $[−\\pi,\\pi]$. The array $b$ holds the coefficients in $S_N$ and $f$ is a Python function implementing the mathematical function $f(t)$.\n",
    "- 5) Make a function `trial(f, N)` for interactively giving $b_n$ values and getting a plot on the screen where the resulting $S_N(t)$ is plotted together with $f(t)$. The error in the approximation should also be computed as indicated in 4). The argument `f` is a Python function for $f(t)$ and $N$ is the number of terms $N$ in the sum $S_N(t)$. The `trial` function can run a loop where the user is asked for the $b_n$ values in each pass of the loop and the corresponding plot is shown. You must find a way to terminate the loop when the experiments are over. Use $M=500$ in the calls to `plot_compare` and `error`.\n",
    "\n",
    "- 6) Choose $f(t)$ to be a straight line $f(t) = \\frac{1}{\\pi}t$ on $[−\\pi, \\pi]$. Call `trial(f, 3)` and try to find through experimentation some values $b_1, b_2$, and $b_3$ such that the sum of sines $S_N(t)$ is a good approximation to the straight line.\n",
    "\n",
    "- 7) Now we shall try to automate the procedure in 6). Write a function that has three nested loops over values of $b_1, b_2$, and $b_3$. Let each loop cover the interval $[−1, 1]$ in steps of 0.1. For each combination of $b_1, b_2$, and $b_3$, the error in the approximation $S_N$ should be computed. Use this to find, and print, the smallest error and the corresponding values of $b_1, b_2$, and $b_3$. Let the program also plot $f$ and the approximation $S_N$ corresponding to the smallest error.\n",
    "\n",
    "\n",
    "**Answer:**\n",
    "<br><br><br><br><br><br><br><br>"
   ]
  },
  {
   "cell_type": "code",
   "execution_count": null,
   "metadata": {},
   "outputs": [],
   "source": []
  },
  {
   "cell_type": "markdown",
   "metadata": {},
   "source": [
    "-End-"
   ]
  }
 ],
 "metadata": {
  "kernelspec": {
   "display_name": "Python 3 (ipykernel)",
   "language": "python",
   "name": "python3"
  },
  "language_info": {
   "codemirror_mode": {
    "name": "ipython",
    "version": 3
   },
   "file_extension": ".py",
   "mimetype": "text/x-python",
   "name": "python",
   "nbconvert_exporter": "python",
   "pygments_lexer": "ipython3",
   "version": "3.11.3"
  }
 },
 "nbformat": 4,
 "nbformat_minor": 4
}
