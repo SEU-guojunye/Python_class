{
 "cells": [
  {
   "cell_type": "markdown",
   "metadata": {
    "slideshow": {
     "slide_type": "slide"
    }
   },
   "source": [
    "# Programming for Computations -- Python"
   ]
  },
  {
   "cell_type": "markdown",
   "metadata": {
    "slideshow": {
     "slide_type": "slide"
    }
   },
   "source": [
    "# Why Learn Programming?"
   ]
  },
  {
   "cell_type": "markdown",
   "metadata": {
    "slideshow": {
     "slide_type": "slide"
    }
   },
   "source": [
    "# What is a Program? And what is programming?\n",
    "\n",
    "- Computer Programs\n",
    "- Programming\n",
    "- Programming Languages\n",
    "  "
   ]
  },
  {
   "cell_type": "markdown",
   "metadata": {
    "slideshow": {
     "slide_type": "slide"
    }
   },
   "source": [
    "## Python vs. 其他语言\n",
    "\n",
    "- 免费、开源\n",
    "- 一种脚本语言，意味着它是解释性语言\n",
    "- 一种现代语言（面向对象、异常处理、动态类型等）\n",
    "- 简明、易读、易学\n",
    "- 大量免费可用的库（如科学计算库、统计分析、可视化工具等）\n",
    "- 可用于更广泛的环境中： 科学计算、脚本、网站、文本解析等\n",
    "- 广泛应用于工业界"
   ]
  },
  {
   "cell_type": "markdown",
   "metadata": {
    "slideshow": {
     "slide_type": "slide"
    }
   },
   "source": [
    "## 其他语言\n",
    "\n",
    "- Java、C++：面向对象的编译语言。学习成本高\n",
    "- C、 Fortran： 低级编译型语言。广泛应用于科学计算。现在通常将这些语言与Python混合在一块\n",
    "- Matlab、Octave： Matlab拥有庞大的科学计算库。不免费，也不开源；\n",
    "- ..."
   ]
  },
  {
   "cell_type": "markdown",
   "metadata": {
    "slideshow": {
     "slide_type": "slide"
    }
   },
   "source": [
    "# 入门\n",
    "\n",
    "##  安装和配置说明\n",
    "\n",
    "### 安装\n",
    "你需要安装一下内容\n",
    "\n",
    "- 解释器： Python 3.5（或者以上版本）\n",
    "- 用于科学计算的模块： `SciPy` 和 `NumPy`\n",
    "- 用图形表示数值结果的模块： `matplotlib`\n",
    "- Shell: IPython\n",
    "- Python 代码编译器： Spyder （或者其他）\n",
    "\n",
    "通过所谓的分发包， 以上这些内容的安装将变得非常轻松。 推荐使用**Anaconda**。 "
   ]
  },
  {
   "cell_type": "markdown",
   "metadata": {
    "slideshow": {
     "slide_type": "slide"
    }
   },
   "source": [
    "### Anaconda\n",
    "\n",
    "即使你的计算机预先安装了Python，也推荐你创建自己的Python开发环境，一边你能“无意外风险”（不受计算机所依赖软件的影响）地工作。在一个虚拟的环境中，例如Anaconda， 你可以随意地更改语言的版本，饼安装软件包。\n",
    "\n",
    "如果出现了最快的情况，而且你把事情全搞砸了，只需要删除Anaconda目录并重启。运行 Anaconda 安装包将安装Python、Python开发环境以及代码编辑器（Spyder）、 Shell Ipython、 Jupyter Notebook以及重要的数值计算包，如``Scipy``、`NumPy`、`Matplotlib`.\n",
    "\n",
    "在 Anaconda创建的虚拟环境中，可以使用 conda install 来安装其他附加的软件包。具体安装教程可参考对应官方(<https://www.anaconda.com>)文档. 也可根据网上相关方法进行安装，比如知乎(<https://zhuanlan.zhihu.com/p/32925500>)"
   ]
  },
  {
   "cell_type": "markdown",
   "metadata": {
    "slideshow": {
     "slide_type": "slide"
    }
   },
   "source": [
    "### IPython 交互式编程\n",
    "\n",
    "IPython可以让Python支持多种语言的交互式编程。 IPython原本时一个专为Python编程设计的命令行工具，现在可以支持多种编程语言。 IPython具有非常强大的代码自省功能、新的shell语法、命令自动补全、命令历史保存等功能。自省功能是指命令行环境识别不同文字含义（属性、方法以及其他具体细节）的一种能力。 Ipython的一些特性如下所示：\n",
    "\n",
    "- 支持系统命令行shell和QT版命令行shell\n",
    "- 支持浏览器版本的Notebook，可以编写代码、数学公式以及支持多媒体和图表格式\n",
    "- 支持交互式数据可视化与其他图形用户界面\n",
    "- 支持高性能的并行计算"
   ]
  },
  {
   "cell_type": "markdown",
   "metadata": {
    "slideshow": {
     "slide_type": "slide"
    }
   },
   "source": [
    "### Jupyter- Python 笔记本\n",
    "\n",
    "Jupyter notebook 是演示你工作的绝佳工具。学生可用它来制作、记录作业和练习，老师可用它来备课，制作幻灯片（正如我现在所做的）\n",
    "\n",
    "如果已经通过Anaconda安装了Python，那么就拥有了Jupyter的所有功能。可以通过在终端窗口中运行以下命令来调用笔记本：\n",
    "```shell\n",
    "jupyter notebook\n",
    "```\n",
    "\n",
    "此时将会打开一个浏览器窗口，用户可以通过Web浏览器与Python进行交互。"
   ]
  },
  {
   "cell_type": "markdown",
   "metadata": {
    "slideshow": {
     "slide_type": "slide"
    }
   },
   "source": [
    "### 配置\n",
    "\n",
    "大多数Python代码都保存在文件中，因此建议在所有的Python文件中使用如下开头：\n",
    "\n",
    "```python\n",
    "from scipy import *\n",
    "from matplotlib.pyplot import *\n",
    "```\n",
    "\n",
    "经过这一步，应确保导入所需要的所用标准模块和函数，如Scipy。 缺少相应模块，程序可能会报错。许多代码编译器，如Spyder，可用于为文件创建模板。"
   ]
  },
  {
   "cell_type": "markdown",
   "metadata": {
    "slideshow": {
     "slide_type": "slide"
    }
   },
   "source": [
    "### 执行脚本\n",
    "\n",
    "通常用户想要运行一个程序文件中的内容。这依赖于文件在计算机上的位置，在运行程序文件的内容之前，导航到正确的文件位置是非常有必要的。\n",
    "\n",
    "- 使用Ipython中的命令`cd`,以便移动到文件所在的目录\n",
    "- 要运行名为 `myfile.py` 的程序文件的内容，只需要在Ipython shell中运行如下命令\n",
    "```python\n",
    "run myfile\n",
    "```"
   ]
  },
  {
   "cell_type": "markdown",
   "metadata": {
    "slideshow": {
     "slide_type": "slide"
    }
   },
   "source": [
    "### 获取帮助\n",
    "下面是一些关于如何使用IPython的小贴士\n",
    "\n",
    "- 要获取有关对象的帮助信息，只需要在对象名后输入“？”，然后返回\n",
    "- 使用上下箭可以重用上一次执行的命令\n",
    "- 可以使用`Tab` 健完成输入（也就是说，写入变量或方法的第一个字母，Ipython会显示一个包含所有可能输入的菜单）\n",
    "- 使用“Ctrl+D”组合健退出\n",
    "- 使用IPython 的魔法功能。可以通过在命令提示符上使用“%magic” 来找到一个列表及其相关说明"
   ]
  },
  {
   "cell_type": "code",
   "execution_count": 1,
   "metadata": {},
   "outputs": [],
   "source": [
    "%magic"
   ]
  },
  {
   "cell_type": "code",
   "execution_count": 2,
   "metadata": {},
   "outputs": [
    {
     "name": "stdout",
     "output_type": "stream",
     "text": [
      "The Zen of Python, by Tim Peters\n",
      "\n",
      "Beautiful is better than ugly.\n",
      "Explicit is better than implicit.\n",
      "Simple is better than complex.\n",
      "Complex is better than complicated.\n",
      "Flat is better than nested.\n",
      "Sparse is better than dense.\n",
      "Readability counts.\n",
      "Special cases aren't special enough to break the rules.\n",
      "Although practicality beats purity.\n",
      "Errors should never pass silently.\n",
      "Unless explicitly silenced.\n",
      "In the face of ambiguity, refuse the temptation to guess.\n",
      "There should be one-- and preferably only one --obvious way to do it.\n",
      "Although that way may not be obvious at first unless you're Dutch.\n",
      "Now is better than never.\n",
      "Although never is often better than *right* now.\n",
      "If the implementation is hard to explain, it's a bad idea.\n",
      "If the implementation is easy to explain, it may be a good idea.\n",
      "Namespaces are one honking great idea -- let's do more of those!\n"
     ]
    }
   ],
   "source": [
    "## The Zen of Python, by Tim Peters\n",
    "import this"
   ]
  },
  {
   "cell_type": "markdown",
   "metadata": {
    "slideshow": {
     "slide_type": "slide"
    }
   },
   "source": [
    "# A python program with Variables\n",
    "\n",
    "Our first example regards programming a mathematical model that predicts the height of a ball thrown straight up into the air. \n",
    "\n",
    "\n",
    "From Newton’s 2nd law, and by assuming negligible air resistance, one can derive a mathematical model that predicts the vertical position $y$ of the ball at time $t$:\n",
    "$$\n",
    "y = v_0 t-0.5gt^2\n",
    "$$\n",
    "- Here, $v_0$ is the initial upwards velocity and $g$ is the acceleration of gravity, for which 9.81 ms$^{−2}$ is a reasonable value. \n",
    "\n",
    "With this formula at hand, and when $v_0$ is known, you may plug in a value for time and get out the corresponding height."
   ]
  },
  {
   "cell_type": "markdown",
   "metadata": {
    "slideshow": {
     "slide_type": "slide"
    }
   },
   "source": [
    "## The program\n",
    "\n",
    "Let us next look at a Python program for evaluating this simple formula. \n",
    "\n",
    "To do this, we need some values for $v_0 $and $t$, so we pick $v_0 = 5ms^{−1}$ and $t = 0.6s$ (other choices would of course have been just as good). "
   ]
  },
  {
   "cell_type": "code",
   "execution_count": 3,
   "metadata": {
    "slideshow": {
     "slide_type": "-"
    }
   },
   "outputs": [
    {
     "name": "stdout",
     "output_type": "stream",
     "text": [
      "1.2342\n"
     ]
    }
   ],
   "source": [
    "# Program for computing the height of a ball in vertical motion\n",
    "\n",
    "v0 = 5                   # Initial velocity\n",
    "g  = 9.81                # Acceleration of gravity\n",
    "t  = 0.6                 # Time\n",
    "\n",
    "y = v0*t - 0.5*g*t**2    # Vertical position\n",
    "\n",
    "print(y)"
   ]
  },
  {
   "cell_type": "markdown",
   "metadata": {
    "slideshow": {
     "slide_type": "slide"
    }
   },
   "source": [
    "## Dissecting the Program\n",
    "\n",
    "When Python interprets the assignment statement $v_0 = 5$, the integer 5 becomes an object of type `int` and the variable name on the left-hand side becomes a named reference for that object. Similarly, when interpreting the assignment statements $g = 9.81$ and $t = 0.6$, $g$ and $t$ become named references to objects created for the real numbers given. However, since we have real numbers, these objects will be of type `float` (in computer language, a real number is called a “floating point number”)."
   ]
  },
  {
   "cell_type": "markdown",
   "metadata": {
    "slideshow": {
     "slide_type": "slide"
    }
   },
   "source": [
    "## Why use variables?\n",
    "\n",
    "But why do we introduce variables at all? Would it not be just as fine, or even simpler, to just use the numbers directly in the formula?\n",
    "\n",
    "```python\n",
    "# Program for computing the height of a ball in vertical motion\n",
    "\n",
    "y = 5*0.6 - 0.5*9.81*0.6**2      # vertical position\n",
    "\n",
    "print(y)\n",
    "```\n",
    " What is wrong with this? "
   ]
  },
  {
   "cell_type": "code",
   "execution_count": 4,
   "metadata": {
    "slideshow": {
     "slide_type": "slide"
    }
   },
   "outputs": [
    {
     "name": "stdout",
     "output_type": "stream",
     "text": [
      "1.2342\n"
     ]
    }
   ],
   "source": [
    "# Program for computing the height of a ball in vertical motion\n",
    "\n",
    "y = 5*0.6 - 0.5*9.81*0.6**2      # vertical position\n",
    "\n",
    "print(y)\n",
    "\n"
   ]
  },
  {
   "cell_type": "markdown",
   "metadata": {
    "slideshow": {
     "slide_type": "-"
    }
   },
   "source": [
    "After all, we do get the correct result when running the code!"
   ]
  },
  {
   "cell_type": "markdown",
   "metadata": {
    "slideshow": {
     "slide_type": "slide"
    }
   },
   "source": [
    "### Coding and Mathematical Formulation\n",
    "\n",
    "If you compare this coded formula with the corresponding mathematical formulation\n",
    "$$\n",
    "y = v_0t-0.5gt^2,\n",
    "$$\n",
    "the equivalence between code and mathematics is *not* as clear now as in our original program, where the formula was codes as\n",
    "\n",
    "```python\n",
    "y = v0*t - 0.5*g*t**2\n",
    "```\n",
    "\n",
    "In our little example here, this may not seem dramatic. Generally, however, you better believe that when, e.g., trying to find errors in code that lacks clear equivalence to the corresponding mathematical formulation, human code interpretation typically gets much harder and it might take you a while to track down those bugs!"
   ]
  },
  {
   "cell_type": "markdown",
   "metadata": {
    "slideshow": {
     "slide_type": "slide"
    }
   },
   "source": [
    "### Changing Numerical Values\n",
    "\n",
    "In addition,if we would like to redo the computation for another point in time, say $t = 0.9$s, we would have to *change the code in two places* to arrive at the new code line\n",
    "\n",
    "```python\n",
    "y = 5*0.9 - 0.5*9.81*0.9**2\n",
    "```\n",
    "\n",
    "You may think that this is not a problem, but imagine some other formula (and program) where the same number enters in a 100 places! \n",
    "\n",
    "You should realize that by using a variable, you get away with *changing in one place* only!"
   ]
  },
  {
   "cell_type": "markdown",
   "metadata": {
    "slideshow": {
     "slide_type": "slide"
    }
   },
   "source": [
    "## Mathematical Notation Versus Coding\n",
    "\n",
    "Make sure you understand that, from the outset, we had a pure mathematical formulation of our formula\n",
    "$$ y = v_0t - 0.5gt^2$$\n",
    "which does not contain any connection to programming at all.\n",
    "\n",
    "When we next wrote a piece of code that applied this formula, that code had to *obey* the rules of the programming language, which in this case is Python. \n",
    "\n",
    "We have seen how the equals sign (``=``) is interpreted in Python code.\n",
    "\n",
    "- In mathematics, $x = 2 − x$ would imply that $2x = 2$,giving $x = 1$.\n",
    "- In Python code,however,a code line like $x = 2 - x$ would be interpreted, not as an equation, but rather as an assignment statement: compute the right hand side by subtracting the current value of $x$ from 2 and let the result be the new value of $x$. \n",
    "- In the code, the new value of $x$ could thus be anything, all depending on the value $x$ had above the assignment statement!"
   ]
  },
  {
   "cell_type": "markdown",
   "metadata": {
    "slideshow": {
     "slide_type": "slide"
    }
   },
   "source": [
    "## Write and Run Your First Program\n",
    "\n",
    "Reading *only* does not teach you computer programming: you have to program yourself and practice heavily before you master mathematical problem solving via programming.\n",
    "\n",
    "- Why not a pocket calculator instead?\n",
    "- Write programes with a text editor: TextWrangler, VIm, Spyder..."
   ]
  },
  {
   "cell_type": "markdown",
   "metadata": {
    "slideshow": {
     "slide_type": "slide"
    }
   },
   "source": [
    "## Write Readable Code\n",
    "\n",
    "It might be instructive to see an example of code that is *not* very readable. If we use our very first problem, i.e. computing the height $y$ of a bal thrown up in the air, the mathematical formulation reads:\n",
    "$$\n",
    "y = v_0t - 0.5gt^2.\n",
    "$$\n",
    "We could write a working program (in *bad* style!) like:\n",
    "```python\n",
    "# This is an example of bad style!\n",
    "m=5;u=9.81;y=0.6\n",
    "t=m*y-u*0.5*y**2;print(t)\n",
    "```"
   ]
  },
  {
   "cell_type": "markdown",
   "metadata": {
    "slideshow": {
     "slide_type": "slide"
    }
   },
   "source": [
    "In this code,\n",
    "\n",
    "- variable names do not correspond to the mathematical variables\n",
    "- there are no (explaining) comments\n",
    "- no blank lines\n",
    "- no space to each side of = and -\n",
    "- several statements appear on the same line with no space in between"
   ]
  },
  {
   "cell_type": "markdown",
   "metadata": {
    "slideshow": {
     "slide_type": "slide"
    }
   },
   "source": [
    "# A Python Program with a Library Function\n",
    "\n",
    "Imagine you stand on a distance, say 10.0 m away, watching someone throwing a ball upwards. A straight line from you to the ball will then make an angle with the horizontal that increases and decreases as the ball goes up and down. Let us consider the ball at a particular moment in time, at which it has a height of 10.0 m. What is the angle of the line then?\n",
    "\n",
    "Before thinking of writing a program, one should always formulate the *algorithm*, i.e., the recipe for what kind of calculations that must be performed. Here, if the ball is $x$ m away and $y$ m up in the air, it makes an angle $\\theta$ with the ground, where $\\tan \\theta = y/x$. The angle is then $\\tan^{−1}(y/x)$.\n"
   ]
  },
  {
   "cell_type": "markdown",
   "metadata": {
    "slideshow": {
     "slide_type": "slide"
    }
   },
   "source": [
    "## The Program\n",
    "\n",
    "Let us make a Python program for doing these calculations. We introduce names $x$ and $y$ for the position data $x$ and $y$, and the descriptive name `angle` for the angle $\\theta$."
   ]
  },
  {
   "cell_type": "code",
   "execution_count": 5,
   "metadata": {
    "slideshow": {
     "slide_type": "-"
    }
   },
   "outputs": [
    {
     "ename": "NameError",
     "evalue": "name 'atan' is not defined",
     "output_type": "error",
     "traceback": [
      "\u001b[0;31m---------------------------------------------------------------------------\u001b[0m",
      "\u001b[0;31mNameError\u001b[0m                                 Traceback (most recent call last)",
      "\u001b[0;32m<ipython-input-5-ab70ea3df92d>\u001b[0m in \u001b[0;36m<module>\u001b[0;34m\u001b[0m\n\u001b[1;32m      2\u001b[0m \u001b[0my\u001b[0m \u001b[0;34m=\u001b[0m \u001b[0;36m10.0\u001b[0m        \u001b[0;31m# Vertical position\u001b[0m\u001b[0;34m\u001b[0m\u001b[0;34m\u001b[0m\u001b[0m\n\u001b[1;32m      3\u001b[0m \u001b[0;34m\u001b[0m\u001b[0m\n\u001b[0;32m----> 4\u001b[0;31m \u001b[0mangle\u001b[0m \u001b[0;34m=\u001b[0m \u001b[0matan\u001b[0m\u001b[0;34m(\u001b[0m\u001b[0my\u001b[0m\u001b[0;34m/\u001b[0m\u001b[0mx\u001b[0m\u001b[0;34m)\u001b[0m\u001b[0;34m\u001b[0m\u001b[0;34m\u001b[0m\u001b[0m\n\u001b[0m\u001b[1;32m      5\u001b[0m \u001b[0;34m\u001b[0m\u001b[0m\n\u001b[1;32m      6\u001b[0m \u001b[0mprint\u001b[0m\u001b[0;34m(\u001b[0m\u001b[0;34m(\u001b[0m\u001b[0mangle\u001b[0m\u001b[0;34m/\u001b[0m\u001b[0mpi\u001b[0m\u001b[0;34m)\u001b[0m\u001b[0;34m*\u001b[0m\u001b[0;36m180\u001b[0m\u001b[0;34m)\u001b[0m\u001b[0;34m\u001b[0m\u001b[0;34m\u001b[0m\u001b[0m\n",
      "\u001b[0;31mNameError\u001b[0m: name 'atan' is not defined"
     ]
    }
   ],
   "source": [
    "x = 10.0        # Horizontal position\n",
    "y = 10.0        # Vertical position\n",
    "\n",
    "angle = atan(y/x)\n",
    "\n",
    "print((angle/pi)*180)"
   ]
  },
  {
   "cell_type": "code",
   "execution_count": 6,
   "metadata": {
    "slideshow": {
     "slide_type": "slide"
    }
   },
   "outputs": [
    {
     "name": "stdout",
     "output_type": "stream",
     "text": [
      "45.0\n"
     ]
    }
   ],
   "source": [
    "from math import atan, pi\n",
    "\n",
    "x = 10.0        # Horizontal position\n",
    "y = 10.0        # Vertical position\n",
    "\n",
    "angle = atan(y/x)\n",
    "\n",
    "print((angle/pi)*180)"
   ]
  },
  {
   "cell_type": "code",
   "execution_count": 7,
   "metadata": {
    "slideshow": {
     "slide_type": "slide"
    }
   },
   "outputs": [
    {
     "name": "stdout",
     "output_type": "stream",
     "text": [
      "45.0\n"
     ]
    }
   ],
   "source": [
    "import math\n",
    "\n",
    "x = 10.0        # Horizontal position\n",
    "y = 10.0        # Vertical position\n",
    "\n",
    "angle = atan(y/x)\n",
    "\n",
    "print((angle/pi)*180)"
   ]
  },
  {
   "cell_type": "markdown",
   "metadata": {
    "slideshow": {
     "slide_type": "slide"
    }
   },
   "source": [
    "## Importing from Modules and Packages\n",
    "\n",
    "- At first, it may seem cumbersome to have code in different libraries, since it means you have to know (or find out) what resides in which library.\n",
    "\n",
    "- Also, there are many libraries around in addition to the Python standard library itself.\n",
    "\n",
    "- Having everything available at any time would be convenient, but this would also mean that computer memory would be filled with a lot of unused information, causing less memory to be available for computations on big data. \n",
    "\n",
    "- Python has so many libraries, with so much functionality, that importing what is needed is indeed a very sensible strategy.\n"
   ]
  },
  {
   "cell_type": "markdown",
   "metadata": {
    "slideshow": {
     "slide_type": "slide"
    }
   },
   "source": [
    "## Importing for Use *Without* Prefix\n",
    "\n",
    "The need to prefix item names is avoided when import statements are on the form\n",
    "```python\n",
    "from some_library import ... # i.e.,items will be used without prefix\n",
    "```\n",
    "\n",
    "- Without prefixing, coded formulas often become easier to read, since code generally comes \"closer\" to mathematical writing"
   ]
  },
  {
   "cell_type": "markdown",
   "metadata": {
    "slideshow": {
     "slide_type": "slide"
    }
   },
   "source": [
    "## Importing Individual Items\n",
    "\n",
    "To bring in even more functionality from math, the import statement could simply have been extended with the relevant items, say\n",
    "\n",
    "```python\n",
    "from math import atan, pi, sin, cos, log\n",
    "```"
   ]
  },
  {
   "cell_type": "markdown",
   "metadata": {
    "slideshow": {
     "slide_type": "slide"
    }
   },
   "source": [
    "## Having Several Import Statements\n",
    "\n",
    "Very often, we need to import functionality from several libraries. This is straight forward, as we may show by combining imports from `math` with imports from the useful *Numerical Python* (or **NumPy**) library,named `numpy` in Python:\n",
    "```python\n",
    "from math import atan, pi, sin, cos, log\n",
    "from numpy import zeros, linspace\n",
    "```\n"
   ]
  },
  {
   "cell_type": "markdown",
   "metadata": {
    "slideshow": {
     "slide_type": "slide"
    }
   },
   "source": [
    "## Importing All Items with \"Import *\"\n",
    "\n",
    "In fact, many programmers will advice you *not* to use it at all, unless you know very well what you are doing. With this import technique, the list of items in the import statement is exchanged with simply a star (i.e., $*$). The import statement then appears as\n",
    "```python\n",
    "from some_library import *  # import all items from some_library\n",
    "```\n",
    "which with the `math` library reads\n",
    "```python\n",
    "from math import *   # import all items from math\n",
    "```\n",
    "- This will cause *all* items from `math` to be imported, however, also the ones you do *not* need!"
   ]
  },
  {
   "cell_type": "markdown",
   "metadata": {
    "slideshow": {
     "slide_type": "slide"
    }
   },
   "source": [
    "## Disadvantage: No Prefix Allows Name Conflcis!\n",
    "\n",
    "When importing so that items are written without prefix, there is a potential problem with *name conflicts*. Let us illustrate the point with a simple example. \n",
    "\n",
    "Our first candidate could be the exponential function and we might like to compute and print out $e^t$ for $t = 0, 1, 2$. "
   ]
  },
  {
   "cell_type": "code",
   "execution_count": 8,
   "metadata": {
    "slideshow": {
     "slide_type": "-"
    }
   },
   "outputs": [
    {
     "name": "stdout",
     "output_type": "stream",
     "text": [
      "[1.         2.71828183 7.3890561 ]\n"
     ]
    }
   ],
   "source": [
    "from numpy import exp\n",
    "\n",
    "x = exp([0, 1, 2])     # do all 3 calculations\n",
    "print(x)               # print all 3 results "
   ]
  },
  {
   "cell_type": "code",
   "execution_count": 9,
   "metadata": {
    "slideshow": {
     "slide_type": "slide"
    }
   },
   "outputs": [
    {
     "ename": "TypeError",
     "evalue": "must be real number, not list",
     "output_type": "error",
     "traceback": [
      "\u001b[0;31m---------------------------------------------------------------------------\u001b[0m",
      "\u001b[0;31mTypeError\u001b[0m                                 Traceback (most recent call last)",
      "\u001b[0;32m<ipython-input-9-1355d585bbce>\u001b[0m in \u001b[0;36m<module>\u001b[0;34m\u001b[0m\n\u001b[1;32m      2\u001b[0m \u001b[0;32mfrom\u001b[0m \u001b[0mmath\u001b[0m \u001b[0;32mimport\u001b[0m \u001b[0;34m*\u001b[0m\u001b[0;34m\u001b[0m\u001b[0;34m\u001b[0m\u001b[0m\n\u001b[1;32m      3\u001b[0m \u001b[0;34m\u001b[0m\u001b[0m\n\u001b[0;32m----> 4\u001b[0;31m \u001b[0mx\u001b[0m \u001b[0;34m=\u001b[0m \u001b[0mexp\u001b[0m\u001b[0;34m(\u001b[0m\u001b[0;34m[\u001b[0m\u001b[0;36m0\u001b[0m\u001b[0;34m,\u001b[0m \u001b[0;36m1\u001b[0m\u001b[0;34m,\u001b[0m \u001b[0;36m2\u001b[0m\u001b[0;34m]\u001b[0m\u001b[0;34m)\u001b[0m     \u001b[0;31m# do all 3 calculations\u001b[0m\u001b[0;34m\u001b[0m\u001b[0;34m\u001b[0m\u001b[0m\n\u001b[0m\u001b[1;32m      5\u001b[0m \u001b[0mprint\u001b[0m\u001b[0;34m(\u001b[0m\u001b[0mx\u001b[0m\u001b[0;34m)\u001b[0m               \u001b[0;31m# print all 3 results\u001b[0m\u001b[0;34m\u001b[0m\u001b[0;34m\u001b[0m\u001b[0m\n\u001b[1;32m      6\u001b[0m \u001b[0;34m\u001b[0m\u001b[0m\n",
      "\u001b[0;31mTypeError\u001b[0m: must be real number, not list"
     ]
    }
   ],
   "source": [
    "from numpy import exp\n",
    "from math import *\n",
    "\n",
    "x = exp([0, 1, 2])     # do all 3 calculations\n",
    "print(x)               # print all 3 results \n",
    "\n",
    "y = cos(0)\n",
    "print(y)"
   ]
  },
  {
   "cell_type": "code",
   "execution_count": 10,
   "metadata": {
    "slideshow": {
     "slide_type": "slide"
    }
   },
   "outputs": [
    {
     "name": "stdout",
     "output_type": "stream",
     "text": [
      "[1.         2.71828183 7.3890561 ]\n",
      "1.0\n"
     ]
    }
   ],
   "source": [
    "from numpy import exp\n",
    "\n",
    "x = exp([0, 1, 2])     # do all 3 calculations\n",
    "print(x)               # print all 3 results \n",
    "\n",
    "from math import *\n",
    "y = cos(0)\n",
    "print(y)"
   ]
  },
  {
   "cell_type": "markdown",
   "metadata": {
    "slideshow": {
     "slide_type": "slide"
    }
   },
   "source": [
    "## Importing for Use *with* Prefix\n",
    "\n",
    "- A safer implementation of our program would use the “standard” method of importing\n",
    "```python\n",
    "import some_library  # i.e., items will be used with prefix\n",
    "```\n"
   ]
  },
  {
   "cell_type": "code",
   "execution_count": 11,
   "metadata": {
    "slideshow": {
     "slide_type": "slide"
    }
   },
   "outputs": [
    {
     "name": "stdout",
     "output_type": "stream",
     "text": [
      "[1.         2.71828183 7.3890561 ]\n",
      "1.0\n"
     ]
    }
   ],
   "source": [
    "import numpy\n",
    "import math\n",
    "\n",
    "x = numpy.exp([0, 1, 2])     # do all 3 calculations\n",
    "print(x)                     # print all 3 results \n",
    "\n",
    "y = math.cos(0)\n",
    "print(y)"
   ]
  },
  {
   "cell_type": "markdown",
   "metadata": {
    "slideshow": {
     "slide_type": "slide"
    }
   },
   "source": [
    "## Imports with Name Change\n",
    "\n",
    "Whether we import for use with or without prefix, we may *change names* of the im- ported items by minor adjustments of the import statements. \n",
    "```python\n",
    "import numpy as np\n",
    "import math as m\n",
    "\n",
    "x = np.exp([0, 1, 2])   # do all 3 calculations\n",
    "print(x)                # print all 3 results\n",
    "\n",
    "y = m.cos(0)      \n",
    "print(y)\n",
    "```\n",
    "\n",
    "Effectively, the module names in this program now become `np` and `m` (by our own choice) instead of `numpy` and `math`, respectively. We still enjoy the safety of prefixing and notice that such name changes might bring computer coded expressions closer to mathematical writing and thus ease human interpretation.\n",
    "\n",
    "- When importing library items for use without prefix, name changes can be done, e.g., like\n",
    "\n",
    "```python\n",
    "from math import cos as c, sin as s\n",
    "\n",
    "print(c(0)+s(0))\n",
    "```"
   ]
  },
  {
   "cell_type": "markdown",
   "metadata": {
    "slideshow": {
     "slide_type": "slide"
    }
   },
   "source": [
    "## Importing from Packages\n",
    "\n",
    "Modules may be grouped into *packages*, often together with functions, variables, and more. We may import items (modules, functions, etc.) from such packages also, but the appearance of an import statement will then depend on the structure of the package in question. \n",
    "\n",
    "The `numpy` library used above is, in fact, a package and we saw how it could be used with different import statements, just as if it had been a module. Note that the import statement\n",
    "```python\n",
    "import numpy as np         # standard way of importing numpy\n",
    "```\n",
    "is the standard way of importing `numpy`, i.e., also the “nickname” `np` is standard.\n",
    "\n",
    "Another popular package you will meet often in this lecture, is the plotting library `matplotlib`, used for generating and handling plots. The standard import statement, including the “nickname”, is then\n",
    "```python\n",
    "import matplotlib.pyplot as plt  # standard way of importing pyplot\n",
    "```"
   ]
  },
  {
   "cell_type": "markdown",
   "metadata": {
    "slideshow": {
     "slide_type": "slide"
    }
   },
   "source": [
    "## The Modules/Packages Used in This Lecture\n",
    "\n",
    "- `math`\n",
    "- `numpy`\n",
    "- `scipy`\n",
    "- `matplotlib.pylot`\n",
    "- `random`\n",
    "- `sympy`\n",
    "- `timeit`\n",
    "- `sys`\n",
    "\n",
    "These libraies are all well known to Python programmers.\n",
    "\n",
    "Not listed, are two modules that are used just once each, the `keyword` module and the `os` module."
   ]
  },
  {
   "cell_type": "markdown",
   "metadata": {
    "slideshow": {
     "slide_type": "slide"
    }
   },
   "source": [
    "# A Python Program with Vectorization and Plotting\n",
    "\n",
    "We return to the problem where a ball is thrown up in the air and we have a formula for the vertical position y of the ball. Say we are interested in $y$ at every milli-second for the first second of the flight. This requires repeating the calculation of $y = v_0t − 0.5gt^2$ one thousand times. As we will see, the computed heights appear very informative when presented graphically with time, as opposed to a long printout of all the numbers."
   ]
  },
  {
   "cell_type": "markdown",
   "metadata": {
    "slideshow": {
     "slide_type": "slide"
    }
   },
   "source": [
    "## The Program\n",
    "\n",
    "In Python, the calculations and the visualization of the curve may be done with the following program (ball_plot.py), reading\n"
   ]
  },
  {
   "cell_type": "code",
   "execution_count": 12,
   "metadata": {
    "slideshow": {
     "slide_type": "-"
    }
   },
   "outputs": [
    {
     "data": {
      "text/plain": [
       "<Figure size 640x480 with 1 Axes>"
      ]
     },
     "metadata": {},
     "output_type": "display_data"
    }
   ],
   "source": [
    "import numpy as np\n",
    "import matplotlib.pyplot as plt\n",
    "\n",
    "v0 = 5\n",
    "g = 9.81\n",
    "t = np.linspace(0, 1, 1001)\n",
    "\n",
    "y = v0*t - 0.5*g*t**2\n",
    "\n",
    "plt.plot(t,y)          # plots all y coordinates vs. all t coordinates\n",
    "plt.xlabel('t(s)')     # places the text t(s) on x-axis\n",
    "plt.ylabel('y(m)')     # places the text y(m) on y-axis\n",
    "plt.show()             # displays the figure"
   ]
  },
  {
   "cell_type": "code",
   "execution_count": 13,
   "metadata": {
    "slideshow": {
     "slide_type": "slide"
    }
   },
   "outputs": [
    {
     "data": {
      "image/png": "[encoded data removed]",
      "text/plain": [
       "<Figure size 432x288 with 1 Axes>"
      ]
     },
     "metadata": {
      "needs_background": "light"
     },
     "output_type": "display_data"
    }
   ],
   "source": [
    "%matplotlib inline  \n",
    "import numpy as np\n",
    "import matplotlib.pyplot as plt\n",
    "\n",
    "v0 = 5\n",
    "g = 9.81\n",
    "t = np.linspace(0, 1, 1001)\n",
    "\n",
    "y = v0*t - 0.5*g*t**2\n",
    "\n",
    "plt.plot(t,y)          # plots all y coordinates vs. all t coordinates\n",
    "plt.xlabel('t(s)')     # places the text t(s) on x-axis\n",
    "plt.ylabel('y(m)')     # places the text y(m) on y-axis\n",
    "plt.show()             # displays the figure"
   ]
  },
  {
   "cell_type": "markdown",
   "metadata": {
    "slideshow": {
     "slide_type": "slide"
    }
   },
   "source": [
    "# Plotting, Printing and Input Data"
   ]
  },
  {
   "cell_type": "markdown",
   "metadata": {
    "slideshow": {
     "slide_type": "slide"
    }
   },
   "source": [
    "## Plotting with Matplotlib\n",
    "\n",
    "Often, computations and analyses produce data that are best illustrated graphically. Thus, programming languages usually have many good tools available for producing and working with plots, and Python is no exception.\n",
    "\n",
    "In this book, we shall stick to the excellent plotting library Matplotlib, which has become the standard plotting package in Python.  \n",
    "\n",
    "Much more information is found on the [Matplotlib website](https://matplotlib.org/index.html).\n"
   ]
  },
  {
   "cell_type": "markdown",
   "metadata": {
    "slideshow": {
     "slide_type": "slide"
    }
   },
   "source": [
    "### A Single Curve\n",
    "\n",
    "Quickly testing a (minor) code change\n",
    "\n",
    "```python\n",
    "#plt.plot(t, y)\n",
    "#plt.xlabel(’t (s)’)\n",
    "plt.plot(y)\n",
    "plt.xlabel(’Array indices’)\n",
    "```\n",
    "\n",
    "The characteristics of a plotted line may also be changed in many ways with just minor modifications of the plot command. \n",
    "\n",
    "```python\n",
    "plt.plot(t, y, 'k')     # k - black, b - blue, r - red, g - green, ...\n",
    "```\n",
    "\n",
    "In addition, the line style may be changed, either alone, or together with a color change. For example,\n",
    "\n",
    "```python\n",
    "plt.plot(t, y, '--')   # default color, dashed line\n",
    "\n",
    "plt.plot(t, y, 'r--')  # red and dashed line\n",
    "\n",
    "plt.plot(t, y, 'g:')   # green and dotted line\n",
    "```\n",
    "\n",
    "Note that to avoid destroying a previously generated plot, you may precede your plot command by\n",
    "\n",
    "```python\n",
    "plt.figure()\n",
    "```\n",
    "This causes a new figure to be created alongside any already present."
   ]
  },
  {
   "cell_type": "code",
   "execution_count": 14,
   "metadata": {
    "slideshow": {
     "slide_type": "slide"
    }
   },
   "outputs": [
    {
     "data": {
      "image/png": "[encoded data removed]",
      "text/plain": [
       "<Figure size 432x288 with 1 Axes>"
      ]
     },
     "metadata": {
      "needs_background": "light"
     },
     "output_type": "display_data"
    }
   ],
   "source": [
    "import numpy as np\n",
    "import matplotlib.pyplot as plt\n",
    "\n",
    "t = np.linspace(-2, 2, 100)  # choose 100 points in time interval\n",
    "\n",
    "f_values = t**2\n",
    "g_values = np.exp(t)\n",
    "\n",
    "plt.plot(t, f_values, 'r', t, g_values, 'b--')\n",
    "plt.xlabel('t')\n",
    "plt.ylabel('f and g')\n",
    "plt.legend(['t**2', 'e**t'])\n",
    "plt.title('Plotting of two functions (t**2 and e**2)')\n",
    "plt.grid('on')\n",
    "plt.axis([-3, 3, -1, 10])\n",
    "plt.show()"
   ]
  },
  {
   "cell_type": "code",
   "execution_count": 15,
   "metadata": {
    "slideshow": {
     "slide_type": "slide"
    }
   },
   "outputs": [
    {
     "data": {
      "image/png": "[encoded data removed]",
      "text/plain": [
       "<Figure size 432x288 with 2 Axes>"
      ]
     },
     "metadata": {
      "needs_background": "light"
     },
     "output_type": "display_data"
    }
   ],
   "source": [
    "import numpy as np\n",
    "import matplotlib.pyplot as plt\n",
    "\n",
    "plt.subplot(2, 1, 1)          # 2 rows, 1 column, plot number 1\n",
    "v0 = 5\n",
    "g = 9.81\n",
    "t = np.linspace(0, 1, 11)\n",
    "y = v0*t - 0.5*g*t**2\n",
    "plt.plot(t, y, '*')\n",
    "plt.xlabel('t (s)')\n",
    "plt.ylabel('y (m)')\n",
    "plt.title('Ball moving vertically')\n",
    "\n",
    "plt.subplot(2, 1, 2)          # 2 rows, 1 column, plot number 2\n",
    "t = np.linspace(-2, 2, 100)   \n",
    "f_values = t**2\n",
    "g_values = np.exp(t)\n",
    "plt.plot(t, f_values, 'r', t, g_values, 'b--')\n",
    "plt.xlabel('t')\n",
    "plt.ylabel('f and g')\n",
    "plt.legend(['t**2', 'e**t'])\n",
    "plt.title('Plotting of two functions (t**2 and e**t)')\n",
    "plt.grid('on')\n",
    "plt.axis([-3, 3, -1, 10])\n",
    "\n",
    "plt.tight_layout()           # make subplots fit figure area\n",
    "plt.show()\n",
    "                       "
   ]
  },
  {
   "cell_type": "markdown",
   "metadata": {
    "slideshow": {
     "slide_type": "slide"
    }
   },
   "source": [
    "### Making a Hardcopy\n",
    "\n",
    "Svaing a figure to file is achieved by\n",
    "\n",
    "```python\n",
    "\n",
    "plt.savefig('some_plot.png')    # PNG format\n",
    "plt.savefig('some_plot.pdf')    # PDF format\n",
    "plt.savefig('some_plot.jpg')    # JPG format\n",
    "plt.savefig('some_plot.eps')    # EPS format\n",
    "\n",
    "```"
   ]
  },
  {
   "cell_type": "code",
   "execution_count": 16,
   "metadata": {},
   "outputs": [
    {
     "name": "stdout",
     "output_type": "stream",
     "text": [
      "real=12.896, integer=42, string=some message\n",
      "real=1.290e+01, integer=   42, string=some message\n"
     ]
    }
   ],
   "source": [
    "r = 12.89643            # real number\n",
    "i = 42                  # integer\n",
    "s = 'some message'      # string    (equivalent: s = \"some message\")\n",
    "\n",
    "print('real={:.3f}, integer={:d}, string={:s}'.format(r, i, s))\n",
    "print('real={:9.3e}, integer={:5d}, string={:s}'.format(r, i, s))"
   ]
  },
  {
   "cell_type": "code",
   "execution_count": null,
   "metadata": {},
   "outputs": [],
   "source": []
  }
 ],
 "metadata": {
  "celltoolbar": "幻灯片",
  "kernelspec": {
   "display_name": "Python 3",
   "language": "python",
   "name": "python3"
  },
  "language_info": {
   "codemirror_mode": {
    "name": "ipython",
    "version": 3
   },
   "file_extension": ".py",
   "mimetype": "text/x-python",
   "name": "python",
   "nbconvert_exporter": "python",
   "pygments_lexer": "ipython3",
   "version": "3.7.3"
  }
 },
 "nbformat": 4,
 "nbformat_minor": 2
}
