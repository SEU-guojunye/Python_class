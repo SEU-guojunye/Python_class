{
 "cells": [
  {
   "cell_type": "markdown",
   "metadata": {
    "slideshow": {
     "slide_type": "slide"
    }
   },
   "source": [
    "# Loops and Branching"
   ]
  },
  {
   "cell_type": "markdown",
   "metadata": {
    "slideshow": {
     "slide_type": "slide"
    }
   },
   "source": [
    "## the `for` loop\n",
    "\n",
    "Many computations are repetitive by nature and programming languages have\n",
    "certain *loop structures* to deal with this. One such loop structure is the *for loop*."
   ]
  },
  {
   "cell_type": "markdown",
   "metadata": {
    "slideshow": {
     "slide_type": "slide"
    }
   },
   "source": [
    "###  Example: Printing the 5 Times Tables\n",
    "Assume the task is to print out the 5 times table. Before having learned about loop structures in programming, most of us would first think of coding this like:"
   ]
  },
  {
   "cell_type": "code",
   "execution_count": null,
   "metadata": {},
   "outputs": [],
   "source": [
    "# Naively printing the 5 times table\n",
    "print('{:d}*5 = {:d}'.format(1, 1*5))\n",
    "print('{:d}*5 = {:d}'.format(2, 2*5))\n",
    "print('{:d}*5 = {:d}'.format(3, 3*5))\n",
    "print('{:d}*5 = {:d}'.format(4, 4*5))\n",
    "print('{:d}*5 = {:d}'.format(5, 5*5))\n",
    "print('{:d}*5 = {:d}'.format(6, 6*5))\n",
    "print('{:d}*5 = {:d}'.format(7, 7*5))\n",
    "print('{:d}*5 = {:d}'.format(8, 8*5))\n",
    "print('{:d}*5 = {:d}'.format(9, 9*5))\n",
    "print('{:d}*5 = {:d}'.format(10, 10*5))"
   ]
  },
  {
   "cell_type": "markdown",
   "metadata": {
    "slideshow": {
     "slide_type": "slide"
    }
   },
   "source": [
    "With a for loop, however, the very same printout may be produced by just two \n",
    "lines of code:"
   ]
  },
  {
   "cell_type": "code",
   "execution_count": null,
   "metadata": {},
   "outputs": [],
   "source": [
    "for i in [1, 2, 3, 4, 5, 6, 7, 8, 9, 10]:\n",
    "    print('{:d}*5 = {:d}'.format(i, i*5))     \n"
   ]
  },
  {
   "cell_type": "markdown",
   "metadata": {
    "slideshow": {
     "slide_type": "slide"
    }
   },
   "source": [
    "With this construction, the *loop variable* $i$ takes on each of the values 1 to 10, and for each value, the print function is called.\n",
    "\n",
    "Since the numbers 1 to 10 appear in square brackets, they constitute a special structure called a *list*. The loop here would work equally well if the brackets had been dropped, but then the numbers would be a *tuple*:"
   ]
  },
  {
   "cell_type": "code",
   "execution_count": null,
   "metadata": {},
   "outputs": [],
   "source": [
    "for i in 1, 2, 3, 4, 5, 6, 7, 8, 9, 10:  # no brackets...\n",
    "    print('{:d}*5 = {:d}'.format(i, i*5))"
   ]
  },
  {
   "cell_type": "markdown",
   "metadata": {
    "slideshow": {
     "slide_type": "slide"
    }
   },
   "source": [
    "## Characteristics of a Typical for Loop\n",
    "**Loop Structure**  There are different ways to write for loops, but herein, they are typically structured as\n",
    "```python\n",
    "for loop_variable in some_numbers:  # Loop header\n",
    "    <code line 1>                   # 1st line in loop body\n",
    "    <code line 2>                   # 2nd line in loop body\n",
    "    ...\n",
    "    ...                             # last line in loop body\n",
    "# First line after the loop\n",
    "```\n",
    "where `loop_variable` runs through the numbers given by `some_numbers`. In the very first line, called the *for loop header*, there are two reserved words, *for* and *in*. They are compulsory, as is the *colon* at the end. Also, the *block* of code lines inside a loop must *indented*. These indented lines are referred to as the *loop body*. Once the indent is reversed, we are outside (and after) the loop."
   ]
  },
  {
   "cell_type": "markdown",
   "metadata": {
    "slideshow": {
     "slide_type": "slide"
    }
   },
   "source": [
    "**Indentation and Nested Loops**  In our simple times table example above, the print command inside the loop was indented 4 spaces, which is in accordance with the official style guide of Python.\n",
    "\n",
    "Strictly speaking, the style guide recommends an indent of 4 *spaces per\n",
    "indentation level*. What this means, should become clear if we demonstrate how a *for* loop may appear within another *for* loop, i.e., if we show an arrangement with *nested loops*."
   ]
  },
  {
   "cell_type": "code",
   "execution_count": null,
   "metadata": {
    "slideshow": {
     "slide_type": "slide"
    }
   },
   "outputs": [],
   "source": [
    "for i in [1, 2, 3]: \n",
    "    # First indentation level (4 spaces)\n",
    "    print('i = {:d}'.format(i))\n",
    "    for j in [4.0, 5.0, 6.0]: \n",
    "        # Second indentation level (4+4 spaces)\n",
    "        print('    j = {:.1f}'.format(j))\n",
    "    # First line AFTER loop over j\n",
    "# First line AFTER loop over i"
   ]
  },
  {
   "cell_type": "markdown",
   "metadata": {
    "slideshow": {
     "slide_type": "slide"
    }
   },
   "source": [
    "**Other for Loop Structures** \n",
    "\n",
    "You will occasionally meet for loops with a different structure, and as an example, take a look at this:\n"
   ]
  },
  {
   "cell_type": "code",
   "execution_count": null,
   "metadata": {},
   "outputs": [],
   "source": [
    "for i, j, k in (1, 2, 3), (4, 5, 6), (6, 7, 8):\n",
    "    print(i, j, k)"
   ]
  },
  {
   "cell_type": "markdown",
   "metadata": {
    "slideshow": {
     "slide_type": "slide"
    }
   },
   "source": [
    "##  Combining for Loop and Array\n",
    "\n",
    "Often, loops are used in combination with arrays, so we should understand how that works. To reach this understanding, it is beneficial to do an example with just a small array.\n",
    "\n",
    "Assume the case is to compute the average height of family members in a family  of 5. We may choose to store all the heights in an array, which we then run through by use of a for loop to compute the average. The code (average_height.py) may look like this:"
   ]
  },
  {
   "cell_type": "code",
   "execution_count": null,
   "metadata": {},
   "outputs": [],
   "source": [
    "import numpy as np\n",
    "\n",
    "N = 5\n",
    "h = np.zeros(N) # heights of family members (in meter)\n",
    "h[0] = 1.60; h[1] = 1.85; h[2] = 1.75; h[3] = 1.80; h[4] = 1.50\n",
    "\n",
    "sum = 0\n",
    "for i in [0, 1, 2, 3, 4]:\n",
    "    sum = sum + h[i]\n",
    "average = sum/N\n",
    "\n",
    "print('Average height: {:g} meter'.format(average))"
   ]
  },
  {
   "cell_type": "markdown",
   "metadata": {
    "slideshow": {
     "slide_type": "slide"
    }
   },
   "source": [
    "## Use the `range` function\n",
    "\n",
    "This is where the built-in `range` function enters the picture. When\n",
    "called, the `range` function will provide integers according to the arguments given in the function call. For example, we could have used `range` in average_height.py by just changing the header from\n",
    "```python\n",
    "for i in [0, 1, 2, 3, 4]: # original code line\n",
    "```\n",
    "to\n",
    "\n",
    "```python\n",
    "for i in range(0, 5, 1):\n",
    "```\n",
    "\n",
    "Here, `range(0, 5, 1)` is a function call, where the function `range` is told to provide the integers from 0 (inclusive) to 5 (exclusive!) in steps of 1. In this case, `range(0, 5, 1)` will provide exactly those numbers that we had in the original code, i.e., the loop variable i will run through the same values (0, 1, 2, 3 and 4) as before, and program computations stay the same."
   ]
  },
  {
   "cell_type": "markdown",
   "metadata": {
    "slideshow": {
     "slide_type": "slide"
    }
   },
   "source": [
    "With a little interactive test, we may confirm that the `range` function provides the promised numbers. However, since what is returned from the `range` function is an object of type range, the number sequence is not explicitly available. Converting the range object to a list, however, does the trick."
   ]
  },
  {
   "cell_type": "code",
   "execution_count": null,
   "metadata": {},
   "outputs": [],
   "source": [
    "x=range(0,5,1)"
   ]
  },
  {
   "cell_type": "code",
   "execution_count": null,
   "metadata": {},
   "outputs": [],
   "source": [
    "type(x)"
   ]
  },
  {
   "cell_type": "code",
   "execution_count": null,
   "metadata": {},
   "outputs": [],
   "source": [
    "x"
   ]
  },
  {
   "cell_type": "code",
   "execution_count": null,
   "metadata": {},
   "outputs": [],
   "source": [
    "list(x)"
   ]
  },
  {
   "cell_type": "markdown",
   "metadata": {
    "slideshow": {
     "slide_type": "slide"
    }
   },
   "source": [
    "##  The while Loop\n",
    "\n",
    "### Example: Finding the Time of Flight"
   ]
  },
  {
   "cell_type": "markdown",
   "metadata": {},
   "source": [
    "**The Case** Assume the ball is thrown with a slightly lower initial velocity, say $4.5 ms^{−1}$, while everything else is kept unchanged. Since we still look at the first second of the flight, the heights at the end of the flight will then become negative. However, this only means that the ball has fallen below its initial starting position, i.e., the height where it left the hand, so there is nothing wrong with that. In an array $y$, we will then have a series of heights which towards the end of y become negative. As before, we will also have an array $t$ with all the times for corresponding heights in $y$.\n",
    "\n",
    "**The Program**  In a program named `ball_time.py`, we may find the time of flight as the time when heights switch from positive to negative. The program could look like this"
   ]
  },
  {
   "cell_type": "code",
   "execution_count": null,
   "metadata": {
    "slideshow": {
     "slide_type": "slide"
    }
   },
   "outputs": [],
   "source": [
    "import numpy as np\n",
    "\n",
    "v0 = 4.5                       # Initial velocity\n",
    "g = 9.81                       # Acceleration of gravity\n",
    "t = np.linspace(0, 1, 1000)    # 1000 points in time interval\n",
    "y = v0*t - 0.5*g*t**2          # Generate all heights\n",
    "\n",
    "# Find index where ball approximately has reached y=0\n",
    "i = 0\n",
    "while y[i] >= 0:\n",
    "    i = i + 1\n",
    "    \n",
    "# Since y[i] is the height at time t[i], we do know the\n",
    "# time as well when we have the index i...\n",
    "print('Time of flight (in seconds): {:g}'.format(t[i]))\n",
    "\n",
    "# We plot the path again just for comparison\n",
    "import matplotlib.pyplot as plt\n",
    "plt.plot(t, y)\n",
    "plt.plot(t, 0*t, 'g--')\n",
    "plt.xlabel('Time (s)')\n",
    "plt.ylabel('Height (m)')\n",
    "plt.show"
   ]
  },
  {
   "cell_type": "markdown",
   "metadata": {
    "slideshow": {
     "slide_type": "slide"
    }
   },
   "source": [
    "##  Characteristics of a Typical while Loop\n",
    "\n",
    "**Loop Structure and Interpretation**  The structure of a typical `while` loop may be put up as\n",
    "\n",
    "```python\n",
    "while some_condition:   # Loop header\n",
    "    <code line 1>       # 1st line in loop body\n",
    "    <code line 2>       # 2nd line in loop body\n",
    "    ...\n",
    "    ...\n",
    "# This is the first line after the loop\n",
    "```"
   ]
  },
  {
   "cell_type": "markdown",
   "metadata": {},
   "source": [
    "The first line here is the *while loop header*. It contains the reserved word `while` and ends with a colon, both are compulsory. The *indented* lines that follow the headern(i.e., `<code line 1>`, `<code line 2>`, etc.) constitute a *block* of statements, the *loop body*. Indentation is done as with `for` loops, i.e., 4 spaces by convention. In our example above with the ball, there was only a single line in the loop body (i.e.,\n",
    "$i=i+1$). As with `for` loops, one run-through of the loop body is referred to as an *iteration*. Once the indentation is reversed, the loop body has ended. Here, the first line after the loop is *# This is the first line after the loop*.\n",
    "\n",
    "Between `while` and the colon, there is `some_condition`, which is a boolean expression that evaluates to either `True` or `False`. The boolean expression may be a compound expression with `and`, `or`, etc."
   ]
  },
  {
   "cell_type": "markdown",
   "metadata": {},
   "source": [
    "Compared to a `for` loop, the programmer does not have to specify the number of iterations when coding a `while` loop. It simply runs until the boolean expression becomes `False`.\n",
    "\n",
    "Just as in `for` loop, there might be (arbitrarily) many code lines in a `while` loop. Also, nested loops work just like nested `for` loops. Having `for` loop may also be implemented as a `while` loop, but `while` loops are more flexible, so not all of them can be expressed as a `for` loop. "
   ]
  },
  {
   "cell_type": "markdown",
   "metadata": {
    "slideshow": {
     "slide_type": "slide"
    }
   },
   "source": [
    "**Infinite Loops**\n",
    "It is possible to have a `while` loop in which the condition never evaluates to `False`, meaning that program execution can not escape the loop! This is referred to as an *infinite loop*. Sometimes, infinite loops are just what you need, for example, in surveillance camera systems. More often, however, they are unintentional, and when learning to code, it is quite common to unintentionally end up with an infinite loop (just wait and see!). If you accidentally enter an infinite loop and the program just hangs “forever”, press `Ctrl+c` to stop the program."
   ]
  },
  {
   "cell_type": "markdown",
   "metadata": {
    "slideshow": {
     "slide_type": "slide"
    }
   },
   "source": [
    "## Branching (`if`, `elif` and `else`)\n",
    "\n",
    "Very often in life, and in computer programs, the next action depends on the outcome of a question starting with “if”. This gives the possibility of branching into different types of action depending on some criterion"
   ]
  },
  {
   "cell_type": "markdown",
   "metadata": {},
   "source": [
    "### Example: Judging the Wate Temperature\n",
    "\n",
    "Assume we want to write a program that helps us decide, based on water temperature alone (in degrees Celcius), whether we should go swimming or not.\n",
    "\n",
    "**One if-test**  As a start, we code our program simply as"
   ]
  },
  {
   "cell_type": "code",
   "execution_count": null,
   "metadata": {},
   "outputs": [],
   "source": [
    "T = float(input('What is the water temperautre?'))\n",
    "if T>24:\n",
    "    print('Great, jump in!')\n",
    "# First line after if part"
   ]
  },
  {
   "cell_type": "markdown",
   "metadata": {
    "slideshow": {
     "slide_type": "slide"
    }
   },
   "source": [
    "**Two if-tests**\n",
    "Immediately,werealizethatthisisnotsatisfactory,so(asa“firstfix”) we extend our code with a second if test, as"
   ]
  },
  {
   "cell_type": "code",
   "execution_count": null,
   "metadata": {},
   "outputs": [],
   "source": [
    "T = float(input('What is the water temperautre?'))\n",
    "if T>24:\n",
    "    print('Great, jump in!')\n",
    "if T<= 24:\n",
    "    print('Do not swim. Too cold!')\n",
    "# First line after if-if construction"
   ]
  },
  {
   "cell_type": "markdown",
   "metadata": {
    "slideshow": {
     "slide_type": "slide"
    }
   },
   "source": [
    "**An if-else Construction**\n",
    "For our case, it is much better to use an `else` part, like this"
   ]
  },
  {
   "cell_type": "code",
   "execution_count": null,
   "metadata": {},
   "outputs": [],
   "source": [
    "T = float(input('What is the water temperautre?'))\n",
    "if T>24:\n",
    "    print('Great, jump in!')\n",
    "else:\n",
    "    print('Do not swim. Too cold!')\n",
    "# First line after if-else construction"
   ]
  },
  {
   "cell_type": "markdown",
   "metadata": {},
   "source": [
    "**Anif-elif-else Construction**\n",
    "\n",
    "Let us say we allow some intermediate case, in which our program is less categoric for temperatures between 20 and 24 degrees, for example. There is a nice `elif` (short for `else if`) construction which then applies. Introducing that in our program (and saving it as swim_advisor.py), it reads"
   ]
  },
  {
   "cell_type": "code",
   "execution_count": null,
   "metadata": {},
   "outputs": [],
   "source": [
    "T = float(input('What is the water temperautre?'))\n",
    "if T>24:                         # testing condition 1\n",
    "    print('Great, jump in!')\n",
    "elif 20 <= T <= 24:              # testing condition 2\n",
    "    print('Not bad. Put your toe in first')\n",
    "else:\n",
    "    print('Do not swim. Too cold!')\n",
    "# First line after if-elif-else construction"
   ]
  },
  {
   "cell_type": "markdown",
   "metadata": {
    "slideshow": {
     "slide_type": "slide"
    }
   },
   "source": [
    "###  The Characteristics of Branching\n",
    "\n",
    "A more general form of an if-elif-else construction reads\n",
    "```python\n",
    "if condition_1:       # testing condition 1\n",
    "    <code line 1>\n",
    "    <code line 2>\n",
    "    ...\n",
    "elif condition_2:     # testing condition 2\n",
    "    <code line 1>\n",
    "    <code line 2>\n",
    "    ...\n",
    "elif condition_3:     # testing condition 3\n",
    "    <code line 1>\n",
    "    <code line 2>\n",
    "    ...\n",
    "else:\n",
    "    <code line 1>\n",
    "    <code line 2>\n",
    "    ...\n",
    "# First line after if-elif-else construction\n",
    "```"
   ]
  },
  {
   "cell_type": "markdown",
   "metadata": {
    "slideshow": {
     "slide_type": "slide"
    }
   },
   "source": [
    "\n",
    "###   Example: Finding the Maximum Height\n",
    "We have previously modified ball_plot.py to find the time of flight instead (see ball_time.py). Let us now change ball_plot.py in a slightly different way, so that the new program instead finds the maximum height achieved by the ball."
   ]
  },
  {
   "cell_type": "code",
   "execution_count": null,
   "metadata": {},
   "outputs": [],
   "source": [
    "import numpy as np\n",
    "import matplotlib.pyplot as plt\n",
    "\n",
    "v0 = 5                         # Initial velocity\n",
    "g = 9.81                       # Acceleration of gravity\n",
    "t = np.linspace(0, 1, 1000)    # 1000 points in time interval\n",
    "y = v0*t - 0.5*g*t**2          # Generate all heights\n",
    "\n",
    "# At this point, the array y with all the heights is ready,\n",
    "# and we need to find the largest value within y.\n",
    "\n",
    "largest_height = y[0]          # Starting value for search\n",
    "for i in range(1, len(y), 1):\n",
    "    if y[i] > largest_height:\n",
    "        largest_height = y[i]\n",
    "        \n",
    "print('The largest height achieved was {:g} m'.format(largest_height))\n",
    "\n",
    "# We might also like to plot the path again just to compare\n",
    "plt.plot(t,y)\n",
    "plt.xlabel('Time (s)')\n",
    "plt.ylabel('Height (m)')\n",
    "plt.show()"
   ]
  },
  {
   "cell_type": "markdown",
   "metadata": {
    "slideshow": {
     "slide_type": "slide"
    }
   },
   "source": [
    "**Getting indices right**\n",
    "\n",
    "To implement the traversing of arrays with loops and indices, is often challenging to get right. You need to understand the start, stop and step length values for the loop variable, and also how the loop variable (possibly) enters expressions inside the loop. At the same time, however, it is something that programmers do often, so it is important to develop the right skills on these matters."
   ]
  },
  {
   "cell_type": "markdown",
   "metadata": {
    "slideshow": {
     "slide_type": "slide"
    }
   },
   "source": [
    "##  Example: Random Walk in Two Dimensions\n",
    "We will now turn to an example which represents the core of so-called *random walk* algorithms. These are used in many branches of science and engineering, including such different fields as materials manufacturing and brain research.\n",
    "\n",
    "The procedure we will consider, is to walk a series of equally sized steps, and for each of those steps, there should be the same probability of going to the north (N), east (E), south (S), or west (W). No other directions are legal. How can we implement such an action in a computer program?"
   ]
  },
  {
   "cell_type": "code",
   "execution_count": null,
   "metadata": {},
   "outputs": [],
   "source": [
    "import random\n",
    "import numpy as np\n",
    "import matplotlib.pyplot as plt\n",
    "\n",
    "N = 100000                      # number of steps\n",
    "d = 1                         # step length (e.g., in meter)\n",
    "x = np.zeros(N+1)             # x coordinates\n",
    "y = np.zeros(N+1)             # y coordinates\n",
    "x[0] = 0; y[0] = 0            # set initial position\n",
    "\n",
    "for i in range(0, N, 1):\n",
    "    r = random.random()       # random number in [0,1)\n",
    "    if 0 <= r < 0.25:         # move north\n",
    "        y[i+1] = y[i] + d\n",
    "        x[i+1] = x[i]\n",
    "    elif 0.25 <= r < 0.5:     # move east\n",
    "        x[i+1] = x[i] + d\n",
    "        y[i+1] = y[i]\n",
    "    elif 0.5 <= r < 0.75:     # move south\n",
    "        y[i+1] = y[i] - d\n",
    "        x[i+1] = x[i]\n",
    "    else:                     # move west\n",
    "        x[i+1] = x[i] - d\n",
    "        y[i+1] = y[i]\n",
    "        \n",
    "# plot path (mark start and stop with blue o and *, respectively)\n",
    "plt.plot(x, y, 'r--', x[0], y[0], 'bo', x[-1], y[-1], 'b*')\n",
    "plt.xlabel('x');  plt.ylabel('y')\n",
    "plt.show()"
   ]
  },
  {
   "cell_type": "code",
   "execution_count": null,
   "metadata": {},
   "outputs": [],
   "source": []
  }
 ],
 "metadata": {
  "celltoolbar": "幻灯片",
  "kernelspec": {
   "display_name": "Python 3",
   "language": "python",
   "name": "python3"
  },
  "language_info": {
   "codemirror_mode": {
    "name": "ipython",
    "version": 3
   },
   "file_extension": ".py",
   "mimetype": "text/x-python",
   "name": "python",
   "nbconvert_exporter": "python",
   "pygments_lexer": "ipython3",
   "version": "3.7.3"
  }
 },
 "nbformat": 4,
 "nbformat_minor": 5
}
