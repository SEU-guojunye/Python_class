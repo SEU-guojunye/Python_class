{
 "cells": [
  {
   "cell_type": "markdown",
   "metadata": {
    "slideshow": {
     "slide_type": "slide"
    }
   },
   "source": [
    "# Functions and the Writing of Code"
   ]
  },
  {
   "cell_type": "markdown",
   "metadata": {
    "slideshow": {
     "slide_type": "slide"
    }
   },
   "source": [
    "#  Functions: How to Write Them?\n",
    "\n",
    "The purpose of functions is twofold:\n",
    "1. to *group code lines* that naturally belong together (making such units of code is a strategy which may ease the problem solving process dramatically), and\n",
    "2. to *parameterize* a set of code lines such that they can be written only once and easily be re-executed with variations.\n",
    "\n",
    "Functions that we write ourselves are often referred to as *user-defined* functions."
   ]
  },
  {
   "cell_type": "markdown",
   "metadata": {
    "slideshow": {
     "slide_type": "slide"
    }
   },
   "source": [
    "##  Example: Writing Our First Function\n",
    "\n",
    "To grasp the first few essentials about function writing, we change ball.py, so that the height $y$ is rather computed by use of a *function* that we define ourselves."
   ]
  },
  {
   "cell_type": "code",
   "execution_count": 1,
   "metadata": {
    "scrolled": true,
    "slideshow": {
     "slide_type": "-"
    }
   },
   "outputs": [
    {
     "name": "stdout",
     "output_type": "stream",
     "text": [
      "1.2342\n",
      "0.8607999999999993\n"
     ]
    }
   ],
   "source": [
    "def y(v0,t):\n",
    "    g = 9.81                   # Acceleration of gravity\n",
    "    return v0*t - 0.5*g*t**2\n",
    "\n",
    "v0 = 5                         # Initial velocity\n",
    "\n",
    "time = 0.6                     # Just pick one point in time\n",
    "print(y(v0,time))\n",
    "time = 0.8                     # Pick another point in time\n",
    "print(y(v0,time))"
   ]
  },
  {
   "cell_type": "markdown",
   "metadata": {
    "slideshow": {
     "slide_type": "slide"
    }
   },
   "source": [
    "- **The Function Definition**\n",
    "\n",
    "When Python reads this program from the top, it takes the code from the line with `def`, to the line with `return`, to be the *definition* of a\n",
    "function by the name $y$. Note that this function (or *any* function for that matter) is *not* executed until it is *called*.\n",
    "\n",
    "- **Calling the Function**\n",
    "\n",
    "When the functionis called the first time, the values of `v0(5)` and `time (0.6)` are transferred to the `y` function such that, in the function, `v0 = 5` and `t = 0.6`. Thereafter, Python executes the function line by line. In the final line return `v0*t - 0.5*g*t**2`, the expression `v0*t - 0.5*g*t**2` is computed, resulting in a number which is “returned” to replace `y(v0, time)` in the calling code. \n",
    "\n",
    "- **Variable Names in Function Calls**\n",
    "\n",
    "Observethat,when *calling* the function `y`,the *time* was contained in the variable `time`, whereas the corresponding input variable (called a *parameter*) in the function `y` had the name `t`.\n",
    "\n",
    "In general, variable names in function calls *do not have to* be the same as the corresponding names in the function definition.\n",
    "    "
   ]
  },
  {
   "cell_type": "markdown",
   "metadata": {
    "slideshow": {
     "slide_type": "slide"
    }
   },
   "source": [
    "## Characteristics of a Function Definition\n",
    "\n",
    "**Function Structure** We may now write up a more general form of a Python function as\n",
    "\n",
    "```python\n",
    "def function_name(p1, p2, p3=default_3, p4=default_4, ...):    # function header\n",
    "    \"\"\"This is a docstring\"\"\"          # ...in function body\n",
    "    <code line>                        # ...in function body\n",
    "    <code line>                        # ...in function body\n",
    "    ……\n",
    "    return result_1,result_2, ...      # last line in function body\n",
    "#First line after function definition    \n",
    "```\n",
    "Positional Parameters and Keyword Parameters:\n",
    "\n",
    "- When input parameters are listed on the form above, they are referred to as **positional parameters**. Another kind of function header that you often will deal with, is one which allows default values to be given to some, or all, of the input parameters.In this case, the two first parameters are positional, whereas p3 and p4 are known as **keyword parameters**.\n",
    "\n",
    "- However, positional parameters must always be listed *before* keyword parameters (as shown in the header above).\n",
    "- Note that there should be no space to each side of = when specifying keyword parameters."
   ]
  },
  {
   "cell_type": "code",
   "execution_count": 4,
   "metadata": {
    "slideshow": {
     "slide_type": "subslide"
    }
   },
   "outputs": [
    {
     "name": "stdout",
     "output_type": "stream",
     "text": [
      "1.2342\n",
      "-119.625\n",
      "1.2342\n",
      "1.2342\n",
      "1.2342\n"
     ]
    }
   ],
   "source": [
    "print(y(5, 0.6)) # works fine\n",
    "print(y(0.6, 5))# No error message, but wrong result!\n",
    "\n",
    "print(y(v0=5,t=0.6))# works fine\n",
    "print(y(t=0.6,v0=5))# order switched, works fine with keywords!\n",
    "\n",
    "v0=5\n",
    "print(y(v0,t=0.6))# works fine\n",
    "#print(y(t=0.6,v0))  gives syntax error!"
   ]
  },
  {
   "cell_type": "markdown",
   "metadata": {
    "slideshow": {
     "slide_type": "slide"
    }
   },
   "source": [
    " ## Local Versus Global Variables\n",
    "- In our program ball_function.py, we have defined the variable $g$ inside the function $y$. This makes $g$ a *local variable*, meaning that it is only known *inside* the function.\n",
    "- The variables `v0` and `time` are defined outside the function and are therefore *global variables*. They are known both outside and inside the function.\n",
    "- If you want to change the value of a *global variable* inside a function, you need to declare the variable as global inside the function."
   ]
  },
  {
   "cell_type": "markdown",
   "metadata": {
    "slideshow": {
     "slide_type": "slide"
    }
   },
   "source": [
    "## A Function with Two Return Values\n",
    "According to Newton’s laws (when air resistance is negligible), the vertical position is given by $y(t) = v_{0y} t − 0.5gt^2$ and, simultaneously, the horizontal position by $x(t) = v_{0x}t$. We can include both these expressions in a new version of our program that finds the position of the ball at a given time:"
   ]
  },
  {
   "cell_type": "code",
   "execution_count": 10,
   "metadata": {},
   "outputs": [
    {
     "name": "stdout",
     "output_type": "stream",
     "text": [
      "Horizontal position:3, Vertical position: 1.8342\n",
      "3,1.8342 \n"
     ]
    }
   ],
   "source": [
    "def xy(v0x, v0y, t):\n",
    "    \"\"\"Compute horizontal and certical positions at time t\"\"\"\n",
    "    g = 9.81                             # acceleration of gravity\n",
    "    return v0x*t, v0y*t - 0.5*g*t**2\n",
    "\n",
    "v_init_x = 5                             # initial velocity in x               \n",
    "v_init_y = 6                             # initial velocity in y\n",
    "time = 0.6                               # chosen point in time\n",
    "\n",
    "x,y = xy(v_init_x, v_init_y, time)\n",
    "a,b = xy(v0x=5, v0y=6, t=0.6)\n",
    "print('Horizontal position:{:g}, Vertical position: {:g}'.format(x,y))\n",
    "print('%g,%g '% (a,b))"
   ]
  },
  {
   "cell_type": "markdown",
   "metadata": {
    "slideshow": {
     "slide_type": "slide"
    }
   },
   "source": [
    "## Calling a Function Defined with Keyword Parameters\n",
    "Let us adjust the previous program slightly, introducing keyword parameters in the definition. For example, if we use 0.6 as a default value for t, and aim to get the same printout as before, the program reads"
   ]
  },
  {
   "cell_type": "code",
   "execution_count": 7,
   "metadata": {},
   "outputs": [
    {
     "name": "stdout",
     "output_type": "stream",
     "text": [
      "Horizontal position:3\n",
      "Vertical position:1.8342\n"
     ]
    }
   ],
   "source": [
    "def xy(v0x, v0y, t=0.6):\n",
    "    \"\"\"Compute horizontal and certical positions at time t\"\"\"\n",
    "    g = 9.81                             # acceleration of gravity\n",
    "    return v0x*t, v0y*t - 0.5*g*t**2\n",
    "\n",
    "v_init_x = 5                             # initial velocity in x\n",
    "v_init_y = 6                             # initial velocity in y\n",
    "\n",
    "x,y = xy(v_init_x,v_init_y)\n",
    "print('Horizontal position:{:g}\\nVertical position:{:g}'.format(x,y))\n"
   ]
  },
  {
   "cell_type": "markdown",
   "metadata": {
    "slideshow": {
     "slide_type": "slide"
    }
   },
   "source": [
    "## A Function with Another Function as Input Argument\n",
    "Functions are straightforwardly passed as arguments to other functions. This is illustrated by the following script function_as_argument.py, where a function sums up function values of another function:"
   ]
  },
  {
   "cell_type": "code",
   "execution_count": 12,
   "metadata": {},
   "outputs": [
    {
     "name": "stdout",
     "output_type": "stream",
     "text": [
      "Sum with f becomes 6\n",
      "Sum with g becomes 14\n"
     ]
    }
   ],
   "source": [
    "def f(x):\n",
    "    return x\n",
    "\n",
    "def g(x):\n",
    "    return x**2\n",
    "\n",
    "def sum_function_values(f, start, stop):\n",
    "    \"\"\"Sum up function values for integer arguments as\n",
    "    f(start) + f(start+1) + f(start+2) + ... +f(stop)\"\"\"\n",
    "    S = 0\n",
    "    for i in range(start, stop+1, 1):\n",
    "        S = S + f(i)\n",
    "    return S\n",
    "\n",
    "print('Sum with f becomes {:g}'.format(sum_function_values(f, 1, 3)))\n",
    "print('Sum with g becomes {:g}'.format(sum_function_values(g, 1, 3)))"
   ]
  },
  {
   "cell_type": "markdown",
   "metadata": {
    "slideshow": {
     "slide_type": "slide"
    }
   },
   "source": [
    "## Lambda Functions\n",
    "A one-line function may be defined in a compact way, as a so-called *lambda function*. This may be illustrated as\n",
    "```python\n",
    "g = lambda x: x**2\n",
    "\n",
    "#... which is equivalent to:\n",
    "def g(x):\n",
    "    return x**2\n",
    "```\n",
    "\n",
    "A more general form of a lambda function is thus\n",
    "```python\n",
    "function_name = lambda arg1, arg2, ... : <some_expression>\n",
    "\n",
    "# ... which is equivalent to:\n",
    "def function_name(arg1, arg2, ...):\n",
    "    return <some_expression>\n",
    "```"
   ]
  },
  {
   "cell_type": "markdown",
   "metadata": {
    "slideshow": {
     "slide_type": "slide"
    }
   },
   "source": [
    "## A Function with Several Return Statements\n",
    "It is possible to have several `return` statements in a function, as illustrated here:"
   ]
  },
  {
   "cell_type": "code",
   "execution_count": 14,
   "metadata": {},
   "outputs": [
    {
     "name": "stdout",
     "output_type": "stream",
     "text": [
      "x is a negative\n"
     ]
    }
   ],
   "source": [
    "def check_sign(x):\n",
    "    if x > 0:\n",
    "        return \"x is a positive\"\n",
    "    elif x < 0:\n",
    "        return \"x is a negative\"\n",
    "    else:\n",
    "        return \"x is zero\"\n",
    "print('{:s}'.format(check_sign(-1)))"
   ]
  },
  {
   "cell_type": "markdown",
   "metadata": {
    "slideshow": {
     "slide_type": "slide"
    }
   },
   "source": [
    "#  Programming as a Step-Wise Strategy\n",
    "\n",
    "## Making a Times Tables Test\n",
    "\n",
    "- The Programming Task: Write a program that tests the user’s knowledge of the times tables from 1 to 10. \n",
    "- Breaking up the Task:  In this test, there will be 10 different questions for the 1 times table, 10 different questions for the 2 times table, and so on, giving a 100 different questions in total. We decide to ask each of those questions one time only. There are quite many questions, so we also allow the user to quit with Ctrl-c (i.e., hold the Ctrl key down while typing c) before reaching the end.\n",
    "\n",
    "```python\n",
    "for a in [1, 2, ..., 10]:\n",
    "    for b in [1, 2, ..., 10]:\n",
    "        < ask user: a*b = ? >\n",
    "        < check answer, give points >\n",
    "```"
   ]
  },
  {
   "cell_type": "markdown",
   "metadata": {
    "slideshow": {
     "slide_type": "slide"
    }
   },
   "source": [
    "## The 1st Version of Our Code\n",
    "- 1st version--has no dialogue with the user. It contains the double loop construction and two functions, ask_user and points. The function ask_user will(in later versions) ask the user for an answer to a*b, while points (in later versions) will check that answer, inform the user (correct or not), and give a score (1 point if correct). To simplify, the function bodies of these two functions will deliberately not be coded for this version of the program. Rather, we simply insert a print command in each, essentially printing the arguments provided in\n",
    "the call, to confirm that the function calls work as planned."
   ]
  },
  {
   "cell_type": "code",
   "execution_count": 15,
   "metadata": {
    "slideshow": {
     "slide_type": "subslide"
    }
   },
   "outputs": [
    {
     "name": "stdout",
     "output_type": "stream",
     "text": [
      "\n",
      "*** Welcome to the times table test! ***       \n",
      "           (to stop:ctrl-c)\n",
      "1*1 = \n",
      "1*1 = 1\n",
      "Your score is now: 1\n",
      "1*2 = \n",
      "1*2 = 2\n",
      "Your score is now: 2\n",
      "2*1 = \n",
      "2*1 = 2\n",
      "Your score is now: 3\n",
      "2*2 = \n",
      "2*2 = 4\n",
      "Your score is now: 4\n",
      "\n",
      "Finished! \n",
      "Your final socre: 4  (max: 4)\n"
     ]
    }
   ],
   "source": [
    "def ask_user(a, b):                                     # preliminary\n",
    "    \"\"\"get answer from user: a*b = ?\"\"\"\n",
    "    print('{:d}*{:d} = '.format(a, b))\n",
    "    return a*b\n",
    "\n",
    "def points(a, b, answer_given):                         # preliminary  \n",
    "    \"\"\"Check answer. Correct: 1 point, else 0\"\"\"\n",
    "    print('{:d}*{:d} = {:d}'.format(a, b, a*b))\n",
    "    return 1\n",
    "\n",
    "print('\\n*** Welcome to the times table test! ***\\\n",
    "       \\n           (to stop:ctrl-c)')\n",
    "\n",
    "# Ask user for a*b, ... a, b are in [1, N]\n",
    "N = 2\n",
    "score = 0\n",
    "for i in range(1, N+1, 1):\n",
    "    for j in range(1, N+1, 1):\n",
    "        answer_given = ask_user(i, j)\n",
    "        score = score + points(i, j, answer_given)\n",
    "        print('Your score is now: {:d}'.format(score))\n",
    "        \n",
    "print('\\nFinished! \\nYour final socre: {:d}  (max: {:d})'\\\n",
    "      .format(score, N*N))        "
   ]
  },
  {
   "cell_type": "markdown",
   "metadata": {
    "slideshow": {
     "slide_type": "slide"
    }
   },
   "source": [
    "## The 2nd Version of Our Code\n",
    "- 2nd version - asking and checking done systematically with predictable questions (first the 1 times table, then the 2 times table, etc.)."
   ]
  },
  {
   "cell_type": "code",
   "execution_count": 1,
   "metadata": {
    "slideshow": {
     "slide_type": "subslide"
    }
   },
   "outputs": [
    {
     "name": "stdout",
     "output_type": "stream",
     "text": [
      "\n",
      "*** Welcome to the times table test! ***       \n",
      "           (To stop:ctrl-c)\n",
      "1*1 = 1\n",
      "correct!\n",
      "Your score is now: 1\n",
      "1*2 = 6\n",
      "Sorry! Correct answer was: 2\n",
      "Your score is now: 1\n",
      "2*1 = 7\n",
      "Sorry! Correct answer was: 2\n",
      "Your score is now: 1\n",
      "2*2 = 4\n",
      "correct!\n",
      "Your score is now: 2\n",
      "\n",
      "Finished! \n",
      "Your final socre: 2  (max: 4)\n"
     ]
    }
   ],
   "source": [
    "def ask_user(a,b):                               # preliminary\n",
    "    \"\"\"get answer from user: a*b = ?\"\"\"\n",
    "    question = '{:d}*{:d} = '.format(a,b)\n",
    "    answer = int(input(question))\n",
    "    return answer\n",
    "\n",
    "def points(a, b, answer_given):\n",
    "    \"\"\"Check answer. Correct: 1 point, else 0\"\"\"\n",
    "    true_answer = a*b\n",
    "    if answer_given == true_answer:\n",
    "        print('correct!')\n",
    "        return 1\n",
    "    else:\n",
    "        print('Sorry! Correct answer was: {:d}'.format(true_answer))\n",
    "        return 0\n",
    "    \n",
    "print('\\n*** Welcome to the times table test! ***\\\n",
    "       \\n           (To stop:ctrl-c)')\n",
    "\n",
    "# Ask user for a*b, ... a, b are in [1, N]\n",
    "N=2\n",
    "score=0\n",
    "for i in range(1, N+1, 1):\n",
    "    for j in range(1, N+1, 1):\n",
    "        user_answer = ask_user(i, j)\n",
    "        score = score + points(i, j, user_answer)\n",
    "        print('Your score is now: {:d}'.format(score))\n",
    "        \n",
    "print('\\nFinished! \\nYour final socre: {:d}  (max: {:d})'\\\n",
    "      .format(score, N*N))   "
   ]
  },
  {
   "cell_type": "markdown",
   "metadata": {
    "slideshow": {
     "slide_type": "slide"
    }
   },
   "source": [
    "##  The 3rd Version of Our Code\n",
    "- 3rd-version: asking and checking done with randomized questions. How to implement this randomization, will be kept as an open question till we get there."
   ]
  },
  {
   "cell_type": "code",
   "execution_count": 2,
   "metadata": {
    "slideshow": {
     "slide_type": "subslide"
    }
   },
   "outputs": [
    {
     "name": "stdout",
     "output_type": "stream",
     "text": [
      "\n",
      "*** Welcome to the times tables test! ***     \n",
      "          (To stop: ctrl-c)\n",
      "3*8 = 24\n",
      "correct!\n",
      "Your score is now: 1\n",
      "3*9 = 45\n",
      "Soory! Correct answer was: 27\n",
      "Your score is now: 1\n",
      "3*7 = 21\n",
      "correct!\n",
      "Your score is now: 2\n",
      "2*5 = ten\n"
     ]
    },
    {
     "ename": "ValueError",
     "evalue": "invalid literal for int() with base 10: 'ten'",
     "output_type": "error",
     "traceback": [
      "\u001b[0;31m---------------------------------------------------------------------------\u001b[0m",
      "\u001b[0;31mValueError\u001b[0m                                Traceback (most recent call last)",
      "\u001b[0;32m<ipython-input-2-8c1168e49043>\u001b[0m in \u001b[0;36m<module>\u001b[0;34m\u001b[0m\n\u001b[1;32m     28\u001b[0m     \u001b[0ma\u001b[0m \u001b[0;34m=\u001b[0m \u001b[0;34m(\u001b[0m\u001b[0mindex\u001b[0m\u001b[0;34m[\u001b[0m\u001b[0mi\u001b[0m\u001b[0;34m]\u001b[0m\u001b[0;34m//\u001b[0m\u001b[0mN\u001b[0m\u001b[0;34m)\u001b[0m \u001b[0;34m+\u001b[0m \u001b[0;36m1\u001b[0m\u001b[0;34m\u001b[0m\u001b[0;34m\u001b[0m\u001b[0m\n\u001b[1;32m     29\u001b[0m     \u001b[0mb\u001b[0m \u001b[0;34m=\u001b[0m \u001b[0mindex\u001b[0m\u001b[0;34m[\u001b[0m\u001b[0mi\u001b[0m\u001b[0;34m]\u001b[0m\u001b[0;34m%\u001b[0m\u001b[0;36m10\u001b[0m \u001b[0;34m+\u001b[0m \u001b[0;36m1\u001b[0m\u001b[0;34m\u001b[0m\u001b[0;34m\u001b[0m\u001b[0m\n\u001b[0;32m---> 30\u001b[0;31m     \u001b[0muser_answer\u001b[0m \u001b[0;34m=\u001b[0m \u001b[0mask_user\u001b[0m\u001b[0;34m(\u001b[0m\u001b[0ma\u001b[0m\u001b[0;34m,\u001b[0m \u001b[0mb\u001b[0m\u001b[0;34m)\u001b[0m\u001b[0;34m\u001b[0m\u001b[0;34m\u001b[0m\u001b[0m\n\u001b[0m\u001b[1;32m     31\u001b[0m     \u001b[0mscore\u001b[0m \u001b[0;34m=\u001b[0m \u001b[0mscore\u001b[0m \u001b[0;34m+\u001b[0m \u001b[0mpoints\u001b[0m\u001b[0;34m(\u001b[0m\u001b[0ma\u001b[0m\u001b[0;34m,\u001b[0m \u001b[0mb\u001b[0m\u001b[0;34m,\u001b[0m \u001b[0muser_answer\u001b[0m\u001b[0;34m)\u001b[0m\u001b[0;34m\u001b[0m\u001b[0;34m\u001b[0m\u001b[0m\n\u001b[1;32m     32\u001b[0m     \u001b[0mprint\u001b[0m\u001b[0;34m(\u001b[0m\u001b[0;34m'Your score is now: {:d}'\u001b[0m\u001b[0;34m.\u001b[0m\u001b[0mformat\u001b[0m\u001b[0;34m(\u001b[0m\u001b[0mscore\u001b[0m\u001b[0;34m)\u001b[0m\u001b[0;34m)\u001b[0m\u001b[0;34m\u001b[0m\u001b[0;34m\u001b[0m\u001b[0m\n",
      "\u001b[0;32m<ipython-input-2-8c1168e49043>\u001b[0m in \u001b[0;36mask_user\u001b[0;34m(a, b)\u001b[0m\n\u001b[1;32m      4\u001b[0m     \u001b[0;34m\"\"\"get answer from user: a*b = ?\"\"\"\u001b[0m\u001b[0;34m\u001b[0m\u001b[0;34m\u001b[0m\u001b[0m\n\u001b[1;32m      5\u001b[0m     \u001b[0mquestion\u001b[0m \u001b[0;34m=\u001b[0m \u001b[0;34m'{:d}*{:d} = '\u001b[0m\u001b[0;34m.\u001b[0m\u001b[0mformat\u001b[0m\u001b[0;34m(\u001b[0m\u001b[0ma\u001b[0m\u001b[0;34m,\u001b[0m \u001b[0mb\u001b[0m\u001b[0;34m)\u001b[0m\u001b[0;34m\u001b[0m\u001b[0;34m\u001b[0m\u001b[0m\n\u001b[0;32m----> 6\u001b[0;31m     \u001b[0manswer\u001b[0m \u001b[0;34m=\u001b[0m \u001b[0mint\u001b[0m\u001b[0;34m(\u001b[0m\u001b[0minput\u001b[0m\u001b[0;34m(\u001b[0m\u001b[0mquestion\u001b[0m\u001b[0;34m)\u001b[0m\u001b[0;34m)\u001b[0m\u001b[0;34m\u001b[0m\u001b[0;34m\u001b[0m\u001b[0m\n\u001b[0m\u001b[1;32m      7\u001b[0m     \u001b[0;32mreturn\u001b[0m \u001b[0manswer\u001b[0m\u001b[0;34m\u001b[0m\u001b[0;34m\u001b[0m\u001b[0m\n\u001b[1;32m      8\u001b[0m \u001b[0;34m\u001b[0m\u001b[0m\n",
      "\u001b[0;31mValueError\u001b[0m: invalid literal for int() with base 10: 'ten'"
     ]
    }
   ],
   "source": [
    "import numpy as np\n",
    "\n",
    "def ask_user(a, b):\n",
    "    \"\"\"get answer from user: a*b = ?\"\"\"\n",
    "    question = '{:d}*{:d} = '.format(a, b)\n",
    "    answer = int(input(question))\n",
    "    return answer\n",
    "\n",
    "def points(a, b, answer_given):\n",
    "    \"\"\"Check answer. Correct: 1 points, else 0\"\"\"\n",
    "    true_answer = a*b\n",
    "    if answer_given == true_answer:\n",
    "        print('correct!')\n",
    "        return 1\n",
    "    else:\n",
    "        print('Soory! Correct answer was: {:d}'.format(true_answer))\n",
    "        return 0\n",
    " \n",
    "print('\\n*** Welcome to the times tables test! ***\\\n",
    "     \\n          (To stop: ctrl-c)')\n",
    "\n",
    "N = 3\n",
    "NN = N*N\n",
    "score = 0\n",
    "index = list(range(0, NN, 1))\n",
    "np.random.shuffle(index)              # randomize order of integers in index\n",
    "for i in range(0, NN, 1):\n",
    "    a = (index[i]//N) + 1\n",
    "    b = index[i]%10 + 1\n",
    "    user_answer = ask_user(a, b)\n",
    "    score = score + points(a, b, user_answer)\n",
    "    print('Your score is now: {:d}'.format(score))\n",
    "    \n",
    "print('\\nFinished! \\nYour final socre: {:d}   (max: {:d})'\\\n",
    "      .format(score, N*N))"
   ]
  },
  {
   "cell_type": "code",
   "execution_count": null,
   "metadata": {},
   "outputs": [],
   "source": []
  },
  {
   "cell_type": "code",
   "execution_count": null,
   "metadata": {},
   "outputs": [],
   "source": []
  },
  {
   "cell_type": "code",
   "execution_count": null,
   "metadata": {},
   "outputs": [],
   "source": []
  },
  {
   "cell_type": "code",
   "execution_count": null,
   "metadata": {},
   "outputs": [],
   "source": [
    "\n"
   ]
  },
  {
   "cell_type": "code",
   "execution_count": null,
   "metadata": {},
   "outputs": [],
   "source": []
  },
  {
   "cell_type": "code",
   "execution_count": null,
   "metadata": {},
   "outputs": [],
   "source": []
  },
  {
   "cell_type": "code",
   "execution_count": null,
   "metadata": {},
   "outputs": [],
   "source": []
  },
  {
   "cell_type": "code",
   "execution_count": null,
   "metadata": {},
   "outputs": [],
   "source": []
  },
  {
   "cell_type": "code",
   "execution_count": null,
   "metadata": {},
   "outputs": [],
   "source": []
  },
  {
   "cell_type": "code",
   "execution_count": null,
   "metadata": {},
   "outputs": [],
   "source": []
  }
 ],
 "metadata": {
  "celltoolbar": "幻灯片",
  "kernelspec": {
   "display_name": "Python 3",
   "language": "python",
   "name": "python3"
  },
  "language_info": {
   "codemirror_mode": {
    "name": "ipython",
    "version": 3
   },
   "file_extension": ".py",
   "mimetype": "text/x-python",
   "name": "python",
   "nbconvert_exporter": "python",
   "pygments_lexer": "ipython3",
   "version": "3.7.3"
  }
 },
 "nbformat": 4,
 "nbformat_minor": 5
}
