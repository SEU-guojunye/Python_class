{
 "cells": [
  {
   "cell_type": "markdown",
   "metadata": {
    "slideshow": {
     "slide_type": "slide"
    }
   },
   "source": [
    "# Some More Python Essentials"
   ]
  },
  {
   "cell_type": "markdown",
   "metadata": {
    "slideshow": {
     "slide_type": "slide"
    }
   },
   "source": [
    "# Lists and Tuples: Alternatives to Arrays\n",
    "We have seen that a group of numbers may be stored in an array that we may treat as a whole, or element by element. In Python, there is another way of organizing data that actually is much used, at least in non-numerical contexts, and that is a construction called list."
   ]
  },
  {
   "cell_type": "markdown",
   "metadata": {
    "slideshow": {
     "slide_type": "slide"
    }
   },
   "source": [
    "## Some Properties of Lists\n",
    "A list is quite similar to an array in many ways, but there are pros and cons to consider. \n",
    "- The number of elements in a list is allowed to change, whereas arrays have a fixed length that must be known at the time of memory allocation.\n",
    "- Elements in a list can be of different type, so you may mix, e.g., integers, floats and strings, whereas elements in an array must be of the same type, lists provide more flexibility than do arrays. \n",
    "- Arrays give faster computations than lists, making arrays our prime choice unless the flexibility of lists is needed.\n",
    "- Arrays also require less memory use and there is a lot of ready-made code for various mathematical operations. Vectorization requires arrays to be used.\n",
    "    \n",
    "A list has elements that we may use for computations, just like we can with array elements. As with an array, we may find the number of elements in a list with the function len (i.e., we find the “length” of the list), and with the array function from numpy, we may create an array from an existing list:"
   ]
  },
  {
   "cell_type": "code",
   "execution_count": 1,
   "metadata": {
    "slideshow": {
     "slide_type": "slide"
    }
   },
   "outputs": [],
   "source": [
    "x = list(range(6,11,1))"
   ]
  },
  {
   "cell_type": "code",
   "execution_count": 2,
   "metadata": {
    "slideshow": {
     "slide_type": "-"
    }
   },
   "outputs": [
    {
     "data": {
      "text/plain": [
       "[6, 7, 8, 9, 10]"
      ]
     },
     "execution_count": 2,
     "metadata": {},
     "output_type": "execute_result"
    }
   ],
   "source": [
    "x"
   ]
  },
  {
   "cell_type": "code",
   "execution_count": 3,
   "metadata": {
    "slideshow": {
     "slide_type": "-"
    }
   },
   "outputs": [
    {
     "data": {
      "text/plain": [
       "6"
      ]
     },
     "execution_count": 3,
     "metadata": {},
     "output_type": "execute_result"
    }
   ],
   "source": [
    "x[0]"
   ]
  },
  {
   "cell_type": "code",
   "execution_count": 4,
   "metadata": {
    "slideshow": {
     "slide_type": "-"
    }
   },
   "outputs": [
    {
     "data": {
      "text/plain": [
       "10"
      ]
     },
     "execution_count": 4,
     "metadata": {},
     "output_type": "execute_result"
    }
   ],
   "source": [
    "x[4]"
   ]
  },
  {
   "cell_type": "code",
   "execution_count": 5,
   "metadata": {
    "slideshow": {
     "slide_type": "-"
    }
   },
   "outputs": [
    {
     "data": {
      "text/plain": [
       "13"
      ]
     },
     "execution_count": 5,
     "metadata": {},
     "output_type": "execute_result"
    }
   ],
   "source": [
    "x[0]+x[1]"
   ]
  },
  {
   "cell_type": "code",
   "execution_count": 6,
   "metadata": {
    "slideshow": {
     "slide_type": "slide"
    }
   },
   "outputs": [],
   "source": [
    "import numpy as np"
   ]
  },
  {
   "cell_type": "code",
   "execution_count": 7,
   "metadata": {
    "slideshow": {
     "slide_type": "-"
    }
   },
   "outputs": [],
   "source": [
    "y = np.array(x)   # create array y      "
   ]
  },
  {
   "cell_type": "code",
   "execution_count": 8,
   "metadata": {
    "slideshow": {
     "slide_type": "-"
    }
   },
   "outputs": [
    {
     "data": {
      "text/plain": [
       "array([ 6,  7,  8,  9, 10])"
      ]
     },
     "execution_count": 8,
     "metadata": {},
     "output_type": "execute_result"
    }
   ],
   "source": [
    "y"
   ]
  },
  {
   "cell_type": "code",
   "execution_count": 9,
   "metadata": {
    "slideshow": {
     "slide_type": "-"
    }
   },
   "outputs": [
    {
     "data": {
      "text/plain": [
       "5"
      ]
     },
     "execution_count": 9,
     "metadata": {},
     "output_type": "execute_result"
    }
   ],
   "source": [
    "len(x)"
   ]
  },
  {
   "cell_type": "code",
   "execution_count": 10,
   "metadata": {
    "slideshow": {
     "slide_type": "-"
    }
   },
   "outputs": [
    {
     "data": {
      "text/plain": [
       "5"
      ]
     },
     "execution_count": 10,
     "metadata": {},
     "output_type": "execute_result"
    }
   ],
   "source": [
    "len(y)"
   ]
  },
  {
   "cell_type": "markdown",
   "metadata": {
    "slideshow": {
     "slide_type": "slide"
    }
   },
   "source": [
    "A list may also be created by simple writing, giving a list where `x[0]` contains the string `hello`, `x[1]` contains the integer 4, etc. We may add and delete elements anywhere in a list:\n",
    "```python\n",
    "x = ['hello',4,3.14,6]\n",
    "x.insert(0,-2)   # x then becomes [-2, 'hello', 4, 3.14, 6]\n",
    "del x[3]         # x then becomes [-2, 'hello', 4, 6]\n",
    "x.append(3.14)   # x then becomes [-2, 'hello', 4, 6, 3.14]\n",
    "```\n",
    "Note the ways of writing the different operations here. Using `append()` will always increase the list at the end. If you like, you may create an empty list as `x = []` before you enter a loop which appends element by element. Note that there are many more operations on lists possible than shown here."
   ]
  },
  {
   "cell_type": "markdown",
   "metadata": {
    "slideshow": {
     "slide_type": "slide"
    }
   },
   "source": [
    "## List and for Loops\n",
    "Previously, we saw how a `for` loop may run over array elements. When we want to do the same with a list in Python, we may do it simply like:\n",
    "```python\n",
    "x = ['hello',4,3.14,6]\n",
    "print('The elements of the lists x:\\n')\n",
    "for e in x:\n",
    "    print(e)\n",
    "```\n",
    "We observe that $e$ runs over the elements of $x$ directly, avoiding the need for indexing. Be aware, however, that when loops are written like this, you can not change any element in $x$ by “changing” $e$. That is, writing `e += 2` will not change anything in $x$, since e can only be used to read (as opposed to overwrite) the list elements. Running the code gives the output\n",
    "```python\n",
    "The elements of the list x:\n",
    "     \n",
    "hello\n",
    "4\n",
    "3.14\n",
    "6\n",
    "```"
   ]
  },
  {
   "cell_type": "markdown",
   "metadata": {
    "slideshow": {
     "slide_type": "slide"
    }
   },
   "source": [
    "## List Comprehension\n",
    "There is a special construct in Python that allows you to run through all elements of a list, do the same operation on each, and store the new elements in another list. It is referred to as *list comprehension* and may be demonstrated as follows:"
   ]
  },
  {
   "cell_type": "code",
   "execution_count": 11,
   "metadata": {},
   "outputs": [],
   "source": [
    "L1 = [1,2,3,4]"
   ]
  },
  {
   "cell_type": "code",
   "execution_count": 12,
   "metadata": {},
   "outputs": [],
   "source": [
    "L2 = [e*10 for e in L1]"
   ]
  },
  {
   "cell_type": "code",
   "execution_count": 13,
   "metadata": {},
   "outputs": [
    {
     "data": {
      "text/plain": [
       "[10, 20, 30, 40]"
      ]
     },
     "execution_count": 13,
     "metadata": {},
     "output_type": "execute_result"
    }
   ],
   "source": [
    "L2"
   ]
  },
  {
   "cell_type": "markdown",
   "metadata": {
    "slideshow": {
     "slide_type": "slide"
    }
   },
   "source": [
    "So, we get a new list by the name L2, with the elements 10, 20, 30 and 40, in that order. Notice the syntax within the brackets for L2, e\\*10 for e in L1 signals that e is to successively be each of the list elements in L1, and for each e, create the next element in L2 by doing e*10. More generally, the syntax may be written as\n",
    "```python\n",
    "L2 = [E(e) for e in L1]\n",
    "```  \n",
    "where E(e) means some expression involving e."
   ]
  },
  {
   "cell_type": "markdown",
   "metadata": {
    "slideshow": {
     "slide_type": "slide"
    }
   },
   "source": [
    "## Some Properties of Tuples\n",
    "We should also briefly mention about *tuples*, which are very much like lists, the main difference being that tuples cannot be changed. To a freshman, it may seem strange that such “constant lists” could ever be preferable over lists. However, the property of being constant is a good safeguard against unintentional changes. Also, it is quicker for Python to handle data in a tuple than in a list, which contributes to faster code. With the data from above, we may create a tuple and print the content by writing\n",
    "```python\n",
    "x = ('hello', 4, 3.14, 6)\n",
    "print('The elements of the tuple x:\\n')\n",
    "for e in x:\n",
    "    print(e)\n",
    "```\n",
    "Trying `insert` or `append` for the tuple gives an error message (because it cannot be changed), stating that the tuple object has no such attribute."
   ]
  },
  {
   "cell_type": "markdown",
   "metadata": {
    "slideshow": {
     "slide_type": "slide"
    }
   },
   "source": [
    "# Expection Handing\n",
    "An *exception* is an error that is detected during program execution. When we were asked about $3*2$, and replied with the word six in stead of the *number* 6, we caused the program to stop and report about some ```ValueError```. The program would have responded in the same way, for example, if we had rather given 6.0 (i.e., a float) as input, or just pressed enter (without typing anything else). \n",
    "  \n",
    "Our code could only handle \"expected\" input from the user, i.e., an integer as an answer to ```a*b```. It would have been much better, however, if it could account also for \"unexpected\" input. If possible, we would prefer our program not to stop (or \"crash\") unexpectedly for some kind of input, it should just handle it, get back on track, and keep on running. \n",
    "  \n"
   ]
  },
  {
   "cell_type": "code",
   "execution_count": 14,
   "metadata": {
    "scrolled": true
   },
   "outputs": [
    {
     "ename": "SyntaxError",
     "evalue": "invalid syntax (<ipython-input-14-9bf3d452bb2a>, line 1)",
     "output_type": "error",
     "traceback": [
      "\u001b[0;36m  File \u001b[0;32m\"<ipython-input-14-9bf3d452bb2a>\"\u001b[0;36m, line \u001b[0;32m1\u001b[0m\n\u001b[0;31m    for i in range(10)\u001b[0m\n\u001b[0m                      ^\u001b[0m\n\u001b[0;31mSyntaxError\u001b[0m\u001b[0;31m:\u001b[0m invalid syntax\n"
     ]
    }
   ],
   "source": [
    "for i in range(10)"
   ]
  },
  {
   "cell_type": "code",
   "execution_count": 15,
   "metadata": {},
   "outputs": [
    {
     "data": {
      "text/plain": [
       "0.4166666666666667"
      ]
     },
     "execution_count": 15,
     "metadata": {},
     "output_type": "execute_result"
    }
   ],
   "source": [
    "def f(x):\n",
    "    return 1/x\n",
    "\n",
    "f(2.4)"
   ]
  },
  {
   "cell_type": "code",
   "execution_count": 16,
   "metadata": {},
   "outputs": [
    {
     "ename": "ZeroDivisionError",
     "evalue": "division by zero",
     "output_type": "error",
     "traceback": [
      "\u001b[0;31m---------------------------------------------------------------------------\u001b[0m",
      "\u001b[0;31mZeroDivisionError\u001b[0m                         Traceback (most recent call last)",
      "\u001b[0;32m<ipython-input-16-6bfbdbfff9c4>\u001b[0m in \u001b[0;36m<module>\u001b[0;34m\u001b[0m\n\u001b[0;32m----> 1\u001b[0;31m \u001b[0mf\u001b[0m\u001b[0;34m(\u001b[0m\u001b[0;36m0\u001b[0m\u001b[0;34m)\u001b[0m\u001b[0;34m\u001b[0m\u001b[0;34m\u001b[0m\u001b[0m\n\u001b[0m",
      "\u001b[0;32m<ipython-input-15-cf7f7c7fe0a1>\u001b[0m in \u001b[0;36mf\u001b[0;34m(x)\u001b[0m\n\u001b[1;32m      1\u001b[0m \u001b[0;32mdef\u001b[0m \u001b[0mf\u001b[0m\u001b[0;34m(\u001b[0m\u001b[0mx\u001b[0m\u001b[0;34m)\u001b[0m\u001b[0;34m:\u001b[0m\u001b[0;34m\u001b[0m\u001b[0;34m\u001b[0m\u001b[0m\n\u001b[0;32m----> 2\u001b[0;31m     \u001b[0;32mreturn\u001b[0m \u001b[0;36m1\u001b[0m\u001b[0;34m/\u001b[0m\u001b[0mx\u001b[0m\u001b[0;34m\u001b[0m\u001b[0;34m\u001b[0m\u001b[0m\n\u001b[0m\u001b[1;32m      3\u001b[0m \u001b[0;34m\u001b[0m\u001b[0m\n\u001b[1;32m      4\u001b[0m \u001b[0mf\u001b[0m\u001b[0;34m(\u001b[0m\u001b[0;36m2.4\u001b[0m\u001b[0;34m)\u001b[0m\u001b[0;34m\u001b[0m\u001b[0;34m\u001b[0m\u001b[0m\n",
      "\u001b[0;31mZeroDivisionError\u001b[0m: division by zero"
     ]
    }
   ],
   "source": [
    "f(0)"
   ]
  },
  {
   "cell_type": "code",
   "execution_count": 17,
   "metadata": {},
   "outputs": [
    {
     "ename": "NameError",
     "evalue": "name 'arange' is not defined",
     "output_type": "error",
     "traceback": [
      "\u001b[0;31m---------------------------------------------------------------------------\u001b[0m",
      "\u001b[0;31mNameError\u001b[0m                                 Traceback (most recent call last)",
      "\u001b[0;32m<ipython-input-17-9e5915af859e>\u001b[0m in \u001b[0;36m<module>\u001b[0;34m\u001b[0m\n\u001b[0;32m----> 1\u001b[0;31m \u001b[0ma\u001b[0m \u001b[0;34m=\u001b[0m \u001b[0marange\u001b[0m\u001b[0;34m(\u001b[0m\u001b[0;36m8.\u001b[0m\u001b[0;34m)\u001b[0m\u001b[0;34m\u001b[0m\u001b[0;34m\u001b[0m\u001b[0m\n\u001b[0m",
      "\u001b[0;31mNameError\u001b[0m: name 'arange' is not defined"
     ]
    }
   ],
   "source": [
    "a = arange(8.)"
   ]
  },
  {
   "cell_type": "markdown",
   "metadata": {
    "slideshow": {
     "slide_type": "slide"
    }
   },
   "source": [
    " ## 一些常见的内置异常及其含义\n",
    " \n",
    " 异常 | 描述 \n",
    " :----:|:----:\n",
    " IndexError | 索引越界\n",
    "KeyError| 引出未定义的字典健\n",
    " NameError| 未找到名称，例如未定义的变量\n",
    "ValueError| 不匹配的数值，例如在不匹配的数组上使用dot\n",
    "ImportError| 在引用中未找到模块或名称\n",
    "IOError | I/O操作失败，例如未找到文件\n",
    "LinAlgError| linalg模块中的错误，例如当使用奇异矩阵求解系统时"
   ]
  },
  {
   "cell_type": "markdown",
   "metadata": {
    "slideshow": {
     "slide_type": "slide"
    }
   },
   "source": [
    "To get the basic idea with exception handling, we will first explain the very simplest ```try-except``` construction, and also see how it could be used in the times tables program. It will only partly solve our problem, so we will immediately move on to a more refined ```try-except``` construction that will be just what we need.\n",
    "  \n",
    "Generally, a simple ```try-except``` construction may be put up as\n",
    "```python\n",
    "try:\n",
    "    <block of statement>   # ...in try block\n",
    "except:\n",
    "    <block of statement>   # ...in except block\n",
    "# indent reversed, i.e., first line after 'try-except' construction.\n",
    "```"
   ]
  },
  {
   "cell_type": "markdown",
   "metadata": {
    "slideshow": {
     "slide_type": "slide"
    }
   },
   "source": [
    "First, Python will *try* to execute the statements in the _try block_. In the case when these statements execute without trouble, the except block is skipped (like the else block in an ```if-else``` construction). However, if something goes wrong in the try block, an _exception_ is raised by Python, and execution jumps immediately to the except block without executing remaining statements of the try block.\n",
    "  \n",
    "It is up to the programmer what statements to have in the except block (as in the try block, of course), and that makes the programmer free to choose what will happen when an exception occurs! Sometimes, e.g., a program stop is desirable, sometimes not."
   ]
  },
  {
   "cell_type": "markdown",
   "metadata": {
    "slideshow": {
     "slide_type": "slide"
    }
   },
   "source": [
    "## The Fourth Version of Our Times Tables Program"
   ]
  },
  {
   "cell_type": "markdown",
   "metadata": {
    "slideshow": {
     "slide_type": "slide"
    }
   },
   "source": [
    "### Simple Use of try-except\n",
    "Let us now make use of this simple ```try-except``` construction in the main program of `times_tables_3.py`, as a first attempt to improve the program. Doing so, the code may appear as (we give the whole program for easy reference):\n",
    "```python\n",
    "import numpy as np\n",
    "\n",
    "def ask_user(a,b):\n",
    "    \"\"\"get answer from user: a*b=?\"\"\"\n",
    "    question = '{:d} * {:d} = '.format(a,b)\n",
    "    answer = int(input(question))\n",
    "    return answer\n",
    "\n",
    "def points(a,b,answer_given):\n",
    "    \"\"\"Check answer. Correct:1 point, else 0\"\"\"\n",
    "    true_answer = a*b\n",
    "    if answer_given == true_answer:\n",
    "        print('Correct!')\n",
    "        return 1\n",
    "    else:\n",
    "        print('Sorry! Correct answer was {:d}'.format(true_answer))\n",
    "        return 0\n",
    "```"
   ]
  },
  {
   "cell_type": "markdown",
   "metadata": {
    "slideshow": {
     "slide_type": "slide"
    }
   },
   "source": [
    "```python\n",
    "print('\\n*** Welcome to the times tables test! ***\\\n",
    "       \\n           (To stop: ctrl-c)')\n",
    "\n",
    "N = 10\n",
    "NN = N*N\n",
    "score = 0\n",
    "index = list(range(0,NN,1))\n",
    "np.random.shuffle(index)     # randomize order of integers in index\n",
    "for i in range(0,NN,1):\n",
    "    a = index[i]//N + 1\n",
    "    b = index[i]%N + 1\n",
    "    try:\n",
    "        user_answer = ask_user(a,b)\n",
    "    except:\n",
    "        print('You must give a valid number!')\n",
    "        continue           # jump to next loop iteration\n",
    "    \n",
    "    score = score + points(a,b,user_answer)\n",
    "    print('Your score is now:{:d}'.format(score))\n",
    "    \n",
    "print('\\nFinished! \\nYour final score:{:d}   (max:{:d})'.format(score,N*N))\n",
    "```"
   ]
  },
  {
   "cell_type": "markdown",
   "metadata": {
    "slideshow": {
     "slide_type": "slide"
    }
   },
   "source": [
    "During execution, Python will first try to execute ```user_answer = ask_user(a, b)``` in the try block. If it executes without trouble, the except block is skipped, and execution continues with the line ```score = score + points(a, b, user_answer)```. \n",
    "\n",
    "However, if an exception is raised, execution proceeds immediately with print and continue in the except block. If so, the assignment to ```user_answer``` does not take place. The ```continue``` statement makes us move to the next question, since it immediately brings execution to the next loop iteration, i.e.,```score``` is neither updated, nor printed, before \"leaving\" that iteration."
   ]
  },
  {
   "cell_type": "markdown",
   "metadata": {
    "slideshow": {
     "slide_type": "slide"
    }
   },
   "source": [
    "### A More Detailed Use of try-except\n",
    "We let the final version of our code (```times_tables_4.py```) serve as an example of a more refined ```try-except``` construction. It is still simple, but has what we need. We present this final version in its completeness, before explaining the details. All code changes are still confined to the main part of the program:\n",
    "```python\n",
    "import numpy as np\n",
    "\n",
    "def ask_user(a,b):\n",
    "    \"\"\"get answer from user: a*b=?\"\"\"\n",
    "    question = '{:d} * {:d} = '.format(a,b)\n",
    "    answer = int(input(question))\n",
    "    return answer\n",
    "\n",
    "def points(a,b,answer_given):\n",
    "    \"\"\"Check answer. Correct:1 point, else 0\"\"\"\n",
    "    true_answer = a*b\n",
    "    if answer_given == true_answer:\n",
    "        print('Correct!')\n",
    "        return 1\n",
    "    else:\n",
    "        print('Sorry! Correct answer was:{:d}'.format(true_answer))\n",
    "        return 0\n",
    "```"
   ]
  },
  {
   "cell_type": "markdown",
   "metadata": {},
   "source": [
    "```python\n",
    "print('\\n*** Welcome to the times tables test! ***\\\n",
    "       \\n           (To stop: ctrl-c)')\n",
    "\n",
    "N = 10\n",
    "NN = N*N\n",
    "score = 0\n",
    "index = list(range(0,NN,1))\n",
    "np.random.shuffle(index)     # randomize order of integers in index\n",
    "for i in range(0,NN,1):\n",
    "    a = index[i]//N + 1\n",
    "    b = index[i]%N + 1\n",
    "    try:\n",
    "        user_answer = ask_user(a,b)\n",
    "    except KeyboardInterrupt:\n",
    "        print('\\nOk, you want to stop!')\n",
    "        break\n",
    "    except ValueError:\n",
    "        print('You must give a valid number!')\n",
    "        continue           # jump to next loop iteration\n",
    "    \n",
    "    score = score + points(a,b,user_answer)\n",
    "    print('Your score is now:{:d}'.format(score))\n",
    "    \n",
    "print('\\nFinished! \\nYour final score:{:d}   (max:{:d})'\\\n",
    "     .format(score,N*N))\n",
    "```"
   ]
  },
  {
   "cell_type": "markdown",
   "metadata": {
    "slideshow": {
     "slide_type": "slide"
    }
   },
   "source": [
    "Python has many different exception types, and we use two of them here, ```KeyboardInterrupt``` and ```ValueError``` (some more examples will be given soon). \n",
    "\n",
    "Unless the user answers with a valid integer, one of these exceptions is raised. A ```KeyboardInterrupt``` is raised if we type ```Ctrl-c``` to stop execution, whereas a ```ValueError``` is raised otherwise. We note that in each case an appropriate printout is given first.\n",
    "\n",
    "Furthermore, when a ```ValueError``` is raised, execution proceeds directly with the next question (after the printout). When a ```KeyboardInterrupt``` is raised, the printout is succeeded by execution of the break statement. This implies that execution breaks out of the ```for``` loop and the program stops after printing the final score. "
   ]
  },
  {
   "cell_type": "markdown",
   "metadata": {
    "slideshow": {
     "slide_type": "slide"
    }
   },
   "source": [
    "One dialogue with the program could then be, for example:\n",
    "```python\n",
    "*** Welcome to the times tables test! ***\n",
    "        (To stop: ctrl-c)\n",
    "6 * 8 = 48\n",
    "Correct!\n",
    "Your score is now: 1\n",
    "5 * 8 = u     (accidentally hit wrong key - author's comment)\n",
    "You must give a valid number!\n",
    "3 * 10 =      (only press enter - author's comment)\n",
    "You must give a valid number!\n",
    "5 * 6 = 30\n",
    "Correct!\n",
    "Your score is now: 2\n",
    "7 * 6=        (type ctrl-c - author's comment)\n",
    "Ok, you want to stop!\n",
    "Finished!\n",
    "Your final score: 2 (max: 100)\n",
    "```"
   ]
  },
  {
   "cell_type": "markdown",
   "metadata": {
    "slideshow": {
     "slide_type": "slide"
    }
   },
   "source": [
    "With our final version, we see that some typical error situations are handled according to plan, and also that ```Ctrl-c``` now works as previously. For the present problem,\n",
    "we found that only two different types of exceptions (```KeyboardInterrupt``` and ```ValueError```) were required. Had more exceptions been needed, we could just have extended the structure straight forwardly, with\n",
    "```python\n",
    "except exception_type:\n",
    "    <statements>\n",
    "```\n",
    "for each of them. Note that it is possible to have a unified response to several exceptions, by just collecting the exception types in a parentheses and separating them with a comma. For example, with two such exceptions, they would appear on the form\n",
    "```python\n",
    "except (exception_type_1,exception_type_2):\n",
    "    <statements>\n",
    "```\n",
    "Before ending this chapter on exception handling, it is appropriate to briefly exemplify a few more of the many built-in exceptions in Python."
   ]
  },
  {
   "cell_type": "markdown",
   "metadata": {
    "slideshow": {
     "slide_type": "slide"
    }
   },
   "source": [
    "If we try to use an uninitialized variable, a ```NameError``` exception is raised:"
   ]
  },
  {
   "cell_type": "code",
   "execution_count": 20,
   "metadata": {
    "slideshow": {
     "slide_type": "-"
    }
   },
   "outputs": [
    {
     "ename": "NameError",
     "evalue": "name 'z' is not defined",
     "output_type": "error",
     "traceback": [
      "\u001b[0;31m---------------------------------------------------------------------------\u001b[0m",
      "\u001b[0;31mNameError\u001b[0m                                 Traceback (most recent call last)",
      "\u001b[0;32m<ipython-input-20-672ae0c113ff>\u001b[0m in \u001b[0;36m<module>\u001b[0;34m\u001b[0m\n\u001b[0;32m----> 1\u001b[0;31m \u001b[0mprint\u001b[0m\u001b[0;34m(\u001b[0m\u001b[0mz\u001b[0m\u001b[0;34m)\u001b[0m      \u001b[0;31m# z is uninitialized\u001b[0m\u001b[0;34m\u001b[0m\u001b[0;34m\u001b[0m\u001b[0m\n\u001b[0m",
      "\u001b[0;31mNameError\u001b[0m: name 'z' is not defined"
     ]
    }
   ],
   "source": [
    "print(z)      # z is uninitialized"
   ]
  },
  {
   "cell_type": "markdown",
   "metadata": {
    "slideshow": {
     "slide_type": "slide"
    }
   },
   "source": [
    "When division by zero is attempted, it results in a ```ZeroDivisionError``` exception:"
   ]
  },
  {
   "cell_type": "code",
   "execution_count": 21,
   "metadata": {
    "slideshow": {
     "slide_type": "-"
    }
   },
   "outputs": [
    {
     "ename": "ZeroDivisionError",
     "evalue": "float division by zero",
     "output_type": "error",
     "traceback": [
      "\u001b[0;31m---------------------------------------------------------------------------\u001b[0m",
      "\u001b[0;31mZeroDivisionError\u001b[0m                         Traceback (most recent call last)",
      "\u001b[0;32m<ipython-input-21-99b9b9983fe8>\u001b[0m in \u001b[0;36m<module>\u001b[0;34m\u001b[0m\n\u001b[0;32m----> 1\u001b[0;31m \u001b[0;36m1.0\u001b[0m\u001b[0;34m/\u001b[0m\u001b[0;36m0\u001b[0m\u001b[0;34m\u001b[0m\u001b[0;34m\u001b[0m\u001b[0m\n\u001b[0m",
      "\u001b[0;31mZeroDivisionError\u001b[0m: float division by zero"
     ]
    }
   ],
   "source": [
    "1.0/0"
   ]
  },
  {
   "cell_type": "markdown",
   "metadata": {
    "slideshow": {
     "slide_type": "slide"
    }
   },
   "source": [
    "Using illegal indices causes Python to raise an ```IndexError``` exception.:"
   ]
  },
  {
   "cell_type": "code",
   "execution_count": 22,
   "metadata": {
    "slideshow": {
     "slide_type": "-"
    }
   },
   "outputs": [],
   "source": [
    "x = [7,8,9]"
   ]
  },
  {
   "cell_type": "code",
   "execution_count": 23,
   "metadata": {
    "slideshow": {
     "slide_type": "-"
    }
   },
   "outputs": [
    {
     "data": {
      "text/plain": [
       "9"
      ]
     },
     "execution_count": 23,
     "metadata": {},
     "output_type": "execute_result"
    }
   ],
   "source": [
    "x[2]"
   ]
  },
  {
   "cell_type": "code",
   "execution_count": 24,
   "metadata": {
    "slideshow": {
     "slide_type": "-"
    }
   },
   "outputs": [
    {
     "ename": "IndexError",
     "evalue": "list index out of range",
     "output_type": "error",
     "traceback": [
      "\u001b[0;31m---------------------------------------------------------------------------\u001b[0m",
      "\u001b[0;31mIndexError\u001b[0m                                Traceback (most recent call last)",
      "\u001b[0;32m<ipython-input-24-1ae7b1d660ac>\u001b[0m in \u001b[0;36m<module>\u001b[0;34m\u001b[0m\n\u001b[0;32m----> 1\u001b[0;31m \u001b[0mx\u001b[0m\u001b[0;34m[\u001b[0m\u001b[0;36m3\u001b[0m\u001b[0;34m]\u001b[0m            \u001b[0;31m# legal indices are 0,1 and 2\u001b[0m\u001b[0;34m\u001b[0m\u001b[0;34m\u001b[0m\u001b[0m\n\u001b[0m",
      "\u001b[0;31mIndexError\u001b[0m: list index out of range"
     ]
    }
   ],
   "source": [
    "x[3]            # legal indices are 0,1 and 2              "
   ]
  },
  {
   "cell_type": "markdown",
   "metadata": {
    "slideshow": {
     "slide_type": "slide"
    }
   },
   "source": [
    "Wrong Python grammar, or wrong typing of reserved words, gives a ```SyntaxError``` exception:"
   ]
  },
  {
   "cell_type": "code",
   "execution_count": 25,
   "metadata": {
    "slideshow": {
     "slide_type": "-"
    }
   },
   "outputs": [
    {
     "ename": "SyntaxError",
     "evalue": "invalid syntax (<ipython-input-25-798e09c403b2>, line 1)",
     "output_type": "error",
     "traceback": [
      "\u001b[0;36m  File \u001b[0;32m\"<ipython-input-25-798e09c403b2>\"\u001b[0;36m, line \u001b[0;32m1\u001b[0m\n\u001b[0;31m    impor numpy as np    # typo... missing t in import\u001b[0m\n\u001b[0m              ^\u001b[0m\n\u001b[0;31mSyntaxError\u001b[0m\u001b[0;31m:\u001b[0m invalid syntax\n"
     ]
    }
   ],
   "source": [
    "impor numpy as np    # typo... missing t in import"
   ]
  },
  {
   "cell_type": "markdown",
   "metadata": {
    "slideshow": {
     "slide_type": "slide"
    }
   },
   "source": [
    "If object types do not match, Python raises a ```TypeError``` exception:"
   ]
  },
  {
   "cell_type": "code",
   "execution_count": 26,
   "metadata": {
    "slideshow": {
     "slide_type": "-"
    }
   },
   "outputs": [
    {
     "ename": "TypeError",
     "evalue": "can only concatenate str (not \"int\") to str",
     "output_type": "error",
     "traceback": [
      "\u001b[0;31m---------------------------------------------------------------------------\u001b[0m",
      "\u001b[0;31mTypeError\u001b[0m                                 Traceback (most recent call last)",
      "\u001b[0;32m<ipython-input-26-d6c61aaddebc>\u001b[0m in \u001b[0;36m<module>\u001b[0;34m\u001b[0m\n\u001b[0;32m----> 1\u001b[0;31m \u001b[0;34m'a string'\u001b[0m \u001b[0;34m+\u001b[0m \u001b[0;36m1\u001b[0m      \u001b[0;31m# attempt to add string and integer\u001b[0m\u001b[0;34m\u001b[0m\u001b[0;34m\u001b[0m\u001b[0m\n\u001b[0m",
      "\u001b[0;31mTypeError\u001b[0m: can only concatenate str (not \"int\") to str"
     ]
    }
   ],
   "source": [
    "'a string' + 1      # attempt to add string and integer"
   ]
  },
  {
   "cell_type": "markdown",
   "metadata": {
    "slideshow": {
     "slide_type": "-"
    }
   },
   "source": [
    "(We might add that, in the last example here, two strings could have been straight forwardly concatenated with +.)"
   ]
  },
  {
   "cell_type": "markdown",
   "metadata": {
    "slideshow": {
     "slide_type": "slide"
    }
   },
   "source": [
    "# Symbolic Computations"
   ]
  },
  {
   "cell_type": "markdown",
   "metadata": {
    "slideshow": {
     "slide_type": "slide"
    }
   },
   "source": [
    "## Numerical Versus Symbolic Computations\n",
    "Doing symbolic computations means, as the name suggests, that we do computations with the symbols themselves rather than with the numerical values they could represent. Let us illustrate the difference between symbolic and numerical computations with a little example. A numerical computation could be\n",
    "```python\n",
    "x = 2\n",
    "y = 3\n",
    "z = x*y\n",
    "print(z)\n",
    "```\n",
    "which will make the number 6 appear on the screen.\n",
    "  "
   ]
  },
  {
   "cell_type": "code",
   "execution_count": 27,
   "metadata": {},
   "outputs": [
    {
     "name": "stdout",
     "output_type": "stream",
     "text": [
      "6\n"
     ]
    }
   ],
   "source": [
    "x = 2\n",
    "y = 3\n",
    "z = x*y\n",
    "print(z)"
   ]
  },
  {
   "cell_type": "markdown",
   "metadata": {
    "slideshow": {
     "slide_type": "slide"
    }
   },
   "source": [
    "A symbolic counterpart of this code could be written by use of the _SymPypackage_ (named ```sympy``` in Python):\n",
    "```python\n",
    "import sympy as sym\n",
    "\n",
    "x,y = sym.symbols('x y')     # define x and y as a mathmatical symbols\n",
    "z = x*y\n",
    "print(z)\n",
    "```\n",
    "which causes the _symbolic_ result $x*y$ to appear on the screen. Note that no numerical value was assigned to any of the variables in the symbolic computation. Only the symbols were used, as when you do symbolic mathematics by hand on a piece of paper. Note also how symbol names must be declared by using ```symbols```."
   ]
  },
  {
   "cell_type": "code",
   "execution_count": 28,
   "metadata": {},
   "outputs": [
    {
     "name": "stdout",
     "output_type": "stream",
     "text": [
      "x*y\n"
     ]
    }
   ],
   "source": [
    "import sympy as sym\n",
    "\n",
    "x,y = sym.symbols('x y')     # define x and y as a mathmatical symbols\n",
    "z = x*y\n",
    "print(z)"
   ]
  },
  {
   "cell_type": "markdown",
   "metadata": {
    "slideshow": {
     "slide_type": "slide"
    }
   },
   "source": [
    "## SymPy: Some Basic Functionality\n",
    "\n",
    "The following script ```example_symbolic.py``` gives a quick demonstration of some of the basic symbolic operations that are supported in Python."
   ]
  },
  {
   "cell_type": "code",
   "execution_count": 29,
   "metadata": {},
   "outputs": [
    {
     "name": "stdout",
     "output_type": "stream",
     "text": [
      "5*x - y\n",
      "2*x\n",
      "sin(x)\n",
      "x + 1\n",
      "1\n",
      "[3]\n"
     ]
    }
   ],
   "source": [
    "import sympy as sym\n",
    "\n",
    "x, y = sym.symbols('x y')\n",
    "\n",
    "print(2*x + 3*x - y)                     # Algebraic computation\n",
    "print(sym.diff(x**2, x))                 # Differentiates x**2 wrt. x\n",
    "print(sym.integrate(sym.cos(x), x))      # Integrates cos(x) wrt. x\n",
    "print(sym.simplify((x**2 + x**3)/x**2))  # Simplifies expression\n",
    "print(sym.limit(sym.sin(x)/x, x, 0))     # lim of sin(x)/x as x->0\n",
    "print(sym.solve(5*x - 15, x))            # Solves 5*x = 15"
   ]
  },
  {
   "cell_type": "markdown",
   "metadata": {
    "slideshow": {
     "slide_type": "slide"
    }
   },
   "source": [
    "Another useful possibility with ```sympy```, is that ```sympy``` expressions may be converted to lambda functions, which then may be used as \"normal\" Python functions for numerical calculations. An example will illustrate. \n",
    "\n",
    "Let us use ```sympy``` to analytically find the derivative of the function $f(x)=5x^3+2x^2-1$, and then make both ```f``` and its derivative into Python functions:"
   ]
  },
  {
   "cell_type": "code",
   "execution_count": 30,
   "metadata": {},
   "outputs": [
    {
     "name": "stdout",
     "output_type": "stream",
     "text": [
      "6 19\n"
     ]
    }
   ],
   "source": [
    "import sympy as sym\n",
    "\n",
    "x = sym.symbols('x')\n",
    "f_expr = 5*x**3 + 2*x**2 - 1       # symbolic expression for f(x)\n",
    "dfdx_expr = sym.diff(f_expr, x)    # compute f’(x) symbolically\n",
    "\n",
    "# turn symbolic expression into functions\n",
    "f = sym.lambdify([x], f_expr)       # f = lambda x: 5*x**3 + 2*x**2 - 1\n",
    "dfdx = sym.lambdify([x], dfdx_expr) # dfdx = lambda x: 15*x**2 + 4*x\n",
    "\n",
    "print(f(1),dfdx(1))    # call and print, x=1"
   ]
  },
  {
   "cell_type": "markdown",
   "metadata": {
    "slideshow": {
     "slide_type": "slide"
    }
   },
   "source": [
    "Note the arguments to ```lambdify```. The first argument [x] specifies the argument that the generated function ```f``` (and the function ```dfdx```) is supposed to take, while the second argument ```f_expr``` (and ```dfdx_expr```) specifies the expression to be evaluated. When executed, the program prints 6 and 19, corresponding to ```f(1)``` and ```dfdx(1)```, respectively.\n",
    "  \n",
    "Other symbolic calculations for, e.g.\n",
    "- Taylor series expansion, \n",
    "- linear algebra (with matrix and vector operations),\n",
    "- (some) differential equation solving are also possible."
   ]
  },
  {
   "cell_type": "markdown",
   "metadata": {
    "slideshow": {
     "slide_type": "slide"
    }
   },
   "source": [
    "# Making Our Own Module\n"
   ]
  },
  {
   "cell_type": "markdown",
   "metadata": {
    "slideshow": {
     "slide_type": "slide"
    }
   },
   "source": [
    "## A Naive Import\n",
    "Let us pick ```ball_function.py``` (which addresses vertical motion), and argue that, if this script _is_ a module, we should be able to \"import it\" as import ```ball_function```, right? This sounds like a reasonable expectation, so without too deep reasoning, let us just start there.\n",
    "  \n",
    "First, however, we better take another look at that code (after all, it has been a while). For easy reference, we just repeat the few code lines of ```ball_function.py```\n",
    "here:"
   ]
  },
  {
   "cell_type": "code",
   "execution_count": 31,
   "metadata": {
    "slideshow": {
     "slide_type": "slide"
    }
   },
   "outputs": [
    {
     "name": "stdout",
     "output_type": "stream",
     "text": [
      "1.2342\n",
      "0.5269499999999994\n"
     ]
    }
   ],
   "source": [
    "def y(v0,t):\n",
    "    g = 9.81                       # Acceleration of gravity\n",
    "    return v0*t - 0.5*g*t**2\n",
    "\n",
    "v0 = 5                        # Initial velocity\n",
    "\n",
    "time = 0.6                    # Just pick one point in time\n",
    "print(y(v0,time))\n",
    "time = 0.9                    # Pick another point in time\n",
    "print(y(v0,time))"
   ]
  },
  {
   "cell_type": "markdown",
   "metadata": {
    "slideshow": {
     "slide_type": "slide"
    }
   },
   "source": [
    "We recognize the function definition of y and the two applications of that function, involving a function call and a printout for each of the chosen points in time.\n",
    "  \n",
    "Now, we previously thought of this code as a program, executed it, and got the printouts. What will happen now, when we rather consider it a module and import it?\n",
    "  \n",
    "Here is what happens:"
   ]
  },
  {
   "cell_type": "code",
   "execution_count": 32,
   "metadata": {},
   "outputs": [
    {
     "name": "stdout",
     "output_type": "stream",
     "text": [
      "1.2342\n",
      "0.5269499999999994\n"
     ]
    }
   ],
   "source": [
    "import ball_function  "
   ]
  },
  {
   "cell_type": "markdown",
   "metadata": {
    "slideshow": {
     "slide_type": "slide"
    }
   },
   "source": [
    "What? Printing of numbers? We asked for an import,not something that looks like program execution!\n",
    "  \n",
    "The thing is, that when any module is imported, Python does actually execute the module code (!), i.e., function definitions are read and statements (outside functions) executed. This is Python’s way of bringing module content “to life”\n",
    "\n",
    "So that, e.g.,functions defined in that module get ready for use. To see that the function `y` now is ready for use, we may proceed our interactive session as:"
   ]
  },
  {
   "cell_type": "code",
   "execution_count": 33,
   "metadata": {
    "slideshow": {
     "slide_type": "-"
    }
   },
   "outputs": [
    {
     "data": {
      "text/plain": [
       "1.2342"
      ]
     },
     "execution_count": 33,
     "metadata": {},
     "output_type": "execute_result"
    }
   ],
   "source": [
    "ball_function.y(v0=5,t=0.6)"
   ]
  },
  {
   "cell_type": "markdown",
   "metadata": {
    "slideshow": {
     "slide_type": "slide"
    }
   },
   "source": [
    "## A Module for Vertical Motion\n",
    "One simple way to avoid undesirable printouts during import, is to let the module file contain only function definitions. This is how we will arrange the first version of our vertical motion module.\n",
    "\n",
    "We proceed to make ourselves a preliminary version of our new module file ```vertical_motion.py```. In this file, we place three function definitions only (which should suffice for our demonstration). One of these, is the `y` function from ```ball_function.py```, while the other two, ```time_of_flight``` and ```max_height```, compute the time of flight and maximum height attained, respectively (consult any introductory book on mechanics regarding the implemented formulas). "
   ]
  },
  {
   "cell_type": "markdown",
   "metadata": {
    "slideshow": {
     "slide_type": "slide"
    }
   },
   "source": [
    "```python\n",
    "\"\"\"\n",
    "Module for computing vertical motion\n",
    "characteristics for a projectile.\n",
    "\"\"\"\n",
    "def y(v0,t):\n",
    "    \"\"\"\n",
    "    Compute vertical position at time t, given the initial vertical velocity v0. Assume negligible air resistance.\n",
    "    \"\"\"\n",
    "    g = 9.81\n",
    "    return v0*t - 0.5*g*t**2\n",
    "\n",
    "def time_of_flight(v0):\n",
    "    \"\"\"\n",
    "    Compute time in the air, given the initial vertical velocity v0. Assume negligible air resistance.\n",
    "    \"\"\"\n",
    "    g = 9.81\n",
    "    return 2*v0/g\n",
    "\n",
    "def max_height(v0):\n",
    "    \"\"\"\n",
    "    Compute maximum height reached, given the initial vertical velocity v0. Assume negligible air resistance.\n",
    "    \"\"\"\n",
    "    g = 9.81\n",
    "    return v0**2/(2*g)\n",
    "\n",
    "# Other function definitions could be added here...    \n",
    "```"
   ]
  },
  {
   "cell_type": "markdown",
   "metadata": {
    "slideshow": {
     "slide_type": "slide"
    }
   },
   "source": [
    "As with built-in modules, the built-in help function can be used to retrieve documentation from user-defined modules:"
   ]
  },
  {
   "cell_type": "code",
   "execution_count": 34,
   "metadata": {
    "slideshow": {
     "slide_type": "-"
    }
   },
   "outputs": [],
   "source": [
    "import vertical_motion"
   ]
  },
  {
   "cell_type": "code",
   "execution_count": 35,
   "metadata": {
    "slideshow": {
     "slide_type": "-"
    }
   },
   "outputs": [
    {
     "name": "stdout",
     "output_type": "stream",
     "text": [
      "Help on module vertical_motion:\n",
      "\n",
      "NAME\n",
      "    vertical_motion\n",
      "\n",
      "DESCRIPTION\n",
      "    Module for computing vertical motion\n",
      "    characteristics for a projectile.\n",
      "\n",
      "FUNCTIONS\n",
      "    application()\n",
      "    \n",
      "    max_height(v0)\n",
      "        Compute maximum height reached, given the initial vertical velocity v0. Assume negligible air resistance.\n",
      "    \n",
      "    time_of_flight(v0)\n",
      "        Compute time in the air, given the initial vertical velocity v0. Assume negligible air resistance.\n",
      "    \n",
      "    y(v0, t)\n",
      "        Compute vertical position at time t, given the initial vertical velocity v0. Assume negligible air resistance.\n",
      "\n",
      "FILE\n",
      "    /Users/liang/Desktop/Python/lecture 5/vertical_motion.py\n",
      "\n",
      "\n"
     ]
    }
   ],
   "source": [
    "help(vertical_motion)"
   ]
  },
  {
   "cell_type": "markdown",
   "metadata": {
    "slideshow": {
     "slide_type": "slide"
    }
   },
   "source": [
    "We recognize the doc strings in the printout and should realize that it is a good idea to keep those doc strings informative.\n",
    "  \n",
    "With the following interactive session, comparing the answers to hand calculations (using the formulas and a calculator), we confirm that the module now seems to work as intended,"
   ]
  },
  {
   "cell_type": "code",
   "execution_count": 36,
   "metadata": {
    "slideshow": {
     "slide_type": "-"
    }
   },
   "outputs": [],
   "source": [
    "import vertical_motion as vm"
   ]
  },
  {
   "cell_type": "code",
   "execution_count": 37,
   "metadata": {
    "slideshow": {
     "slide_type": "-"
    }
   },
   "outputs": [
    {
     "data": {
      "text/plain": [
       "1.2342"
      ]
     },
     "execution_count": 37,
     "metadata": {},
     "output_type": "execute_result"
    }
   ],
   "source": [
    "vm.y(v0=5,t=0.6)"
   ]
  },
  {
   "cell_type": "code",
   "execution_count": 38,
   "metadata": {
    "slideshow": {
     "slide_type": "-"
    }
   },
   "outputs": [
    {
     "data": {
      "text/plain": [
       "1.019367991845056"
      ]
     },
     "execution_count": 38,
     "metadata": {},
     "output_type": "execute_result"
    }
   ],
   "source": [
    "vm.time_of_flight(v0=5)"
   ]
  },
  {
   "cell_type": "code",
   "execution_count": 39,
   "metadata": {
    "slideshow": {
     "slide_type": "-"
    }
   },
   "outputs": [
    {
     "data": {
      "text/plain": [
       "1.27420998980632"
      ]
     },
     "execution_count": 39,
     "metadata": {},
     "output_type": "execute_result"
    }
   ],
   "source": [
    "vm.max_height(v0=5)"
   ]
  },
  {
   "cell_type": "markdown",
   "metadata": {
    "slideshow": {
     "slide_type": "slide"
    }
   },
   "source": [
    "## Where to Place a Module File?\n",
    "\n",
    "For a module import to be successful, a first requirement is that Python can *find* the module file. A simple way to make this happen, is to place the module file in the *same folder* as the program (that tries to import the module).\n",
    "\n",
    "When Python proceeds to import a module, it looks for the module file within the folders containede in the `sys.path` list. To see the folders in `sys.path`, we may do:\n",
    "```python\n",
    "    import sys\n",
    "    sys.path\n",
    "```\n",
    "Placing your module in one of the folder listed, assures that Python will find it."
   ]
  },
  {
   "cell_type": "code",
   "execution_count": 40,
   "metadata": {},
   "outputs": [
    {
     "data": {
      "text/plain": [
       "['/Users/liang/Desktop/Python/lecture 5',\n",
       " '/Users/liang/anaconda3/lib/python37.zip',\n",
       " '/Users/liang/anaconda3/lib/python3.7',\n",
       " '/Users/liang/anaconda3/lib/python3.7/lib-dynload',\n",
       " '',\n",
       " '/Users/liang/anaconda3/lib/python3.7/site-packages',\n",
       " '/Users/liang/anaconda3/lib/python3.7/site-packages/aeosa',\n",
       " '/Users/liang/anaconda3/lib/python3.7/site-packages/IPython/extensions',\n",
       " '/Users/liang/.ipython']"
      ]
     },
     "execution_count": 40,
     "metadata": {},
     "output_type": "execute_result"
    }
   ],
   "source": [
    "import sys\n",
    "\n",
    "sys.path"
   ]
  },
  {
   "cell_type": "markdown",
   "metadata": {
    "slideshow": {
     "slide_type": "slide"
    }
   },
   "source": [
    "## Module or Program?\n",
    "We know how a ``` .py``` file can be executed as a program, and we have seen how functions may be collected in a ``` .py``` file, so that imports do not trigger any undesirable printouts. However, we have already realized that Python does not force a ``` .py``` file to be _either_ a program, or a module. No, it can be both, and thanks to a clever construction, Python allows a very flexible switch between the two ways of using a ``` .py``` file.\n",
    "  \n",
    "This clever construction is based on an `if` test, which tests whether the file should be run as a program, or act as a module only. This is doable by use of the variable ```__name__```\n",
    ", which (behind the scenes) Python sets to '```__main__```' only if the file is executed as a program (note the compulsory two underscores to each side of `name` and `main` here). We may put up a rather general form of the construction, that we place in the ```.py``` file, as"
   ]
  },
  {
   "cell_type": "markdown",
   "metadata": {
    "slideshow": {
     "slide_type": "slide"
    }
   },
   "source": [
    "```python\n",
    "< function definitions >\n",
    "\n",
    "if __name__ == '__main__': # note double underscores (and colon)\n",
    "    < statement 1 >\n",
    "    < statement 2 >\n",
    "    ...\n",
    "    ...\n",
    "```"
   ]
  },
  {
   "cell_type": "markdown",
   "metadata": {
    "slideshow": {
     "slide_type": "slide"
    }
   },
   "source": [
    "So, if the file is run as a program, Python immediately sets ```__name__``` to ’```__main__```’. When reaching the ```if``` test, it will thus evaluate to `True`, which in turn causes the corresponding (indented) statements, i.e., the statements of the so-called *test block*, to be executed. To the contrary, if the file is used for imports only, ```__name__``` will *not* be set to ’```__main__```’, the ```if``` test will consequently evaluate to ```False```, and the corresponding statements are not executed.\n",
    "\n",
    "Often, the statements in the test block are best placed in one or several functions (then defined above the ```if``` test, together with the other function definitions), so that when the ```if``` test evaluates to ```True```, one or more function calls will follow. This is particularly important when different tasks are handled, so that each function contains statements that logically belong together.\n",
    "  \n",
    "As a simple illustration, when one function is natural (e.g., named ```application```), the construction may be reformulated as"
   ]
  },
  {
   "cell_type": "markdown",
   "metadata": {
    "slideshow": {
     "slide_type": "slide"
    }
   },
   "source": [
    "```python\n",
    "< function definitions >\n",
    "\n",
    "def application():\n",
    "    < statement 1 >\n",
    "    < statement 2 >\n",
    "        ...\n",
    "        ...\n",
    "if __name__ == '__main__':\n",
    "    application()\n",
    "```"
   ]
  },
  {
   "cell_type": "markdown",
   "metadata": {
    "slideshow": {
     "slide_type": "slide"
    }
   },
   "source": [
    "### Our ```.py``` File as Both Module and Program\n",
    "We will now incorporate this construction in ```vertical_motion.py```. This allows us to use the functions from ```vertical_motion.py``` also in a program (our ```application```) that asks the user for an object’s initial vertical velocity, and then computes height (as it develops with time), maximum height and flight duration.\n",
    "  \n",
    "The more flexible version of ```vertical_motion.py``` then reads,"
   ]
  },
  {
   "cell_type": "markdown",
   "metadata": {
    "slideshow": {
     "slide_type": "slide"
    }
   },
   "source": [
    "```python\n",
    "\"\"\"\n",
    "Module for computing vertical motion\n",
    "characteristics for a projectile.\n",
    "\"\"\"\n",
    "def y(v0,t):\n",
    "    \"\"\"\n",
    "    Compute vertical position at time t, given the initial vertical velocity v0. Assume negligible air resistance.\n",
    "    \"\"\"\n",
    "    g = 9.81\n",
    "    return v0*t - 0.5*g*t**2\n",
    "\n",
    "def time_of_flight(v0):\n",
    "    \"\"\"\n",
    "    Compute time in the air, given the initial vertical velocity v0. Assume negligible air resistance.\n",
    "    \"\"\"\n",
    "    g = 9.81\n",
    "    return 2*v0/g\n",
    "\n",
    "def max_height(v0):\n",
    "    \"\"\"\n",
    "    Compute maximum height reached, given the initial vertical velocity v0. Assume negligible air resistance.\n",
    "    \"\"\"\n",
    "    g = 9.81\n",
    "    return v0**2/(2*g)\n",
    "```"
   ]
  },
  {
   "cell_type": "markdown",
   "metadata": {
    "slideshow": {
     "slide_type": "slide"
    }
   },
   "source": [
    "```python\n",
    "def application():\n",
    "    import numpy as np\n",
    "    import matplotlib.pyplot as plt\n",
    "    import sys\n",
    "\n",
    "    print(\"\"\"This program computes vertical motion characteristics for a projectile. Given the intial vertical velocity, it computes height (as it develops with time), maximum height reached, as well as time of flight.\"\"\")\n",
    "\n",
    "    try:\n",
    "        v_initial = float(input('Give the initial velocity: '))\n",
    "    except:\n",
    "        print('You must give a valid number!')\n",
    "        sys.exit(1)\n",
    "\n",
    "    H = max_height(v_initial)\n",
    "    T = time_of_flight(v_initial)\n",
    "    print('Maximum height: {:g} m, \\nTime of flight: {:g} s'.format(H, T))\n",
    "```"
   ]
  },
  {
   "cell_type": "markdown",
   "metadata": {
    "slideshow": {
     "slide_type": "slide"
    }
   },
   "source": [
    "```python\n",
    "# compute and plot position as function of time\n",
    "    dt = 0.001            # just pick a \"small\" time step\n",
    "    N = int(T/dt)          # number of time steps\n",
    "    t = np.linspace(0, N*dt, N+1)\n",
    "    position = y(v_initial, t)  # compute all position(over T)\n",
    "    plt.plot(t,position,'b--')\n",
    "    plt.xlabel('Time(s)')\n",
    "    plt.ylabel('Vertical position(m)')\n",
    "    plt.show()\n",
    "    return\n",
    "\n",
    "if __name__ == '__main__':\n",
    "    application()\n",
    "```"
   ]
  },
  {
   "cell_type": "markdown",
   "metadata": {
    "slideshow": {
     "slide_type": "slide"
    }
   },
   "source": [
    "### Placing Import Statements in Our Module\n",
    "Note that if we have import statements in our module, it is possible to run into trouble if we do not place them at the top of the file (which is according to the general recommendation).\n",
    "  \n",
    "With the following sketchy example module, it will work fine to import ```some_function``` in another program and use it (since, when importing ```some_function```, the import of ```numpy``` is done)."
   ]
  },
  {
   "cell_type": "markdown",
   "metadata": {
    "slideshow": {
     "slide_type": "slide"
    }
   },
   "source": [
    "```python\n",
    "import numpy as np\n",
    "\n",
    "def some_function(n):\n",
    "    a = np.zeros(n)\n",
    "    ...\n",
    "    return r\n",
    "\n",
    "def application():\n",
    "    ....\n",
    "    n = 10\n",
    "    r = some_function(n)\n",
    "    ...\n",
    "    return\n",
    "\n",
    "if __name__ == '__mian__':\n",
    "    application()\n",
    "```\n",
    "One choice that would *not* work in the same way, however, would\n",
    "be to instead have the import statement `import numpy as np` after\n",
    "if ```__name__ ```== '```__main__```': . Then, this import statement would not be run if `some_function` is imported for use in another program."
   ]
  },
  {
   "cell_type": "markdown",
   "metadata": {
    "slideshow": {
     "slide_type": "slide"
    }
   },
   "source": [
    "# Files: Read and Write\n",
    "Input data for a program often come from files and the results of the computations are often written to file. To illustrate basic file handling, we consider an example where we read $x$ and $y$ coordinates from two columns in a file, apply a function $f$ to the $y$ coordinates, and write the results to a new two-column data file. The first line of the input file is a heading that we can just skip:\n",
    "```python\n",
    "# x and y coordinates\n",
    "1.0 3.44\n",
    "2.0 4.8\n",
    "3.5 6.61\n",
    "4.0 5.0\n",
    "```\n",
    "The relevant Python lines for reading the numbers and writing out a similar file are given in the file ```file_handling.py```"
   ]
  },
  {
   "cell_type": "markdown",
   "metadata": {
    "slideshow": {
     "slide_type": "slide"
    }
   },
   "source": [
    "```python\n",
    "filename = 'tmp.dat'\n",
    "infile = open(filename,'r')   # Open file for reading\n",
    "line = infile.readline()      # Read first line\n",
    "# Read x and y coordinates from the file and store in lists\n",
    "x = []\n",
    "y = []\n",
    "for line in infile:           # Read one line at a time\n",
    "    words = line.split()      # Split line into words\n",
    "    x.append(float(words[0]))\n",
    "    y.append(float(words[1]))\n",
    "infile.close()\n",
    "\n",
    "# Transform y coordinates\n",
    "from math import log\n",
    "\n",
    "def f(y):\n",
    "    return log(y)\n",
    "\n",
    "for i in range(len(y)):\n",
    "    y[i] = f(y[i])\n",
    "```"
   ]
  },
  {
   "cell_type": "markdown",
   "metadata": {
    "slideshow": {
     "slide_type": "slide"
    }
   },
   "source": [
    "```python\n",
    "# Write out x and y to a two-column file\n",
    "filename = 'tmp_out.dat'\n",
    "outfile = open(filename,'w')  #Open file for writing\n",
    "outfile.write('#x and y coordiantes\\n')\n",
    "for xi,yi in zip(x,y):\n",
    "    outfile.write('{:10.5f}{:10.5f}\\n'.format(xi,yi))\n",
    "outfile.close()\n",
    "```\n",
    "If you have problems understanding the details here, make your own copy and insert printouts of ```line``` and the ```word``` elements in the (first) loop.\n",
    "  \n",
    "With ```zip```, in the first iteration, ```xi``` and ```yi``` will represent the first element of ```x``` and ```y```, respectively. In the second iteration, ```xi``` and ```yi``` will represent the second element of ```x``` and ```y```, and so on."
   ]
  },
  {
   "cell_type": "markdown",
   "metadata": {
    "slideshow": {
     "slide_type": "slide"
    }
   },
   "source": [
    "# Measuring Execution Time\n",
    "Even though computational speed should have low priority among beginners to programming, it might be useful, at least, to have seen how execution time can be found for some code snippet. This is relevant for more experienced programmers, when it is required to find a particularly fast code alternative. \n",
    "  \n",
    "Fortunately, simpler and safer tools are available. To find the execution time of small code snippets, a good alternative is to use the ```timeit``` module from the Python standard library"
   ]
  },
  {
   "cell_type": "markdown",
   "metadata": {
    "slideshow": {
     "slide_type": "slide"
    }
   },
   "source": [
    "## The ```timeit``` Module\n",
    "\n",
    "To demonstrate how this module may be used, we will investigate how function calls affect execution time. Our brief “investigation” is confined to the filling of an array with integers, done with and without a particular function call. The details are best explained with reference to the following code (no timing yet!):\n",
    "```python\n",
    "import numpy as np\n",
    "\n",
    "def add(a, b):\n",
    "    return a + b\n",
    "\n",
    "x = np.zeros(1000)\n",
    "y = np.zeros(1000)\n",
    "\n",
    "for i in range(len(x)):\n",
    "    x[i] = add(i, i+1)    # use function call to fill array\n",
    "    \n",
    "for i in range(len(x)):\n",
    "    y[i] = i + (i+1)      # ...no function call\n",
    "```"
   ]
  },
  {
   "cell_type": "markdown",
   "metadata": {
    "slideshow": {
     "slide_type": "slide"
    }
   },
   "source": [
    "So, the sum of two integers is assigned to each array element. The arrays x and y will contain exactly the same numbers when the second loop is finished, but to fill x, we use a call to the function ```add```. Thus, the time to fill x is expected to take longer than filling y, which just adds the numbers directly. Our question is, how much longer does it take to use the function call?\n",
    "  \n",
    "To answer this question by use of ```timeit```, we may write the script```timing_function_call.py```:\n",
    "\n",
    "```python\n",
    "import timeit\n",
    "import numpy as np\n",
    "\n",
    "def add(a,b):\n",
    "    return a + b\n",
    "\n",
    "x = np.zeros(1000)\n",
    "y = np.zeros(1000)\n",
    "\n",
    "# ...use the function add\n",
    "t = timeit.Timer('for i in range(len(x)):x[i] = add(i,i+1)',\\\n",
    "                 setup ='from __main__ import add,x')\n",
    "x_time = t.timeit(10000)  # Time 10000 runs of the whole loop\n",
    "print('Time,function call:{:g} seconds'.format(x_time))\n",
    "\n",
    "# ...no use of function add\n",
    "t = timeit.Timer('for i in range(len(y)):y[i] = i + (i+1)',\\\n",
    "                 setup = 'from __main__ import y')\n",
    "y_time = t.timeit(10000)  # Time 10000 runs of the whole loop\n",
    "print('Time:{:g} seconds'.format(y_time))\n",
    "```"
   ]
  },
  {
   "cell_type": "code",
   "execution_count": 41,
   "metadata": {},
   "outputs": [
    {
     "name": "stdout",
     "output_type": "stream",
     "text": [
      "Time,function call:1.61504 seconds\n",
      "Time:1.09291 seconds\n"
     ]
    }
   ],
   "source": [
    "import timeit\n",
    "import numpy as np\n",
    "\n",
    "def add(a,b):\n",
    "    return a + b\n",
    "\n",
    "x = np.zeros(1000)\n",
    "y = np.zeros(1000)\n",
    "\n",
    "# ...use the function add\n",
    "t = timeit.Timer('for i in range(len(x)):x[i] = add(i,i+1)',\\\n",
    "                 setup ='from __main__ import add,x')\n",
    "x_time = t.timeit(10000)  # Time 10000 runs of the whole loop\n",
    "print('Time,function call:{:g} seconds'.format(x_time))\n",
    "\n",
    "# ...no use of function add\n",
    "t = timeit.Timer('for i in range(len(y)):y[i] = i + (i+1)',\\\n",
    "                 setup = 'from __main__ import y')\n",
    "y_time = t.timeit(10000)  # Time 10000 runs of the whole loop\n",
    "print('Time:{:g} seconds'.format(y_time))"
   ]
  },
  {
   "cell_type": "markdown",
   "metadata": {
    "slideshow": {
     "slide_type": "slide"
    }
   },
   "source": [
    "What will happen here? Well, first of all, note that there are two calls to timeit.Timer, one for each of the two loops from above. If we look at the first call to ```timeit.Timer```, i.e.,\n",
    "```python\n",
    "t = timeit.Timer('for i in range(len(x)): x[i] = add(i, i+1)', \\\n",
    "setup='from __main__ import add, x')\n",
    "```\n",
    "This first argument, given as a string, is what we want\n",
    "the timing of. The second argument, ```setup='from __main__ import add, x'```, is required for initialization, i.e., what the timer needs to do prior to timing of the loop.What is required for the timer function to execute the code given in the first argument, must be provided in the ```setup``` argument, even if it is defined in the code above."
   ]
  },
  {
   "cell_type": "markdown",
   "metadata": {
    "slideshow": {
     "slide_type": "slide"
    }
   },
   "source": [
    "The following line,\n",
    "```python\n",
    "x_time = t.timeit(10000)    # Time 10000 runs of the whole loop\n",
    "```\n",
    "will cause the whole loop to actually be executed, not a single time, but 10000 times! There will be _one_ recorded time, the time required to run the loop 10000 times. Thus, if an average time for a single run-through of the loop is desired, we must divide the recorded time by (in this case) 10000. Often, however, the total time is fine for comparison between alternatives.\n",
    "  \n",
    "Executing the program produces the following result,\n",
    "```python\n",
    "Time, function call: 1.61504 seconds\n",
    "Time: 1.09291 seconds\n",
    "```\n",
    "So, using the function ```add``` to fill the array, takes 50% longer time!"
   ]
  }
 ],
 "metadata": {
  "celltoolbar": "幻灯片",
  "kernelspec": {
   "display_name": "Python 3",
   "language": "python",
   "name": "python3"
  },
  "language_info": {
   "codemirror_mode": {
    "name": "ipython",
    "version": 3
   },
   "file_extension": ".py",
   "mimetype": "text/x-python",
   "name": "python",
   "nbconvert_exporter": "python",
   "pygments_lexer": "ipython3",
   "version": "3.7.3"
  }
 },
 "nbformat": 4,
 "nbformat_minor": 2
}
