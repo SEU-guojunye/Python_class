{
 "cells": [
  {
   "cell_type": "markdown",
   "metadata": {
    "slideshow": {
     "slide_type": "slide"
    }
   },
   "source": [
    "# Python 编程"
   ]
  },
  {
   "cell_type": "markdown",
   "metadata": {
    "slideshow": {
     "slide_type": "slide"
    }
   },
   "source": [
    "# 入门\n"
   ]
  },
  {
   "cell_type": "markdown",
   "metadata": {
    "slideshow": {
     "slide_type": "slide"
    }
   },
   "source": [
    "## 程序与控制流\n",
    "\n",
    "程序是按自上而下顺序执行的一系列语句。这个线性执行顺序会有一些重要的例外\n",
    "\n",
    "- 可能有条件执行的语句组（块），我们将其称为分支\n",
    "- 有重复执行的块，称为循环\n",
    "- 有一些函数调用是引用另一段代码，它在主程序流程返回之前执行。\n",
    "\n",
    "Python使用特殊语句来标记语句块： 一个关键字、一个冒号和一个缩进的语句序列，它们属于一个块\n",
    "```python\n",
    "if a < b:\n",
    "    s = a/b\n",
    "else:\n",
    "    s = 2*b - a\n",
    "```    \n",
    "        "
   ]
  },
  {
   "cell_type": "markdown",
   "metadata": {
    "slideshow": {
     "slide_type": "slide"
    }
   },
   "source": [
    "### 注释\n",
    "\n",
    "如果程序的一行代码包含符号 $\\#$,则同一行代码$\\#$后面的内容将被视为注释\n",
    "\n",
    "```python\n",
    "# 这是如下语句的注释\n",
    "a = 3  # ... 这里可能有进一步的注释\n",
    "```"
   ]
  },
  {
   "cell_type": "markdown",
   "metadata": {
    "slideshow": {
     "slide_type": "slide"
    }
   },
   "source": [
    "### 行连接\n",
    "\n",
    "行末尾的反斜杠\\将下一行标记为连续行，即显示行连接。如果行在所有圆括号关闭之前结束，则以下行将自动识别为连续行，即隐式行连接。\n",
    "\n",
    "``` python\n",
    "my_sum = 1 + 2 + 3 + 4 + 5 + 6 + 7 + 8 +\\\n",
    "         9 + 10 + 11 + 12\n",
    "```\n"
   ]
  },
  {
   "cell_type": "markdown",
   "metadata": {
    "slideshow": {
     "slide_type": "slide"
    }
   },
   "source": [
    "## 基本类型\n",
    "\n",
    "### 数值类型\n",
    "\n",
    "数字可以是整数、实数或复数。常用的运算符有以下几种：\n",
    "\n",
    "- 加法和减数： $+$ 和 $-$\n",
    "- 乘法和除法： $*$ 和 $/$\n",
    "- 幂： $**$\n",
    "\n",
    "这里有一个例子：\n",
    "\n",
    "```python\n",
    "2 ** (2+2)  # 16\n",
    "1j ** 2     # -1\n",
    "1. + 3.0j\n",
    "```\n",
    "\n",
    "**注：** $j$ 是用于表示复数的虚部的符号。它是一个句法元素，不要与变量的乘法混淆。"
   ]
  },
  {
   "cell_type": "code",
   "execution_count": 1,
   "metadata": {},
   "outputs": [
    {
     "data": {
      "text/plain": [
       "(-1+0j)"
      ]
     },
     "execution_count": 1,
     "metadata": {},
     "output_type": "execute_result"
    }
   ],
   "source": [
    "1j ** 2"
   ]
  },
  {
   "cell_type": "markdown",
   "metadata": {
    "slideshow": {
     "slide_type": "slide"
    }
   },
   "source": [
    "### 字符串\n",
    "\n",
    "字符串是放在单引号或双引号中间的一系列字符序号：\n",
    "\n",
    "```python\n",
    "'valid string'\n",
    "\"string with double quotes\"\n",
    "\"you shouldn't forget comments\"\n",
    "'these are double quotes: \"..\"'\n",
    "```\n",
    "\n",
    "还可以对多行的字符串使用三重引号：\n",
    "```python\n",
    "\"\"\" This is\n",
    "a long,\n",
    "long string\"\"\"\n",
    "```"
   ]
  },
  {
   "cell_type": "markdown",
   "metadata": {
    "slideshow": {
     "slide_type": "slide"
    }
   },
   "source": [
    "### 变量\n",
    "\n",
    "变量是对某个对象的应用。一个对象可能有好几个引用。可以使用赋值运算符“=”给一个变量赋值：\n",
    "\n",
    "```python\n",
    "x = [3, 4] # 创建了一个列表对象\n",
    "y = x      # 该对象现在有两个标签: x 和 y\n",
    "del x      # 我们将其中一个标签删除\n",
    "del y      # 两个标签均被删除： 对象被删除\n",
    "```\n",
    "\n",
    "可以用print 函数来显示变量的值：\n",
    "```python\n",
    "x = [3, 4]  # 创建了一个列表对象\n",
    "print(x)\n",
    "```"
   ]
  },
  {
   "cell_type": "code",
   "execution_count": 2,
   "metadata": {},
   "outputs": [
    {
     "data": {
      "text/plain": [
       "[3, 4]"
      ]
     },
     "execution_count": 2,
     "metadata": {},
     "output_type": "execute_result"
    }
   ],
   "source": [
    "x = [3, 4]\n",
    "x"
   ]
  },
  {
   "cell_type": "markdown",
   "metadata": {
    "slideshow": {
     "slide_type": "slide"
    }
   },
   "source": [
    "### 列表\n",
    "\n",
    "列表是一个非常有用的数据结构，也是Python的基本类型之一。 Python列表是放在方括号里面的有序列表，可以把从零开始的索引放在方括号里来访问列表的元素：\n",
    "\n",
    "```python\n",
    "L1 = [5, 6] \n",
    "L1[0]  # 5\n",
    "L1[1]  # 6\n",
    "L1[2]  # 引发索引错误\n",
    "L2 = ['a', 1, [3, 4]]\n",
    "L2[0]  # 'a'\n",
    "L2[2][0] # 3\n",
    "L2[-1]  # 最后的元素： [3,4]\n",
    "L2[-2]  # 倒数第二个元素： 1\n",
    "```"
   ]
  },
  {
   "cell_type": "code",
   "execution_count": 3,
   "metadata": {},
   "outputs": [
    {
     "data": {
      "text/plain": [
       "5"
      ]
     },
     "execution_count": 3,
     "metadata": {},
     "output_type": "execute_result"
    }
   ],
   "source": [
    "L1 = [5, 6]\n",
    "L1[-2]"
   ]
  },
  {
   "cell_type": "markdown",
   "metadata": {
    "slideshow": {
     "slide_type": "slide"
    }
   },
   "source": [
    "元素的索引从零开始。可以将任何类型的对象放在列表中，甚至是其他的列表。一些基本的列表函数如下：\n",
    "\n",
    "- `list(range(n))` 创建一个$n$ 个元素的列表，元素从零开始：\n",
    "`print(list(range(5)))`     # 返回 [0, 1, 2, 3, 4]\n",
    "- `len` 给出一个列表的长度\n",
    "`len(['a', 1, 2, 34])`      # 返回 4\n",
    "- `append` 用于将元素添加到列表中\n",
    "```python\n",
    "L = ['a', 'b', 'c']\n",
    "L[-1]  # 'c'\n",
    "L.append('d')\n",
    "L      # L 现在是['a', 'b', 'c', 'd']\n",
    "L[-1]  # 'd'\n",
    "```"
   ]
  },
  {
   "cell_type": "markdown",
   "metadata": {
    "slideshow": {
     "slide_type": "slide"
    }
   },
   "source": [
    "### 列表运算符\n",
    "\n",
    "- 运算符 “+” 连接两个列表：\n",
    "```python\n",
    "L1 = [1, 2]\n",
    "L2 = [3, 4]\n",
    "L = L1 + L2   # [1, 2, 3, 4]\n",
    "```\n",
    "- 将列表与整数相乘，列表将重复自身几次： n*L 相当于执行了 n 次加法操作\n",
    "```python\n",
    "L = [1, 2]\n",
    "3*L  # [1, 2, 1, 2, 1, 2]\n",
    "```"
   ]
  },
  {
   "cell_type": "markdown",
   "metadata": {
    "slideshow": {
     "slide_type": "slide"
    }
   },
   "source": [
    "### 布尔表达式\n",
    "\n",
    "布尔表达式是值可能为 True 或 False 的表达式。一些可以生成条件表达式的常用操作符如下：\n",
    "\n",
    "- == （等于）\n",
    "- ！= （不等于）\n",
    "- <、 <= (小于、小于等于)\n",
    "- \\>、>= (大于、大于等于)\n",
    "\n",
    "可以用or 或者 and 来组合不同的布尔值. 关键字 not 给出了其后续表达式的否定逻辑值。\n",
    "\n",
    "比较可以被链接，例如 x<y< z 等价于 x < y and y <z. 不同的是，第一个例子中 y 只被求了一次值。 \n",
    "```python\n",
    "2 >= 4     # False\n",
    "2 < 3 < 4  # True\n",
    "2 < 3 and 3 < 2 # False\n",
    "2 != 3 < 4      # True\n",
    "2 <= 2 and 2>= 2  # True\n",
    "not 2 == 3 # True\n",
    "not False or True and False  # True\n",
    "```\n",
    "\n",
    "**注：** <, \\>, <=, >=, != 和==操作符的优先级比not 更高。操作符and或or优先级最低。具有较高优先级规则的在较低优先级规则之前运行。"
   ]
  },
  {
   "cell_type": "markdown",
   "metadata": {
    "slideshow": {
     "slide_type": "slide"
    }
   },
   "source": [
    "## 使用循环来重复语句\n",
    "\n",
    "循环用于重复执行一系列语句，同时将变量从一个变量修改为另一个变量。该变量称为索引变量。它依次分配给列表中的元素。\n"
   ]
  },
  {
   "cell_type": "code",
   "execution_count": 4,
   "metadata": {},
   "outputs": [
    {
     "name": "stdout",
     "output_type": "stream",
     "text": [
      "1\n",
      "4\n",
      "100\n"
     ]
    }
   ],
   "source": [
    "L = [1, 2 , 10]\n",
    "\n",
    "for s in L:\n",
    "    print(s**2)  # 输出： 2 4 20"
   ]
  },
  {
   "cell_type": "markdown",
   "metadata": {},
   "source": [
    "在for循环中要重复的部分必须正确缩进：\n",
    "```python\n",
    "for elt in my_list:\n",
    "    do_something\n",
    "    something_else\n",
    "print(\"loop finished\")   # 在for块之外\n",
    "```"
   ]
  },
  {
   "cell_type": "markdown",
   "metadata": {
    "slideshow": {
     "slide_type": "slide"
    }
   },
   "source": [
    "### 重复任务\n",
    "\n",
    "for循环的典型用法是将某个任务重复执行固定的次数\n",
    "\n",
    "```python\n",
    "n = 30\n",
    "for iteration in range(n):\n",
    "    do_something   # 次任务被执行n次\n",
    "```"
   ]
  },
  {
   "cell_type": "markdown",
   "metadata": {
    "slideshow": {
     "slide_type": "slide"
    }
   },
   "source": [
    "### break 和 else\n",
    "\n",
    "for语句有两个重要的关键字： break 和 else。即使正正迭代的列表没有迭代完，break 也将退出for循环：\n",
    "\n",
    "```python\n",
    "for x in x_values:\n",
    "    if x > threshold:\n",
    "        break\n",
    "    print(x)\n",
    "```\n",
    "\n",
    "else检查for循环是否被break关键字中断，如果没有中断，则执行else关键字之后的代码块：\n",
    "\n",
    "```python\n",
    "for x in x_values:\n",
    "    if x > threshold:\n",
    "        break\n",
    "else:\n",
    "    print(\"all the x are below the threshold\")\n",
    "```    "
   ]
  },
  {
   "cell_type": "markdown",
   "metadata": {
    "slideshow": {
     "slide_type": "slide"
    }
   },
   "source": [
    "## 条件语句\n",
    "\n",
    "当条件语句为真时，其界定的代码块被执行‘如果条件不满足，则执行以关键字else 开始的可选块。以｜x｜为例，其python代码如下：\n",
    "```python\n",
    "x = ...\n",
    "if x >= 0:\n",
    "    print(x)\n",
    "else:\n",
    "    print(-x)\n",
    "```\n",
    "\n",
    "任何对象都可以被测试真值，用于 if 或 while 语句。\n",
    "    "
   ]
  },
  {
   "cell_type": "markdown",
   "metadata": {
    "slideshow": {
     "slide_type": "slide"
    }
   },
   "source": [
    "## 使用函数封装代码\n",
    "\n",
    "函数用于将相似的代码收集在一个地方。考虑一下数学函数：\n",
    "$$x \\mapsto f(x):=2x+1$$\n",
    "其Python代码如下：\n",
    "\n",
    "```python\n",
    "def f(x):\n",
    "    return 2*x + 1\n",
    "```\n",
    "\n",
    "一个函数块的组成要素包括：\n",
    "- 关键字 def 告诉Python解释器要定义一个函数\n",
    "- f 为函数的名称\n",
    "- x 是函数的参数或者称为函数的输入\n",
    "- return 语句后面的被称为函数的输出\n",
    "\n",
    "一旦定义了函数，就可以用以下方式的代码来调用它：\n",
    "\n",
    "```python\n",
    "f(2)   # 5\n",
    "f(1)   # 3\n",
    "```\n",
    "   "
   ]
  },
  {
   "cell_type": "markdown",
   "metadata": {
    "slideshow": {
     "slide_type": "slide"
    }
   },
   "source": [
    "## 脚本和模块\n",
    "\n",
    "文件（通常有一个py扩展名）中的语句集合称为**脚本**。假设将以下代码的内容放入名为smartscript.py的文件中：\n",
    "```python\n",
    "def f(x):\n",
    "    return 2*x + 1\n",
    "z =[]\n",
    "for x in range(10):\n",
    "    if f(x) > pi\n",
    "        z.append(x)\n",
    "    else:\n",
    "        z.append(-1)\n",
    "print(z)   \n",
    "```\n",
    "\n",
    "在Python或 IPython Shell中，当打开和读取文件后，可以使用exec命令来执行这个脚本。代码如下：\n",
    "```python\n",
    "exec(open('smartscript.py').read())\n",
    "```\n",
    "\n",
    "IPython Shell 提供了魔法命令 %run， 作为执行脚本的一种方便的替代方法：\n",
    "```shell\n",
    "%run smartscript\n",
    "```"
   ]
  },
  {
   "cell_type": "markdown",
   "metadata": {
    "slideshow": {
     "slide_type": "slide"
    }
   },
   "source": [
    "## 简单的模块 ---- 函数的集合\n",
    "通常人们将函数收集在一个脚本文件中。这将创建一个具有额外功能的Python 模块。 例如下面通过将函数集合在一个单独的文件中来创建一个模块，如 smartfunctions.py\n",
    "\n",
    "```python\n",
    "def f(x):\n",
    "    return 2*x +1\n",
    "def g(x):\n",
    "    return x**2 + 4*x - 5\n",
    "def h(x):\n",
    "    return 1/f(x)\n",
    "```\n",
    "\n",
    "- 这些函数现在可以有任意外部的脚本所使用，也可以直接在IPython环境中使用\n",
    "- 模块内的函数可以相互依赖\n",
    "- 将函数按共同的主题或目的进行分组，使得模块可以被其他人共享和使用\n",
    "        "
   ]
  },
  {
   "cell_type": "markdown",
   "metadata": {
    "slideshow": {
     "slide_type": "slide"
    }
   },
   "source": [
    "### 使用模块和命名空间\n",
    "\n",
    "可以通过 `import` 导入模块。它创建了一个有名字的命名空间。命令 `from` 将函数放到了通用的命名空间中：\n",
    "\n",
    "```python\n",
    "import smartfunctions\n",
    "print(smartfunctions.f(2))     # 5\n",
    "\n",
    "from smartfunctions import g   # 仅输入此函数\n",
    "print(g(1))             # 0\n",
    "\n",
    "from smartfunctions import *.  # 输入所有函数\n",
    "print(h(2)*f(2))     # 1.0\n",
    "```"
   ]
  },
  {
   "cell_type": "markdown",
   "metadata": {
    "slideshow": {
     "slide_type": "slide"
    }
   },
   "source": [
    "## 解释器\n",
    "\n",
    "Python 解释器按以下步骤执行\n",
    "- 1. 执行语法\n",
    "- 2. 逐行执行代码\n",
    "- 3. 不执行函数或类声明中的代码（但要检查语法）"
   ]
  },
  {
   "cell_type": "code",
   "execution_count": 5,
   "metadata": {},
   "outputs": [],
   "source": [
    "def f(x):\n",
    "    return y**2\n",
    "a = 3.   # a 和 f 在这里均被定义"
   ]
  },
  {
   "cell_type": "markdown",
   "metadata": {},
   "source": [
    "因为没有语法错误，所以可以运行以上程序。只用调用函数f时，才会出现错误"
   ]
  },
  {
   "cell_type": "code",
   "execution_count": 6,
   "metadata": {},
   "outputs": [
    {
     "ename": "NameError",
     "evalue": "name 'y' is not defined",
     "output_type": "error",
     "traceback": [
      "\u001b[0;31m---------------------------------------------------------------------------\u001b[0m",
      "\u001b[0;31mNameError\u001b[0m                                 Traceback (most recent call last)",
      "\u001b[0;32m<ipython-input-6-893cda556ae8>\u001b[0m in \u001b[0;36m<module>\u001b[0;34m\u001b[0m\n\u001b[0;32m----> 1\u001b[0;31m \u001b[0mf\u001b[0m\u001b[0;34m(\u001b[0m\u001b[0;36m2\u001b[0m\u001b[0;34m)\u001b[0m        \u001b[0;31m# 错误， y 未被定义\u001b[0m\u001b[0;34m\u001b[0m\u001b[0;34m\u001b[0m\u001b[0m\n\u001b[0m",
      "\u001b[0;32m<ipython-input-5-dd26a891cc2c>\u001b[0m in \u001b[0;36mf\u001b[0;34m(x)\u001b[0m\n\u001b[1;32m      1\u001b[0m \u001b[0;32mdef\u001b[0m \u001b[0mf\u001b[0m\u001b[0;34m(\u001b[0m\u001b[0mx\u001b[0m\u001b[0;34m)\u001b[0m\u001b[0;34m:\u001b[0m\u001b[0;34m\u001b[0m\u001b[0;34m\u001b[0m\u001b[0m\n\u001b[0;32m----> 2\u001b[0;31m     \u001b[0;32mreturn\u001b[0m \u001b[0my\u001b[0m\u001b[0;34m**\u001b[0m\u001b[0;36m2\u001b[0m\u001b[0;34m\u001b[0m\u001b[0;34m\u001b[0m\u001b[0m\n\u001b[0m\u001b[1;32m      3\u001b[0m \u001b[0ma\u001b[0m \u001b[0;34m=\u001b[0m \u001b[0;36m3.\u001b[0m   \u001b[0;31m# a 和 f 在这里均被定义\u001b[0m\u001b[0;34m\u001b[0m\u001b[0;34m\u001b[0m\u001b[0m\n",
      "\u001b[0;31mNameError\u001b[0m: name 'y' is not defined"
     ]
    }
   ],
   "source": [
    "f(2)        # 错误， y 未被定义"
   ]
  },
  {
   "cell_type": "code",
   "execution_count": null,
   "metadata": {},
   "outputs": [],
   "source": []
  }
 ],
 "metadata": {
  "celltoolbar": "幻灯片",
  "kernelspec": {
   "display_name": "Python 3",
   "language": "python",
   "name": "python3"
  },
  "language_info": {
   "codemirror_mode": {
    "name": "ipython",
    "version": 3
   },
   "file_extension": ".py",
   "mimetype": "text/x-python",
   "name": "python",
   "nbconvert_exporter": "python",
   "pygments_lexer": "ipython3",
   "version": "3.7.3"
  }
 },
 "nbformat": 4,
 "nbformat_minor": 2
}
