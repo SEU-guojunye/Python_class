{
 "cells": [
  {
   "cell_type": "markdown",
   "metadata": {
    "slideshow": {
     "slide_type": "slide"
    }
   },
   "source": [
    "# 变量和基本数据类型\n",
    "\n",
    "本节将介绍Python中最重要和最基本的数据类型。"
   ]
  },
  {
   "cell_type": "markdown",
   "metadata": {
    "slideshow": {
     "slide_type": "slide"
    }
   },
   "source": [
    "## 变量\n",
    "\n",
    "变量是对Python对象的引用，可以通过赋值运算符来创建变量，例如："
   ]
  },
  {
   "cell_type": "code",
   "execution_count": 1,
   "metadata": {},
   "outputs": [],
   "source": [
    "a = 1\n",
    "diameter = 3.\n",
    "height = 5.\n",
    "cylinder = [diameter, height]    # 引用列表"
   ]
  },
  {
   "cell_type": "markdown",
   "metadata": {},
   "source": [
    "变量名可以有任意的大小写字母、下画线和数字组合而成。变量名不能以数字开头。注意变量名是区分大小写的。好的变量名是描述你工作的重要组成部分，因此建议使用描述性的变量名。"
   ]
  },
  {
   "cell_type": "markdown",
   "metadata": {
    "slideshow": {
     "slide_type": "slide"
    }
   },
   "source": [
    "Python中有一些保留的关键字不能用作变量名（见下表）。尝试使用这些关键字作为变量名将引发语法错误。\n",
    "\n",
    " and | as | assert | break | class | continue | def | del \n",
    " :----:|:----:|:----:|:----:|:----:|:----:|:----:|:----: \n",
    " elif | else | except | exec | False | finally | for | from \n",
    " global | if | import | in | is | lambda | None | nonlocal \n",
    " not | or | pass | raise | return | True | try | while\n",
    " yield| "
   ]
  },
  {
   "cell_type": "markdown",
   "metadata": {
    "slideshow": {
     "slide_type": "slide"
    }
   },
   "source": [
    "与其他编程语言不同的是， Python 变量不需要进行类型声明。可以用一个多重赋值语句来创建多个变量："
   ]
  },
  {
   "cell_type": "code",
   "execution_count": 2,
   "metadata": {},
   "outputs": [],
   "source": [
    "a = b = c =1   # 变量 a、b、c的值均为1"
   ]
  },
  {
   "cell_type": "markdown",
   "metadata": {},
   "source": [
    "变量在它们定义后也可以被修改"
   ]
  },
  {
   "cell_type": "code",
   "execution_count": 3,
   "metadata": {},
   "outputs": [
    {
     "data": {
      "text/plain": [
       "6"
      ]
     },
     "execution_count": 3,
     "metadata": {},
     "output_type": "execute_result"
    }
   ],
   "source": [
    "a = 1 \n",
    "a = a + 1   # a 的值变为2\n",
    "a = 3 * a   # a 的值变为6 \n",
    "a"
   ]
  },
  {
   "cell_type": "markdown",
   "metadata": {},
   "source": [
    "最后两个语句是通过使用增量运算符，将两个运算符分别直接与赋值运算符组合在一起来书写："
   ]
  },
  {
   "cell_type": "code",
   "execution_count": 4,
   "metadata": {},
   "outputs": [
    {
     "data": {
      "text/plain": [
       "21"
      ]
     },
     "execution_count": 4,
     "metadata": {},
     "output_type": "execute_result"
    }
   ],
   "source": [
    "a += 1   # 相当于 a = a + 1\n",
    "a *= 3   # 相当于 a = 3 * a\n",
    "a"
   ]
  },
  {
   "cell_type": "markdown",
   "metadata": {
    "slideshow": {
     "slide_type": "slide"
    }
   },
   "source": [
    "## 数值类型\n",
    "\n",
    "像其他计算语言一样，Python 中也有数值类型\n",
    "\n",
    "- 数值类型 int： 理论上至少是整个 $\\mathbb{Z}$\n",
    "- 数值类型 float： 是$\\mathbb{R}$ 的有限子集\n",
    "- 数值类型 complex： 是$\\mathbb{C}$ 的有限子集"
   ]
  },
  {
   "cell_type": "markdown",
   "metadata": {
    "slideshow": {
     "slide_type": "slide"
    }
   },
   "source": [
    "### 整数类型\n",
    "\n",
    "整数类型是最简单的数值类型。 将 +、-或\\*运算符应用于整数会返回一个整数，除法运算符//会返回一个整数，而除法运算符/可能返回一个浮点数"
   ]
  },
  {
   "cell_type": "code",
   "execution_count": 5,
   "metadata": {},
   "outputs": [
    {
     "data": {
      "text/plain": [
       "3.5"
      ]
     },
     "execution_count": 5,
     "metadata": {},
     "output_type": "execute_result"
    }
   ],
   "source": [
    "6 // 2    # 3\n",
    "7 // 2    # 3\n",
    "7 / 2     # 3.5"
   ]
  },
  {
   "cell_type": "markdown",
   "metadata": {
    "slideshow": {
     "slide_type": "slide"
    }
   },
   "source": [
    "### 浮点数\n",
    "\n",
    "如果在Python 中执行语句 a = 3.0, 就创建了一个浮点数（Python数据类型： float）。这些浮点数是有理数$\\mathbb{Q}$ 的一个子集。\n",
    "\n",
    "另外，常数可以用指数符号表示为 a = 30.0e-1 或简化为 a = 30.e-1。符合e将指数与尾数分开，表示式显示为数学形式则为$a = 30.0 \\times 10^{-1}$.浮点数职的是这些数字的内部表示，并在大范围内考虑数字时反映了小数点的浮动位置。\n",
    "\n",
    "将基本数学运算符 +、-、\\*和/作用于菱格浮点数或一个整数与一个浮点数时，将返回一个浮点数。浮点数之间的运算很少返回像有理数运算一样的精确的预测结果："
   ]
  },
  {
   "cell_type": "code",
   "execution_count": 6,
   "metadata": {},
   "outputs": [
    {
     "data": {
      "text/plain": [
       "0.10000000000000003"
      ]
     },
     "execution_count": 6,
     "metadata": {},
     "output_type": "execute_result"
    }
   ],
   "source": [
    "0.4 - 0.3   #返回 0.10000000000000003"
   ]
  },
  {
   "cell_type": "markdown",
   "metadata": {},
   "source": [
    "在浮点数比较时，这个事实很重要："
   ]
  },
  {
   "cell_type": "code",
   "execution_count": 7,
   "metadata": {},
   "outputs": [
    {
     "data": {
      "text/plain": [
       "False"
      ]
     },
     "execution_count": 7,
     "metadata": {},
     "output_type": "execute_result"
    }
   ],
   "source": [
    "0.4 - 0.3 == 0.1  #返回 False"
   ]
  },
  {
   "cell_type": "markdown",
   "metadata": {
    "slideshow": {
     "slide_type": "slide"
    }
   },
   "source": [
    "### 无穷与非数字\n",
    "\n",
    "在SciPy中，将特殊浮点数 inf 赋值给溢出结果："
   ]
  },
  {
   "cell_type": "code",
   "execution_count": 8,
   "metadata": {},
   "outputs": [
    {
     "data": {
      "text/plain": [
       "inf"
      ]
     },
     "execution_count": 8,
     "metadata": {},
     "output_type": "execute_result"
    }
   ],
   "source": [
    "from scipy import *\n",
    "\n",
    "exp(1000.)    # inf\n",
    "\n",
    "a = inf\n",
    "3 - a  # -inf\n",
    "3 + a  # inf"
   ]
  },
  {
   "cell_type": "markdown",
   "metadata": {},
   "source": [
    "使用inf 可能得不到数学意义上的结果。这在Python中时通过将另一个特殊的浮点数 nan 赋值给运算结果来表示的。nan 代表非数字，也就是数学预算的一个未定义的结果："
   ]
  },
  {
   "cell_type": "code",
   "execution_count": 9,
   "metadata": {},
   "outputs": [
    {
     "data": {
      "text/plain": [
       "nan"
      ]
     },
     "execution_count": 9,
     "metadata": {},
     "output_type": "execute_result"
    }
   ],
   "source": [
    "a + a # inf\n",
    "a - a # nan\n",
    "a / a # nan"
   ]
  },
  {
   "cell_type": "markdown",
   "metadata": {
    "slideshow": {
     "slide_type": "slide"
    }
   },
   "source": [
    "使用 nan 和inf 执行运算时有一些特殊的规则。例如，nan与任意数值（甚至本身）做比较，总是返回 False："
   ]
  },
  {
   "cell_type": "code",
   "execution_count": 10,
   "metadata": {},
   "outputs": [
    {
     "data": {
      "text/plain": [
       "False"
      ]
     },
     "execution_count": 10,
     "metadata": {},
     "output_type": "execute_result"
    }
   ],
   "source": [
    "x = nan\n",
    "x < 0 # False\n",
    "x > 0 # False\n",
    "x == x # False"
   ]
  },
  {
   "cell_type": "markdown",
   "metadata": {},
   "source": [
    "浮点数 inf 的计算结果比预期的要多得多："
   ]
  },
  {
   "cell_type": "code",
   "execution_count": 11,
   "metadata": {},
   "outputs": [
    {
     "data": {
      "text/plain": [
       "1.0"
      ]
     },
     "execution_count": 11,
     "metadata": {},
     "output_type": "execute_result"
    }
   ],
   "source": [
    "0 < inf     # True\n",
    "inf <= inf  # True\n",
    "inf == inf  # True\n",
    "-inf < inf  # True\n",
    "inf - inf   # nan\n",
    "exp(-inf)   # 0\n",
    "exp(1 / inf)#1"
   ]
  },
  {
   "cell_type": "markdown",
   "metadata": {
    "slideshow": {
     "slide_type": "slide"
    }
   },
   "source": [
    "## NumPy 中的其他浮点类型\n",
    "\n",
    "NumPy 还提供了其他的浮点类型，在其他编程语言中称为**双精度**和**单精度**数，即float64 和float32:"
   ]
  },
  {
   "cell_type": "code",
   "execution_count": 12,
   "metadata": {},
   "outputs": [
    {
     "data": {
      "text/plain": [
       "-8.742278012618954e-08"
      ]
     },
     "execution_count": 12,
     "metadata": {},
     "output_type": "execute_result"
    }
   ],
   "source": [
    "from numpy import *\n",
    "a = pi              # 返回 3.141592653589793\n",
    "a1 = float64(a)     # 返回 3.141592653589793\n",
    "a2 = float32(a)     # 返回 3.1415927\n",
    "a - a1              # 返回 0.0\n",
    "a - a2              # 返回 -8.742278012618954e-08"
   ]
  },
  {
   "cell_type": "markdown",
   "metadata": {},
   "source": [
    "倒数第二行表明变量a 和 a1 的京都是相同的。在前两行中它们只是展示的方式不同。精度的真正差异存在于变量a与其单精度副本a2之间。"
   ]
  },
  {
   "cell_type": "markdown",
   "metadata": {
    "slideshow": {
     "slide_type": "slide"
    }
   },
   "source": [
    "NumPy 包的函数finfo 可用于展示有关这些浮点类型的信息："
   ]
  },
  {
   "cell_type": "code",
   "execution_count": 13,
   "metadata": {},
   "outputs": [
    {
     "name": "stdout",
     "output_type": "stream",
     "text": [
      "Help on class finfo in module numpy:\n",
      "\n",
      "class finfo(builtins.object)\n",
      " |  finfo(dtype)\n",
      " |  \n",
      " |  finfo(dtype)\n",
      " |  \n",
      " |  Machine limits for floating point types.\n",
      " |  \n",
      " |  Attributes\n",
      " |  ----------\n",
      " |  bits : int\n",
      " |      The number of bits occupied by the type.\n",
      " |  eps : float\n",
      " |      The smallest representable positive number such that\n",
      " |      ``1.0 + eps != 1.0``.  Type of `eps` is an appropriate floating\n",
      " |      point type.\n",
      " |  epsneg : floating point number of the appropriate type\n",
      " |      The smallest representable positive number such that\n",
      " |      ``1.0 - epsneg != 1.0``.\n",
      " |  iexp : int\n",
      " |      The number of bits in the exponent portion of the floating point\n",
      " |      representation.\n",
      " |  machar : MachAr\n",
      " |      The object which calculated these parameters and holds more\n",
      " |      detailed information.\n",
      " |  machep : int\n",
      " |      The exponent that yields `eps`.\n",
      " |  max : floating point number of the appropriate type\n",
      " |      The largest representable number.\n",
      " |  maxexp : int\n",
      " |      The smallest positive power of the base (2) that causes overflow.\n",
      " |  min : floating point number of the appropriate type\n",
      " |      The smallest representable number, typically ``-max``.\n",
      " |  minexp : int\n",
      " |      The most negative power of the base (2) consistent with there\n",
      " |      being no leading 0's in the mantissa.\n",
      " |  negep : int\n",
      " |      The exponent that yields `epsneg`.\n",
      " |  nexp : int\n",
      " |      The number of bits in the exponent including its sign and bias.\n",
      " |  nmant : int\n",
      " |      The number of bits in the mantissa.\n",
      " |  precision : int\n",
      " |      The approximate number of decimal digits to which this kind of\n",
      " |      float is precise.\n",
      " |  resolution : floating point number of the appropriate type\n",
      " |      The approximate decimal resolution of this type, i.e.,\n",
      " |      ``10**-precision``.\n",
      " |  tiny : float\n",
      " |      The smallest positive usable number.  Type of `tiny` is an\n",
      " |      appropriate floating point type.\n",
      " |  \n",
      " |  Parameters\n",
      " |  ----------\n",
      " |  dtype : float, dtype, or instance\n",
      " |      Kind of floating point data-type about which to get information.\n",
      " |  \n",
      " |  See Also\n",
      " |  --------\n",
      " |  MachAr : The implementation of the tests that produce this information.\n",
      " |  iinfo : The equivalent for integer data types.\n",
      " |  \n",
      " |  Notes\n",
      " |  -----\n",
      " |  For developers of NumPy: do not instantiate this at the module level.\n",
      " |  The initial calculation of these parameters is expensive and negatively\n",
      " |  impacts import times.  These objects are cached, so calling ``finfo()``\n",
      " |  repeatedly inside your functions is not a problem.\n",
      " |  \n",
      " |  Methods defined here:\n",
      " |  \n",
      " |  __repr__(self)\n",
      " |      Return repr(self).\n",
      " |  \n",
      " |  __str__(self)\n",
      " |      Return str(self).\n",
      " |  \n",
      " |  ----------------------------------------------------------------------\n",
      " |  Static methods defined here:\n",
      " |  \n",
      " |  __new__(cls, dtype)\n",
      " |      Create and return a new object.  See help(type) for accurate signature.\n",
      " |  \n",
      " |  ----------------------------------------------------------------------\n",
      " |  Data descriptors defined here:\n",
      " |  \n",
      " |  __dict__\n",
      " |      dictionary for instance variables (if defined)\n",
      " |  \n",
      " |  __weakref__\n",
      " |      list of weak references to the object (if defined)\n",
      "\n"
     ]
    }
   ],
   "source": [
    "f32 = finfo(float32)\n",
    "f32.precision               # 6(十进制)\n",
    "f64 = finfo(float64)\n",
    "f64.precision               # 15(十进制)\n",
    "f = finfo(float)\n",
    "f.precision                 # 15(十进制)\n",
    "f64.max                     # 1.7976931348623157e+308 (最大值)\n",
    "f32.max                     # 3.4028235e+38 (最大值)\n",
    "help(finfo)                 # 查看更多选项"
   ]
  },
  {
   "cell_type": "markdown",
   "metadata": {
    "slideshow": {
     "slide_type": "slide"
    }
   },
   "source": [
    "### 复数\n",
    "\n",
    "在Python中，叙述的特征在于其为后缀带有字母j的浮点数，例如 z = 5.2j。 复数是浮点数和虚数的总和，例如 z = 3.5 + 5.2j。\n",
    "\n",
    "在数学中，虚部表示为实数与虚数单位的乘积，但在Python中，虚数的表示方式不是乘积--- j只是一个后缀，表示该数为虚数。"
   ]
  },
  {
   "cell_type": "code",
   "execution_count": 14,
   "metadata": {},
   "outputs": [
    {
     "ename": "NameError",
     "evalue": "name 'bj' is not defined",
     "output_type": "error",
     "traceback": [
      "\u001b[0;31m---------------------------------------------------------------------------\u001b[0m",
      "\u001b[0;31mNameError\u001b[0m                                 Traceback (most recent call last)",
      "\u001b[0;32m<ipython-input-14-0b0ef9230093>\u001b[0m in \u001b[0;36m<module>\u001b[0;34m\u001b[0m\n\u001b[1;32m      1\u001b[0m \u001b[0mb\u001b[0m \u001b[0;34m=\u001b[0m \u001b[0;36m5.2\u001b[0m\u001b[0;34m\u001b[0m\u001b[0;34m\u001b[0m\u001b[0m\n\u001b[0;32m----> 2\u001b[0;31m \u001b[0mz\u001b[0m \u001b[0;34m=\u001b[0m \u001b[0mbj\u001b[0m     \u001b[0;31m# 返回错误\u001b[0m\u001b[0;34m\u001b[0m\u001b[0;34m\u001b[0m\u001b[0m\n\u001b[0m\u001b[1;32m      3\u001b[0m \u001b[0mz\u001b[0m \u001b[0;34m=\u001b[0m \u001b[0mb\u001b[0m\u001b[0;34m*\u001b[0m\u001b[0mj\u001b[0m    \u001b[0;31m# 返回错误\u001b[0m\u001b[0;34m\u001b[0m\u001b[0;34m\u001b[0m\u001b[0m\n\u001b[1;32m      4\u001b[0m \u001b[0mz\u001b[0m \u001b[0;34m=\u001b[0m \u001b[0mb\u001b[0m\u001b[0;34m*\u001b[0m\u001b[0;36m1j\u001b[0m   \u001b[0;31m# 正确\u001b[0m\u001b[0;34m\u001b[0m\u001b[0;34m\u001b[0m\u001b[0m\n",
      "\u001b[0;31mNameError\u001b[0m: name 'bj' is not defined"
     ]
    }
   ],
   "source": [
    "b = 5.2\n",
    "z = bj     # 返回错误\n",
    "z = b*j    # 返回错误\n",
    "z = b*1j   # 正确"
   ]
  },
  {
   "cell_type": "markdown",
   "metadata": {},
   "source": [
    "方法conjugate返回z的共轭："
   ]
  },
  {
   "cell_type": "code",
   "execution_count": 15,
   "metadata": {},
   "outputs": [
    {
     "data": {
      "text/plain": [
       "(3.2-5.2j)"
      ]
     },
     "execution_count": 15,
     "metadata": {},
     "output_type": "execute_result"
    }
   ],
   "source": [
    "z = 3.2 + 5.2j\n",
    "z.conjugate()          # 返回(3.2-5.2j)"
   ]
  },
  {
   "cell_type": "markdown",
   "metadata": {
    "slideshow": {
     "slide_type": "slide"
    }
   },
   "source": [
    "### 实部和虚部\n",
    "\n",
    "通过使用其属性real 和 imag，可以访问复数z的实部和虚部。这些属性是只读的："
   ]
  },
  {
   "cell_type": "code",
   "execution_count": 16,
   "metadata": {},
   "outputs": [
    {
     "ename": "AttributeError",
     "evalue": "readonly attribute",
     "output_type": "error",
     "traceback": [
      "\u001b[0;31m---------------------------------------------------------------------------\u001b[0m",
      "\u001b[0;31mAttributeError\u001b[0m                            Traceback (most recent call last)",
      "\u001b[0;32m<ipython-input-16-e60041f85b3e>\u001b[0m in \u001b[0;36m<module>\u001b[0;34m\u001b[0m\n\u001b[1;32m      2\u001b[0m \u001b[0mz\u001b[0m\u001b[0;34m.\u001b[0m\u001b[0mreal\u001b[0m      \u001b[0;31m# 0.0\u001b[0m\u001b[0;34m\u001b[0m\u001b[0;34m\u001b[0m\u001b[0m\n\u001b[1;32m      3\u001b[0m \u001b[0mz\u001b[0m\u001b[0;34m.\u001b[0m\u001b[0mimag\u001b[0m      \u001b[0;31m# 1.0\u001b[0m\u001b[0;34m\u001b[0m\u001b[0;34m\u001b[0m\u001b[0m\n\u001b[0;32m----> 4\u001b[0;31m \u001b[0mz\u001b[0m\u001b[0;34m.\u001b[0m\u001b[0mimag\u001b[0m \u001b[0;34m=\u001b[0m \u001b[0;36m2\u001b[0m  \u001b[0;31m# 返回 AttributeError: readonly attribute\u001b[0m\u001b[0;34m\u001b[0m\u001b[0;34m\u001b[0m\u001b[0m\n\u001b[0m",
      "\u001b[0;31mAttributeError\u001b[0m: readonly attribute"
     ]
    }
   ],
   "source": [
    "z = 1j\n",
    "z.real      # 0.0\n",
    "z.imag      # 1.0\n",
    "z.imag = 2  # 返回 AttributeError: readonly attribute"
   ]
  },
  {
   "cell_type": "markdown",
   "metadata": {},
   "source": [
    "复数是不可能被转化成实数的："
   ]
  },
  {
   "cell_type": "code",
   "execution_count": 17,
   "metadata": {},
   "outputs": [
    {
     "ename": "TypeError",
     "evalue": "can't convert complex to float",
     "output_type": "error",
     "traceback": [
      "\u001b[0;31m---------------------------------------------------------------------------\u001b[0m",
      "\u001b[0;31mTypeError\u001b[0m                                 Traceback (most recent call last)",
      "\u001b[0;32m<ipython-input-17-336daa672a85>\u001b[0m in \u001b[0;36m<module>\u001b[0;34m\u001b[0m\n\u001b[1;32m      1\u001b[0m \u001b[0mz\u001b[0m \u001b[0;34m=\u001b[0m \u001b[0;36m1\u001b[0m \u001b[0;34m+\u001b[0m \u001b[0;36m0j\u001b[0m\u001b[0;34m\u001b[0m\u001b[0;34m\u001b[0m\u001b[0m\n\u001b[1;32m      2\u001b[0m \u001b[0mz\u001b[0m \u001b[0;34m==\u001b[0m \u001b[0;36m1\u001b[0m         \u001b[0;31m# True\u001b[0m\u001b[0;34m\u001b[0m\u001b[0;34m\u001b[0m\u001b[0m\n\u001b[0;32m----> 3\u001b[0;31m \u001b[0mfloat\u001b[0m\u001b[0;34m(\u001b[0m\u001b[0mz\u001b[0m\u001b[0;34m)\u001b[0m       \u001b[0;31m# TypeError\u001b[0m\u001b[0;34m\u001b[0m\u001b[0;34m\u001b[0m\u001b[0m\n\u001b[0m",
      "\u001b[0;31mTypeError\u001b[0m: can't convert complex to float"
     ]
    }
   ],
   "source": [
    "z = 1 + 0j\n",
    "z == 1         # True\n",
    "float(z)       # TypeError"
   ]
  },
  {
   "cell_type": "markdown",
   "metadata": {
    "slideshow": {
     "slide_type": "slide"
    }
   },
   "source": [
    "## 布尔类型\n",
    "\n",
    "布尔类型是以George Boole命名的数据类型。一个布尔类型的变量只能取两个值，即True或 False。这种数据类型主要用在逻辑表达式中，一些实例如下所示："
   ]
  },
  {
   "cell_type": "code",
   "execution_count": 18,
   "metadata": {},
   "outputs": [],
   "source": [
    "a = True\n",
    "b = 30 > 45  # b的值为False"
   ]
  },
  {
   "cell_type": "markdown",
   "metadata": {},
   "source": [
    "布尔表达式通常与if语句一起使用：\n",
    "```python\n",
    "if x > 0:\n",
    "    print(\"positive\")\n",
    "else:\n",
    "    print(\"nonpositive\")\n",
    "```   "
   ]
  },
  {
   "cell_type": "markdown",
   "metadata": {
    "slideshow": {
     "slide_type": "slide"
    }
   },
   "source": [
    "### 布尔运算符\n",
    "\n",
    "在Python中，可以用关键字and、or和not来执行布尔运算：\n",
    "\n",
    "```python\n",
    "True and False  # False\n",
    "False or True   # True\n",
    "(30 > 45) or (27 < 30)  # True\n",
    "not True   # False\n",
    "not (3 > 4)  # True\n",
    "```"
   ]
  },
  {
   "cell_type": "markdown",
   "metadata": {
    "slideshow": {
     "slide_type": "slide"
    }
   },
   "source": [
    "### 布尔类型转换\n",
    "\n",
    "大多数Python对象均可被转换为布尔类型，这被称作**布尔类型转换**。内置函数bool可执行该转化。注意大多数对象都被转化为True（0除外），而空元组、空列表、空字符串或空数组则转换为False。\n",
    "\n",
    "数组是不可能被转换为布尔值的，除非该数组不包含或只包含一个元素。下表汇总了一些布尔类型转换的guiz\n",
    "\n",
    "| Bool| False | True |\n",
    "| :----:| :----: | :----: |\n",
    "| string | \" | 'not empty' |\n",
    "| number | 0 | $\\neq$|\n",
    "| list | [] | [...](not empty)|\n",
    "| tuple | () | (......)(not empty)|\n",
    "| array | array([]) | array([a])(a$\\neq$0)|\n",
    "|array | array([0])| |\n",
    "|array | 若数组含有一个以上的元素，则引发异常"
   ]
  },
  {
   "cell_type": "markdown",
   "metadata": {
    "slideshow": {
     "slide_type": "slide"
    }
   },
   "source": [
    "### 布尔类型自动转换\n",
    "\n",
    "使用if 语句作用于一个非布尔类型的数据，可使其转换为布尔值。换句话说，以下两个语句总是等效的：\n",
    "```python\n",
    "if a:\n",
    "    ...\n",
    "if bool(a):  # 与上面完全一样\n",
    "    ...\n",
    "```\n",
    "一个典型的示例是测试列表是否为空：\n",
    "```python\n",
    "# L 是一个列表\n",
    "if L:\n",
    "    print(\"list not empty\")\n",
    "else:\n",
    "    print(\"list is empty\")\n",
    "```"
   ]
  },
  {
   "cell_type": "markdown",
   "metadata": {
    "slideshow": {
     "slide_type": "slide"
    }
   },
   "source": [
    "空数组、空列表或空元组将返回False。还可以在if语句中使用一个变量，例如整数：\n",
    "```python\n",
    "# n 是一个整数\n",
    "if n % 2:\n",
    "    print(\"n is odd\")\n",
    "else:\n",
    "    print(\"n is even\")\n",
    "```    \n",
    "  \n",
    "注意，在这里将%用于取模运算，将返回整数除法的余数。在该例中，将返回0 或 1总以为u对于2 执行取模运算之后的余数。"
   ]
  },
  {
   "cell_type": "markdown",
   "metadata": {
    "slideshow": {
     "slide_type": "slide"
    }
   },
   "source": [
    "## 字符串类型\n",
    "\n",
    "string是应用于文本的数据类型："
   ]
  },
  {
   "cell_type": "code",
   "execution_count": 19,
   "metadata": {},
   "outputs": [],
   "source": [
    "name = 'Johan Carlsson'\n",
    "child = \"Asa is Johan Carlsson's daughter\"\n",
    "book = \"\"\"Aunt Julia\n",
    "       and the Scriptwriter\"\"\""
   ]
  },
  {
   "cell_type": "markdown",
   "metadata": {},
   "source": [
    "字符串是有单引号或双引号括起来的。如果字符串包含多行，则必须用3个双引号或3个单引号括起来。\n",
    "\n",
    "字符串可以使用简单的索引或者切片进行索引："
   ]
  },
  {
   "cell_type": "code",
   "execution_count": 20,
   "metadata": {},
   "outputs": [
    {
     "data": {
      "text/plain": [
       "'Scriptwriter'"
      ]
     },
     "execution_count": 20,
     "metadata": {},
     "output_type": "execute_result"
    }
   ],
   "source": [
    "book[-1]  #返回 'r'\n",
    "book[-12:] # 返回 'Scriptwriter'"
   ]
  },
  {
   "cell_type": "markdown",
   "metadata": {
    "slideshow": {
     "slide_type": "slide"
    }
   },
   "source": [
    "字符串是不可改变的，也就是说，其子项不可更改，元组也享有这个只读属性。命令book[1] = 'a' 返回：\n",
    "TypeError: 'str' object does not support item assignment\n",
    "\n",
    "字符串'\\n' 用于插入换字符， 't' 用于将水平制表符（TAB）插入到字符串中意使多行文本堆砌：\n",
    "```python\n",
    "print('Temperature:\\t20\\tC\\nPressure:\\t5\\tPa')\n",
    "```"
   ]
  },
  {
   "cell_type": "markdown",
   "metadata": {
    "slideshow": {
     "slide_type": "slide"
    }
   },
   "source": [
    "这些字符串是有关转义字符的例子。转义字符总是以反斜杠（\\）开头。一个多行字符串会自动包含转义字符："
   ]
  },
  {
   "cell_type": "code",
   "execution_count": 21,
   "metadata": {},
   "outputs": [
    {
     "data": {
      "text/plain": [
       "'\\nA multiline\\nexample'"
      ]
     },
     "execution_count": 21,
     "metadata": {},
     "output_type": "execute_result"
    }
   ],
   "source": [
    "a = \"\"\"\n",
    "A multiline\n",
    "example\"\"\"\n",
    "\n",
    "a    #返回 '\\nA multiline\\nexample'"
   ]
  },
  {
   "cell_type": "markdown",
   "metadata": {},
   "source": [
    "一个特殊的转义序列为\"\\\\\",它代表文本中的反斜杠本身："
   ]
  },
  {
   "cell_type": "code",
   "execution_count": 22,
   "metadata": {},
   "outputs": [],
   "source": [
    "latexfontsize = \"\\\\tiny\""
   ]
  },
  {
   "cell_type": "markdown",
   "metadata": {
    "slideshow": {
     "slide_type": "slide"
    }
   },
   "source": [
    "通过使用原始字符串可以实现相同的效果："
   ]
  },
  {
   "cell_type": "code",
   "execution_count": 23,
   "metadata": {},
   "outputs": [
    {
     "data": {
      "text/plain": [
       "True"
      ]
     },
     "execution_count": 23,
     "metadata": {},
     "output_type": "execute_result"
    }
   ],
   "source": [
    "latexfs = r\"\\tiny\"  #返回 “\\tiny”\n",
    "latexfontsize == latexfs  # 返回True"
   ]
  },
  {
   "cell_type": "markdown",
   "metadata": {},
   "source": [
    "注意，在原始字符串中，反斜杠仍被保留在字符串中，用于转义一些特殊符号："
   ]
  },
  {
   "cell_type": "code",
   "execution_count": 24,
   "metadata": {},
   "outputs": [
    {
     "ename": "SyntaxError",
     "evalue": "EOL while scanning string literal (<ipython-input-24-f65a9d21cf43>, line 3)",
     "output_type": "error",
     "traceback": [
      "\u001b[0;36m  File \u001b[0;32m\"<ipython-input-24-f65a9d21cf43>\"\u001b[0;36m, line \u001b[0;32m3\u001b[0m\n\u001b[0;31m    r\"\\\"   # 返回一个错误\u001b[0m\n\u001b[0m                   ^\u001b[0m\n\u001b[0;31mSyntaxError\u001b[0m\u001b[0;31m:\u001b[0m EOL while scanning string literal\n"
     ]
    }
   ],
   "source": [
    "r'\\''   # 返回 \"\\\\'\"\n",
    "r\"\\\\\"  # 返回 '\\\\\\\\'\n",
    "r\"\\\"   # 返回一个错误"
   ]
  },
  {
   "cell_type": "markdown",
   "metadata": {
    "slideshow": {
     "slide_type": "slide"
    }
   },
   "source": [
    "### 用于字符串和字符串方法的运算\n",
    "\n",
    "字符串加法运算即为字符串链接：\n",
    "```python\n",
    "last_name = 'Carlsson'\n",
    "first_name = 'Johanna'\n",
    "ful_name = first_name + '' + last_name # 返回 ‘Johanna Carlsson’\n",
    "```\n",
    "\n",
    "乘法只是重复的加法：\n",
    "```python\n",
    "game = 2 * 'Yo'  # 返回 ‘YoYo’\n",
    "```\n",
    "\n",
    "当比较字符串时，使用的是字符顺序，统一字母的排序其大写形式优先于其小写形式：\n",
    "```python\n",
    "'Anna' > 'Arvi'  # 返回false\n",
    "'ANNA' < 'anna'  # 返回true\n",
    "'10B' < '11A'    # 返回true\n",
    "```"
   ]
  },
  {
   "cell_type": "markdown",
   "metadata": {
    "slideshow": {
     "slide_type": "slide"
    }
   },
   "source": [
    "对于众多的字符串方法，这里仅提及其中其中最重要的方法\n",
    "\n",
    "- **字符串分割:**通过使用耽搁或多个空格作为分割符，该方法可以从一个字符串生成列表。或者通过制定特定的字符串作为分为分隔符来为其提供一个参数\n",
    "```python\n",
    "text = 'quod erat    demonstrandum'\n",
    "text.split()   # 返回 ['quod', 'erat', 'demonstrandum']\n",
    "table = 'Johan;Carlsson;19890327'\n",
    "table.split(';')  # 返回['Johan','Carlsson','19890327']\n",
    "king = 'CarlXVIGustaf'\n",
    "king.split('XVI')   # 返回['Carl', 'Gustaf']\n",
    "```"
   ]
  },
  {
   "cell_type": "markdown",
   "metadata": {
    "slideshow": {
     "slide_type": "slide"
    }
   },
   "source": [
    "- **将列表连接为字符串:** 这是字符串分割的反操作：\n",
    "```python\n",
    "sep = ';'\n",
    "sep.join(['Johan','Carlsson','19890327']) # 返回'Johan';'Carlsson';'19890327'\n",
    "```\n",
    "\n",
    "- **字符串搜索:** 次方法返回字符串所匹配的第一个索引值，即给定搜索子串的起始位置.\n",
    "```python\n",
    "birthday = '20101210'\n",
    "birthday.find('10')   # 返回 2\n",
    "```\n",
    "\n",
    "如果没有找到搜索的字符串，则方法的返回值为 -1."
   ]
  },
  {
   "cell_type": "markdown",
   "metadata": {
    "slideshow": {
     "slide_type": "slide"
    }
   },
   "source": [
    "### 字符串格式化\n",
    "\n",
    "字符串通过使用format方法来实现"
   ]
  },
  {
   "cell_type": "code",
   "execution_count": 25,
   "metadata": {},
   "outputs": [
    {
     "name": "stdout",
     "output_type": "stream",
     "text": [
      "This course's name is NUMA21\n"
     ]
    }
   ],
   "source": [
    "course_code = \"NUMA21\"\n",
    "print(\"This course's name is {}\".format(course_code)) # This course's name is NUMA21"
   ]
  },
  {
   "cell_type": "markdown",
   "metadata": {},
   "source": [
    "函数format是一个字符串方法，它会扫描字符串以便发现占位符，这些占位符是有大括号括起来的。这些占位符以指定的参数格式化方法被替换。占位符如何被替换取决于每个大括号中所定义的格式说明符。格式说明符以“:”作为其前缀来表示。"
   ]
  },
  {
   "cell_type": "markdown",
   "metadata": {
    "slideshow": {
     "slide_type": "slide"
    }
   },
   "source": [
    "格式化方法提供了一系列可能性，使得可依据其类型来自定义对象的格式化。在科学计算中专用的是float类型的格式说明符。我们可以选择标准的形式{:f},也可以选择带指数符号的形式{:e}:"
   ]
  },
  {
   "cell_type": "code",
   "execution_count": 26,
   "metadata": {},
   "outputs": [
    {
     "name": "stdout",
     "output_type": "stream",
     "text": [
      "33.450000\n",
      "33.5\n",
      "3.35e+01\n"
     ]
    }
   ],
   "source": [
    "quantity = 33.45\n",
    "print(\"{:f}\".format(quantity))     # 33.450000\n",
    "print(\"{:1.1f}\".format(quantity))  # 33.5\n",
    "print(\"{:.2e}\".format(quantity))   # 3.35e+01"
   ]
  },
  {
   "cell_type": "markdown",
   "metadata": {},
   "source": [
    "格式说明符允许制定舍入精度（小数点后面数字所表示的位数）。此外，可以设置格式说明符所包含的代表数字的前导空格的总数。"
   ]
  },
  {
   "cell_type": "code",
   "execution_count": 27,
   "metadata": {
    "slideshow": {
     "slide_type": "slide"
    }
   },
   "outputs": [
    {
     "name": "stdout",
     "output_type": "stream",
     "text": [
      "quantity 33.5\n"
     ]
    }
   ],
   "source": [
    "print(\"{name} {value:.1f}\".format(name=\"quantity\",value = quantity)) \n",
    "# 输出 quantity 33.5"
   ]
  },
  {
   "cell_type": "markdown",
   "metadata": {},
   "source": [
    "在此例中，将需要插入其值的对象的名称作为格式化方法的参数。第一个大括号对被第一个参数替换，接下来的大括号对被后续的参数替换。或者使用健值对语法也会很方便。 这里处理了两个值，分别打印了没有格式说明符的字符串name以及固定保留一位小数的浮点值。\n",
    "\n",
    "一个字符串可能包含一对大括号，其不应该被视为format方法的占位符。这种情况下要使用双括号："
   ]
  },
  {
   "cell_type": "code",
   "execution_count": 28,
   "metadata": {},
   "outputs": [
    {
     "data": {
      "text/plain": [
       "'we like in Latex \\\\begin{equation}'"
      ]
     },
     "execution_count": 28,
     "metadata": {},
     "output_type": "execute_result"
    }
   ],
   "source": [
    "r\"we {} in Latex \\begin{{equation}}\".format('like')  \n",
    "#返回 'we like in Latex \\\\begin{equation}'"
   ]
  },
  {
   "cell_type": "code",
   "execution_count": null,
   "metadata": {},
   "outputs": [],
   "source": []
  },
  {
   "cell_type": "code",
   "execution_count": null,
   "metadata": {},
   "outputs": [],
   "source": []
  },
  {
   "cell_type": "code",
   "execution_count": null,
   "metadata": {},
   "outputs": [],
   "source": []
  },
  {
   "cell_type": "code",
   "execution_count": null,
   "metadata": {},
   "outputs": [],
   "source": []
  }
 ],
 "metadata": {
  "celltoolbar": "幻灯片",
  "kernelspec": {
   "display_name": "Python 3",
   "language": "python",
   "name": "python3"
  },
  "language_info": {
   "codemirror_mode": {
    "name": "ipython",
    "version": 3
   },
   "file_extension": ".py",
   "mimetype": "text/x-python",
   "name": "python",
   "nbconvert_exporter": "python",
   "pygments_lexer": "ipython3",
   "version": "3.7.3"
  }
 },
 "nbformat": 4,
 "nbformat_minor": 2
}
