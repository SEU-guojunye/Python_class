{
 "cells": [
  {
   "cell_type": "markdown",
   "metadata": {
    "slideshow": {
     "slide_type": "slide"
    }
   },
   "source": [
    "# 容器类型\n",
    "\n",
    "容器类型用于讲对象分组汇总到一起。不同容器类型之间的最主要区别是单个元素的访问方式以及运算定义方式不同。"
   ]
  },
  {
   "cell_type": "markdown",
   "metadata": {
    "slideshow": {
     "slide_type": "slide"
    }
   },
   "source": [
    "## 列表\n",
    "\n",
    "顾名思义，列表是一个包含了一系列任意对象的容器：\n",
    "\n",
    "```python\n",
    "L = ['a', 20.0, 5]\n",
    "M = [3, ['a',-3.0, 5]]\n",
    "```\n",
    "通过为每个元素分配一个索引，引用于遍历列表中的每个对象。列表第一个元素的索引值为**0**。这种基于0的索引在数学符号中经常使用。（考虑多项式系数的常用索引）"
   ]
  },
  {
   "cell_type": "markdown",
   "metadata": {
    "slideshow": {
     "slide_type": "slide"
    }
   },
   "source": [
    "索引可用于访问如下对象：\n",
    "```python\n",
    "L[1]    # 返回 20.0\n",
    "L[0]    # 返回 ‘a’\n",
    "M[1]    # 返回['a', -3.0,5]\n",
    "M[1][2] # 返回 5\n",
    "```\n",
    "这里的方括号用法相当于数学公式中所使用的下标。 L是一个简单的列表，而列表M本身嵌套了一个列表，以至于需要两个索引来访问嵌套列表中的元素。"
   ]
  },
  {
   "cell_type": "markdown",
   "metadata": {
    "slideshow": {
     "slide_type": "slide"
    }
   },
   "source": [
    "通过 ``range`` 可以很容易的生成一个包含连续整数的列表\n",
    "\n",
    "```python\n",
    "L = list(range(4))    # 生成一个包含4个元素的列表： [0, 1, 2, 3]\n",
    "```\n",
    "\n",
    "更为常见的用法是为该命令提供 ``start``、``stop``、和``step``参数：\n",
    "\n",
    "```python\n",
    "L = list(range(17,29,4))   # 生成[17, 21, 25]\n",
    "```\n",
    "\n",
    "命令 ``len`` 可以返回列表的长度：\n",
    "```python\n",
    "len(L)   # 返回 3\n",
    "```"
   ]
  },
  {
   "cell_type": "code",
   "execution_count": 1,
   "metadata": {},
   "outputs": [
    {
     "data": {
      "text/plain": [
       "[17, 21, 25]"
      ]
     },
     "execution_count": 1,
     "metadata": {},
     "output_type": "execute_result"
    }
   ],
   "source": [
    "L = list(range(17,29,4))\n",
    "L"
   ]
  },
  {
   "cell_type": "markdown",
   "metadata": {
    "slideshow": {
     "slide_type": "slide"
    }
   },
   "source": [
    "### 切片\n",
    "\n",
    "对一个列表在 $i$ 和 $j$ 之间进行切片操作讲回生成一个新的列表，该列表包含了从索引 $i$ 开始到 $j$ 之前结束的所有元素。 \n",
    "\n",
    "对于切片操作，必须给出索引范围。 $L[i:j]$ 意味着回截取列表 $L$ 从 $L[i]$ 开始到 $L[j-1]$ 结束的所有元素。换句话说，新的列表是通过将第$i$ 个元素从列表$L$中删除并取接下来的$j-i$个元素得到的。\n",
    "\n",
    "**注** \n",
    "- $L[i:]$  表示删除前 $i$ 个元素，相当于截取除了前 $i$个元素之外的所有元素。\n",
    "- $L[: i]$ 表示只取前$i$ 个元素，相当于截取前$i$个元素\n",
    "- $L[:-i]$ 表示删除最后$i$ 个元素，相当于截取除了最后$i$个元素意外的所有元素\n",
    "- $L[-i:]$ 表示只取最后$i$ 个元素，相当于截取最后$i$个元素\n",
    "- $L[i:-j]$ 表示去除前$i$ 个和最后$j$元素:"
   ]
  },
  {
   "cell_type": "code",
   "execution_count": 2,
   "metadata": {
    "slideshow": {
     "slide_type": "slide"
    }
   },
   "outputs": [
    {
     "data": {
      "text/plain": [
       "['C', 'l', 'o', 'u', 'd', 's']"
      ]
     },
     "execution_count": 2,
     "metadata": {},
     "output_type": "execute_result"
    }
   ],
   "source": [
    "L = ['C', 'l', 'o', 'u', 'd','s']\n",
    "L[1:5]     # 删除一个元素，然后取4个\n",
    "\n",
    "L = ['C', 'l', 'o', 'u','d', 's']\n",
    "L[1:] # ['l', 'o', 'u', 'd','s']\n",
    "\n",
    "L[:5] # ['C', 'l', 'o','u','d']\n",
    "\n",
    "L[-2:] # ['d', 's']\n",
    "L[3:-4]\n",
    "L[:]"
   ]
  },
  {
   "cell_type": "markdown",
   "metadata": {
    "slideshow": {
     "slide_type": "slide"
    }
   },
   "source": [
    "Python  允许使用负数索引用于从右边计数。特别需要注意的是，元素$L[-1]$ 是列表 L的最后一个元素。 省略切片范围内的一个索引相当于实数中的半开区间。半开区间$(\\infty, a)$ 表示取所有低于$a$的数字。这与语法 $L[:j]$ 类似。\n",
    "\n",
    "**注： 越界切片**  注意在进行越界切片时，你永远不会得到索引错误，可能会得到空列表。"
   ]
  },
  {
   "cell_type": "code",
   "execution_count": 3,
   "metadata": {
    "slideshow": {
     "slide_type": "slide"
    }
   },
   "outputs": [
    {
     "ename": "IndexError",
     "evalue": "list index out of range",
     "output_type": "error",
     "traceback": [
      "\u001b[0;31m---------------------------------------------------------------------------\u001b[0m",
      "\u001b[0;31mIndexError\u001b[0m                                Traceback (most recent call last)",
      "\u001b[0;32m<ipython-input-3-07546e624071>\u001b[0m in \u001b[0;36m<module>\u001b[0;34m\u001b[0m\n\u001b[1;32m      1\u001b[0m \u001b[0mL\u001b[0m \u001b[0;34m=\u001b[0m \u001b[0mlist\u001b[0m\u001b[0;34m(\u001b[0m\u001b[0mrange\u001b[0m\u001b[0;34m(\u001b[0m\u001b[0;36m4\u001b[0m\u001b[0;34m)\u001b[0m\u001b[0;34m)\u001b[0m \u001b[0;31m# [0, 1, 2, 3]\u001b[0m\u001b[0;34m\u001b[0m\u001b[0;34m\u001b[0m\u001b[0m\n\u001b[0;32m----> 2\u001b[0;31m \u001b[0mL\u001b[0m\u001b[0;34m[\u001b[0m\u001b[0;36m4\u001b[0m\u001b[0;34m]\u001b[0m \u001b[0;31m# IndexError: list index out of range\u001b[0m\u001b[0;34m\u001b[0m\u001b[0;34m\u001b[0m\u001b[0m\n\u001b[0m",
      "\u001b[0;31mIndexError\u001b[0m: list index out of range"
     ]
    }
   ],
   "source": [
    "L = list(range(4)) # [0, 1, 2, 3]\n",
    "L[4] # IndexError: list index out of range"
   ]
  },
  {
   "cell_type": "code",
   "execution_count": 4,
   "metadata": {},
   "outputs": [
    {
     "data": {
      "text/plain": [
       "[1, 2, 3]"
      ]
     },
     "execution_count": 4,
     "metadata": {},
     "output_type": "execute_result"
    }
   ],
   "source": [
    "L[1:100] # same as L[1:]"
   ]
  },
  {
   "cell_type": "code",
   "execution_count": 5,
   "metadata": {},
   "outputs": [
    {
     "data": {
      "text/plain": [
       "[0, 1, 2]"
      ]
     },
     "execution_count": 5,
     "metadata": {},
     "output_type": "execute_result"
    }
   ],
   "source": [
    "L[-100:-1] # same as L[:-1]"
   ]
  },
  {
   "cell_type": "code",
   "execution_count": 6,
   "metadata": {},
   "outputs": [
    {
     "data": {
      "text/plain": [
       "[0, 1, 2, 3]"
      ]
     },
     "execution_count": 6,
     "metadata": {},
     "output_type": "execute_result"
    }
   ],
   "source": [
    "L[-100:100] # same as L[:]"
   ]
  },
  {
   "cell_type": "code",
   "execution_count": 7,
   "metadata": {},
   "outputs": [
    {
     "data": {
      "text/plain": [
       "[]"
      ]
     },
     "execution_count": 7,
     "metadata": {},
     "output_type": "execute_result"
    }
   ],
   "source": [
    "L[5:0] # empty list []"
   ]
  },
  {
   "cell_type": "code",
   "execution_count": 8,
   "metadata": {},
   "outputs": [
    {
     "data": {
      "text/plain": [
       "[]"
      ]
     },
     "execution_count": 8,
     "metadata": {},
     "output_type": "execute_result"
    }
   ],
   "source": [
    "L[-2:2] # empty list []"
   ]
  },
  {
   "cell_type": "code",
   "execution_count": 9,
   "metadata": {},
   "outputs": [
    {
     "data": {
      "text/plain": [
       "[1, 2, 3]"
      ]
     },
     "execution_count": 9,
     "metadata": {},
     "output_type": "execute_result"
    }
   ],
   "source": [
    "L[1:100]"
   ]
  },
  {
   "cell_type": "markdown",
   "metadata": {
    "slideshow": {
     "slide_type": "slide"
    }
   },
   "source": [
    "在使用可能会变为负值的索引变量时应谨慎，因为它完全改变了切片，这可能会导致意想不到的结果："
   ]
  },
  {
   "cell_type": "code",
   "execution_count": 10,
   "metadata": {},
   "outputs": [
    {
     "name": "stdout",
     "output_type": "stream",
     "text": [
      "3\n",
      "0\n",
      "1\n",
      "3\n"
     ]
    }
   ],
   "source": [
    "a = [1,2,3]\n",
    "for iteration in range(4):\n",
    "    print(sum(a[0:iteration-1]))"
   ]
  },
  {
   "cell_type": "markdown",
   "metadata": {
    "slideshow": {
     "slide_type": "slide"
    }
   },
   "source": [
    "## 步长\n",
    "\n",
    "计算切片时，也可以指定步长，即从一个索引到另一个索引之间的长度。默认步长时1."
   ]
  },
  {
   "cell_type": "code",
   "execution_count": 11,
   "metadata": {},
   "outputs": [
    {
     "data": {
      "text/plain": [
       "[0, 2, 4, 6, 8]"
      ]
     },
     "execution_count": 11,
     "metadata": {},
     "output_type": "execute_result"
    }
   ],
   "source": [
    "L = list(range(100))\n",
    "L[:10:2] # [0, 2, 4, 6, 8]"
   ]
  },
  {
   "cell_type": "code",
   "execution_count": 12,
   "metadata": {},
   "outputs": [
    {
     "data": {
      "text/plain": [
       "[20, 17, 14, 11]"
      ]
     },
     "execution_count": 12,
     "metadata": {},
     "output_type": "execute_result"
    }
   ],
   "source": [
    "L[::20]     # [0, 20, 40, 60, 80] \n",
    "L[10:20:3]  # [10,13,16,19]\n",
    "\n",
    "## 步长也可能为负\n",
    "L[20:10:-3] # [20,17,14,11]"
   ]
  },
  {
   "cell_type": "code",
   "execution_count": 13,
   "metadata": {},
   "outputs": [
    {
     "name": "stdout",
     "output_type": "stream",
     "text": [
      "[3, 2, 1]\n"
     ]
    }
   ],
   "source": [
    "## 可以使用负的步长来创建一个反向的新列表\n",
    "L = [1, 2, 3]\n",
    "R = L[::-1] # L is not modified\n",
    "print(R)"
   ]
  },
  {
   "cell_type": "markdown",
   "metadata": {
    "slideshow": {
     "slide_type": "slide"
    }
   },
   "source": [
    "## 列表修改\n",
    "\n",
    "有关列表的典型运算时插入和删除元素以及列表连接。使用切片符号让列表插入和删除变得简明易懂，删除知识用空列表$[ ]$ 来替换列表中的一部分："
   ]
  },
  {
   "cell_type": "code",
   "execution_count": 14,
   "metadata": {},
   "outputs": [
    {
     "data": {
      "text/plain": [
       "['a', 1, 3]"
      ]
     },
     "execution_count": 14,
     "metadata": {},
     "output_type": "execute_result"
    }
   ],
   "source": [
    "L = ['a', 1, 2, 3, 4]\n",
    "L[2:3] = [] # ['a', 1, 3, 4]\n",
    "L\n",
    "L[3:] = [] # ['a', 1, 3]\n",
    "L"
   ]
  },
  {
   "cell_type": "markdown",
   "metadata": {},
   "source": [
    "插入意味着要用插入的切片来替换空切片："
   ]
  },
  {
   "cell_type": "code",
   "execution_count": 15,
   "metadata": {},
   "outputs": [
    {
     "data": {
      "text/plain": [
       "['a', 1000, 2000, 1, 3]"
      ]
     },
     "execution_count": 15,
     "metadata": {},
     "output_type": "execute_result"
    }
   ],
   "source": [
    "L[1:1] = [1000, 2000] # ['a', 1000, 2000, 1, 3]\n",
    "L"
   ]
  },
  {
   "cell_type": "markdown",
   "metadata": {
    "slideshow": {
     "slide_type": "slide"
    }
   },
   "source": [
    "两个列表通过加法运算连接起来："
   ]
  },
  {
   "cell_type": "code",
   "execution_count": 16,
   "metadata": {},
   "outputs": [
    {
     "data": {
      "text/plain": [
       "[1, -17, -23.5, 18.3, 5.0]"
      ]
     },
     "execution_count": 16,
     "metadata": {},
     "output_type": "execute_result"
    }
   ],
   "source": [
    "L = [1, -17]\n",
    "M = [-23.5, 18.3, 5.0]\n",
    "L+M # gives [1, -17, 23.5, 18.3, 5.0]"
   ]
  },
  {
   "cell_type": "markdown",
   "metadata": {
    "slideshow": {
     "slide_type": "slide"
    }
   },
   "source": [
    "将一个列表与其自身连接$n$次，我们倾向于使用乘法运算符$*$:"
   ]
  },
  {
   "cell_type": "code",
   "execution_count": 17,
   "metadata": {},
   "outputs": [
    {
     "data": {
      "text/plain": [
       "[1.0, 17, 3, 1.0, 17, 3, 1.0, 17, 3]"
      ]
     },
     "execution_count": 17,
     "metadata": {},
     "output_type": "execute_result"
    }
   ],
   "source": [
    "n = 3\n",
    "n*[1.,17,3] # gives [1., 17, 3, 1., 17, 3, 1., 17, 3]"
   ]
  },
  {
   "cell_type": "code",
   "execution_count": 18,
   "metadata": {},
   "outputs": [
    {
     "data": {
      "text/plain": [
       "[0, 0, 0, 0, 0]"
      ]
     },
     "execution_count": 18,
     "metadata": {},
     "output_type": "execute_result"
    }
   ],
   "source": [
    "[0]*5 # gives [0,0,0,0,0]"
   ]
  },
  {
   "cell_type": "markdown",
   "metadata": {},
   "source": [
    "列表中没有算术运算，如元素之间的求和或除法。对于这类运算，要使用数组。"
   ]
  },
  {
   "cell_type": "markdown",
   "metadata": {
    "slideshow": {
     "slide_type": "slide"
    }
   },
   "source": [
    "## 是否属于列表\n",
    "\n",
    "可以使用关键字in 和 not in 来确定一个元素是否属于列表，这与数学中的符号 $\\in$ 和 $\\notin$ 是相似的："
   ]
  },
  {
   "cell_type": "code",
   "execution_count": 19,
   "metadata": {},
   "outputs": [
    {
     "data": {
      "text/plain": [
       "True"
      ]
     },
     "execution_count": 19,
     "metadata": {},
     "output_type": "execute_result"
    }
   ],
   "source": [
    "L = ['a', 1, 'b', 2]\n",
    "'a' in L # True"
   ]
  },
  {
   "cell_type": "code",
   "execution_count": 20,
   "metadata": {},
   "outputs": [
    {
     "data": {
      "text/plain": [
       "False"
      ]
     },
     "execution_count": 20,
     "metadata": {},
     "output_type": "execute_result"
    }
   ],
   "source": [
    "3 in L # False"
   ]
  },
  {
   "cell_type": "code",
   "execution_count": 21,
   "metadata": {},
   "outputs": [
    {
     "data": {
      "text/plain": [
       "True"
      ]
     },
     "execution_count": 21,
     "metadata": {},
     "output_type": "execute_result"
    }
   ],
   "source": [
    "4 not in L # True"
   ]
  },
  {
   "cell_type": "markdown",
   "metadata": {
    "slideshow": {
     "slide_type": "slide"
    }
   },
   "source": [
    "## 列表方法\n",
    "\n",
    "下面表格搜集了一些有关list类型的有用方法：\n",
    "\n",
    "命令 | 作用\n",
    ":----|:----|\n",
    "list.append(x)  | 将元素 x 添加至列表的末尾\n",
    "list.expand(L)  | 用列表 L 的元素来扩充列表\n",
    "list.insert(i,x)| 在索引 i 处插入元素 x\n",
    "list.remove(x)  | 移除列表中第一个值为 x 的元素\n",
    "list.count(x)   | 列表中元素 x 出现的次数\n",
    "list.sort()     | 按顺序将列表中的元素进行排序\n",
    "list.reverse()  | 按顺序反转列表中的元素\n",
    "list.pop()      | 按顺序移除列表中的最后一个元素\n",
    "\n"
   ]
  },
  {
   "cell_type": "markdown",
   "metadata": {
    "slideshow": {
     "slide_type": "slide"
    }
   },
   "source": [
    "列表方法有两种表现形式：\n",
    "- 直接修改列表，即原位操作\n",
    "- 产生一个新对象"
   ]
  },
  {
   "cell_type": "markdown",
   "metadata": {
    "slideshow": {
     "slide_type": "slide"
    }
   },
   "source": [
    "## 原位操作\n",
    "\n",
    "将所有的结果放入一个列表的方法都是原位操作，例如 ``reverse``"
   ]
  },
  {
   "cell_type": "code",
   "execution_count": 22,
   "metadata": {},
   "outputs": [
    {
     "data": {
      "text/plain": [
       "[3, 2, 1]"
      ]
     },
     "execution_count": 22,
     "metadata": {},
     "output_type": "execute_result"
    }
   ],
   "source": [
    "L = [1, 2, 3]\n",
    "L.reverse() # the list L is now reversed\n",
    "L # [3, 2, 1]"
   ]
  },
  {
   "cell_type": "markdown",
   "metadata": {},
   "source": [
    "**注** 有人可能会将原位操作方法写成："
   ]
  },
  {
   "cell_type": "code",
   "execution_count": 23,
   "metadata": {},
   "outputs": [
    {
     "name": "stdout",
     "output_type": "stream",
     "text": [
      "None\n"
     ]
    }
   ],
   "source": [
    "L=[3, 4, 4, 5]\n",
    "newL = L.sort()\n",
    "print(newL)"
   ]
  },
  {
   "cell_type": "markdown",
   "metadata": {},
   "source": [
    "这在Python中是正确的，但是它可能导致你无意识地替换了列表L 并且变了 newL 的值为 None，原因是sort为原位操作。\n",
    "\n",
    "这里演示一些原位操作方法："
   ]
  },
  {
   "cell_type": "code",
   "execution_count": 24,
   "metadata": {
    "slideshow": {
     "slide_type": "slide"
    }
   },
   "outputs": [
    {
     "data": {
      "text/plain": [
       "[0, 1, 2, 3, 4, 5]"
      ]
     },
     "execution_count": 24,
     "metadata": {},
     "output_type": "execute_result"
    }
   ],
   "source": [
    "L =  [0,1,2,3,4]\n",
    "L.append(5)\n",
    "L"
   ]
  },
  {
   "cell_type": "code",
   "execution_count": 25,
   "metadata": {},
   "outputs": [
    {
     "data": {
      "text/plain": [
       "[5, 4, 3, 2, 1, 0]"
      ]
     },
     "execution_count": 25,
     "metadata": {},
     "output_type": "execute_result"
    }
   ],
   "source": [
    "L.reverse()\t\n",
    "L"
   ]
  },
  {
   "cell_type": "code",
   "execution_count": 26,
   "metadata": {},
   "outputs": [
    {
     "data": {
      "text/plain": [
       "[0, 1, 2, 3, 4, 5]"
      ]
     },
     "execution_count": 26,
     "metadata": {},
     "output_type": "execute_result"
    }
   ],
   "source": [
    "L.sort()\n",
    "L"
   ]
  },
  {
   "cell_type": "code",
   "execution_count": 27,
   "metadata": {},
   "outputs": [
    {
     "data": {
      "text/plain": [
       "[1, 2, 3, 4, 5]"
      ]
     },
     "execution_count": 27,
     "metadata": {},
     "output_type": "execute_result"
    }
   ],
   "source": [
    "L.remove(0) # [1, 2, 3, 4, 5]\n",
    "L"
   ]
  },
  {
   "cell_type": "code",
   "execution_count": 28,
   "metadata": {},
   "outputs": [
    {
     "data": {
      "text/plain": [
       "[1, 2, 3, 4]"
      ]
     },
     "execution_count": 28,
     "metadata": {},
     "output_type": "execute_result"
    }
   ],
   "source": [
    "L.pop() # [1, 2, 3, 4]\n",
    "L"
   ]
  },
  {
   "cell_type": "code",
   "execution_count": 29,
   "metadata": {},
   "outputs": [
    {
     "data": {
      "text/plain": [
       "[1, 2, 3]"
      ]
     },
     "execution_count": 29,
     "metadata": {},
     "output_type": "execute_result"
    }
   ],
   "source": [
    "L.pop() # [1, 2, 3]\n",
    "L"
   ]
  },
  {
   "cell_type": "code",
   "execution_count": 30,
   "metadata": {},
   "outputs": [
    {
     "data": {
      "text/plain": [
       "[1, 2, 3, 'a', 'b', 'c']"
      ]
     },
     "execution_count": 30,
     "metadata": {},
     "output_type": "execute_result"
    }
   ],
   "source": [
    "L.extend(['a','b','c']) # [1, 2, 3, a', 'b', 'c']\n",
    "L"
   ]
  },
  {
   "cell_type": "code",
   "execution_count": 31,
   "metadata": {},
   "outputs": [
    {
     "data": {
      "text/plain": [
       "1"
      ]
     },
     "execution_count": 31,
     "metadata": {},
     "output_type": "execute_result"
    }
   ],
   "source": [
    "L.count(2)"
   ]
  },
  {
   "cell_type": "markdown",
   "metadata": {
    "slideshow": {
     "slide_type": "slide"
    }
   },
   "source": [
    "## 列表合并 --- zip\n",
    "\n",
    "``zip`` 是一个特别有用的列表方法。它通过把出事列表的元素配对将两个给定的列表合并为一个新的列表，其结果是一个元组列表（更多想象信息参照后面元组内容）："
   ]
  },
  {
   "cell_type": "code",
   "execution_count": 32,
   "metadata": {},
   "outputs": [
    {
     "data": {
      "text/plain": [
       "[('red', 0), ('green', 1), ('blue', 2), ('alpha', 3)]"
      ]
     },
     "execution_count": 32,
     "metadata": {},
     "output_type": "execute_result"
    }
   ],
   "source": [
    "ind = [0,1,2,3,4]\n",
    "color = [\"red\", \"green\", \"blue\", \"alpha\"]\n",
    "list(zip(color,ind)) # 输出为[('red', 0), ('green', 1), ('blue', 2), ('alpha', 3)]"
   ]
  },
  {
   "cell_type": "markdown",
   "metadata": {},
   "source": [
    "此事例也展示了如果两个列表长度不同所发生的情况。合并列表的长度为两个输入列表中长度较短的那个。"
   ]
  },
  {
   "cell_type": "markdown",
   "metadata": {
    "slideshow": {
     "slide_type": "slide"
    }
   },
   "source": [
    "## 列表推导\n",
    "\n",
    "创建列表的一个便捷方法是使用列表推导结构，其中很可能包含条件。列表推导的语法为：\n",
    "```python\n",
    "[<expr> for <variable> in <list>]\n",
    "```\n",
    "或者更常见的语法是：\n",
    "```python\n",
    "[<expr> for <variable> in <list> if <condition>]\n",
    "```\n",
    "示例如下："
   ]
  },
  {
   "cell_type": "code",
   "execution_count": 33,
   "metadata": {
    "slideshow": {
     "slide_type": "slide"
    }
   },
   "outputs": [
    {
     "data": {
      "text/plain": [
       "[4, 6, 20, 2, 10]"
      ]
     },
     "execution_count": 33,
     "metadata": {},
     "output_type": "execute_result"
    }
   ],
   "source": [
    "L = [2, 3, 10, 1, 5]\n",
    "\n",
    "L2 = [x*2 for x in L] # [4, 6, 20, 2, 10]\n",
    "L2"
   ]
  },
  {
   "cell_type": "code",
   "execution_count": 34,
   "metadata": {},
   "outputs": [
    {
     "data": {
      "text/plain": [
       "[20, 10]"
      ]
     },
     "execution_count": 34,
     "metadata": {},
     "output_type": "execute_result"
    }
   ],
   "source": [
    "L3 = [x*2 for x in L if 4 < x <= 10] # [20, 10]\n",
    "L3"
   ]
  },
  {
   "cell_type": "markdown",
   "metadata": {
    "slideshow": {
     "slide_type": "slide"
    }
   },
   "source": [
    "列表推导结构中可能有多个for循环："
   ]
  },
  {
   "cell_type": "code",
   "execution_count": 35,
   "metadata": {},
   "outputs": [
    {
     "data": {
      "text/plain": [
       "[1, 2, 3, 4, 5, 6]"
      ]
     },
     "execution_count": 35,
     "metadata": {},
     "output_type": "execute_result"
    }
   ],
   "source": [
    "M=[[1,2,3],[4,5,6]]\n",
    "flat = [M[i][j] for i in range(2) for j in range(3)] # [1, 2, 3, 4, 5, 6]\n",
    "flat"
   ]
  },
  {
   "cell_type": "markdown",
   "metadata": {},
   "source": [
    "**注：集合符号** 列表推导与集合中的数学符号密切相关：\n",
    "比较： $L_2 =\\{2x: x\\in L\\}$ 和 ``L_2 =[2*x for x in L]``。一个很大的区别是列表是有序的，而集合不是。"
   ]
  },
  {
   "cell_type": "markdown",
   "metadata": {
    "slideshow": {
     "slide_type": "slide"
    }
   },
   "source": [
    "# 数组\n",
    "\n",
    "``NumPy`` 包提供了数组，数组是用于操作数学中的向量、矩阵或更高阶张量的容器结构。我们将指出数组和列表之间的相识之处，后面将进一步介绍数组的相关内容。\n",
    "\n",
    "数组通过函数``array``从列表中构建："
   ]
  },
  {
   "cell_type": "code",
   "execution_count": 36,
   "metadata": {},
   "outputs": [
    {
     "data": {
      "text/plain": [
       "array([1., 2., 3.])"
      ]
     },
     "execution_count": 36,
     "metadata": {},
     "output_type": "execute_result"
    }
   ],
   "source": [
    "from numpy import *\n",
    "v = array([1.,2.,3.])\n",
    "v"
   ]
  },
  {
   "cell_type": "code",
   "execution_count": 37,
   "metadata": {},
   "outputs": [
    {
     "data": {
      "text/plain": [
       "array([[1., 2., 3.],\n",
       "       [4., 5., 6.]])"
      ]
     },
     "execution_count": 37,
     "metadata": {},
     "output_type": "execute_result"
    }
   ],
   "source": [
    "A = array([[1.,2.,3.],[4.,5.,6.]])\n",
    "A"
   ]
  },
  {
   "cell_type": "markdown",
   "metadata": {
    "slideshow": {
     "slide_type": "slide"
    }
   },
   "source": [
    "要访问一个向量的元素，需要一个索引，而矩阵的元素有两个索引来处理："
   ]
  },
  {
   "cell_type": "code",
   "execution_count": 38,
   "metadata": {},
   "outputs": [
    {
     "data": {
      "text/plain": [
       "3.0"
      ]
     },
     "execution_count": 38,
     "metadata": {},
     "output_type": "execute_result"
    }
   ],
   "source": [
    "v[2]   # returns 3.0"
   ]
  },
  {
   "cell_type": "code",
   "execution_count": 39,
   "metadata": {},
   "outputs": [
    {
     "data": {
      "text/plain": [
       "6.0"
      ]
     },
     "execution_count": 39,
     "metadata": {},
     "output_type": "execute_result"
    }
   ],
   "source": [
    "A[1,2] # returns 6.0"
   ]
  },
  {
   "cell_type": "markdown",
   "metadata": {
    "slideshow": {
     "slide_type": "slide"
    }
   },
   "source": [
    "形式上数组与列表类似，但是从根本上它们是不同的，这可以从以下几点解释：\n",
    "\n",
    "- 使用方括号和切片，不仅可以访问对应于列表的数组数据，还可以用于修改数组：\n"
   ]
  },
  {
   "cell_type": "code",
   "execution_count": 40,
   "metadata": {},
   "outputs": [
    {
     "data": {
      "text/plain": [
       "1.0"
      ]
     },
     "execution_count": 40,
     "metadata": {},
     "output_type": "execute_result"
    }
   ],
   "source": [
    "M = array([[1.,2.],[3.,4.]])\n",
    "v = array([1., 2., 3.])\n",
    "v[0] # 1."
   ]
  },
  {
   "cell_type": "code",
   "execution_count": 41,
   "metadata": {},
   "outputs": [
    {
     "data": {
      "text/plain": [
       "array([1., 2.])"
      ]
     },
     "execution_count": 41,
     "metadata": {},
     "output_type": "execute_result"
    }
   ],
   "source": [
    "v[:2] # array([1.,2.])"
   ]
  },
  {
   "cell_type": "code",
   "execution_count": 42,
   "metadata": {},
   "outputs": [
    {
     "data": {
      "text/plain": [
       "2.0"
      ]
     },
     "execution_count": 42,
     "metadata": {},
     "output_type": "execute_result"
    }
   ],
   "source": [
    "M[0,1] # 2."
   ]
  },
  {
   "cell_type": "code",
   "execution_count": 43,
   "metadata": {},
   "outputs": [
    {
     "data": {
      "text/plain": [
       "array([10., 20.,  3.])"
      ]
     },
     "execution_count": 43,
     "metadata": {},
     "output_type": "execute_result"
    }
   ],
   "source": [
    "v[:2] = [10, 20] # v is now array([10., 20., 3.])\n",
    "v"
   ]
  },
  {
   "cell_type": "markdown",
   "metadata": {},
   "source": [
    "- 通过``len``函数可以获取向量中的元素数或矩阵中的行数："
   ]
  },
  {
   "cell_type": "code",
   "execution_count": 44,
   "metadata": {},
   "outputs": [
    {
     "data": {
      "text/plain": [
       "3"
      ]
     },
     "execution_count": 44,
     "metadata": {},
     "output_type": "execute_result"
    }
   ],
   "source": [
    "len(v)  # 3"
   ]
  },
  {
   "cell_type": "markdown",
   "metadata": {},
   "source": [
    "- 数组只存储相同类型的元素（通常为float 或complex，也包括 int）\n",
    "- $+、*、/、-$运算符都是元素级别的。在Python 3.5及以上的版本中，dot函数和运算符$@$用于标量乘积和相应的矩阵运算。\n",
    "- 与列表不同的是，数组中没有 ``append`` 方法。 另一个相关点是数组不想列表一样有弹性，我们不能使用切片来改变其长度。\n",
    "- 向量切片事视图。也就是说，它们可以用于修改原始的数组。"
   ]
  },
  {
   "cell_type": "markdown",
   "metadata": {
    "slideshow": {
     "slide_type": "slide"
    }
   },
   "source": [
    "# 元组\n",
    "\n",
    "元组事一个不可改变的列表。不可改变意味着它不能被修改。元组知识逗号分隔的对象序列（不带括号的列表）。为了增加代码的可读性，通常将元组放在一对圆括号中："
   ]
  },
  {
   "cell_type": "code",
   "execution_count": 45,
   "metadata": {},
   "outputs": [],
   "source": [
    "my_tuple = 1, 2, 3 # our first tuple"
   ]
  },
  {
   "cell_type": "code",
   "execution_count": 46,
   "metadata": {},
   "outputs": [],
   "source": [
    "my_tuple = (1, 2, 3) # the same"
   ]
  },
  {
   "cell_type": "code",
   "execution_count": 47,
   "metadata": {},
   "outputs": [],
   "source": [
    "my_tuple = 1, 2, 3,  # again the same"
   ]
  },
  {
   "cell_type": "code",
   "execution_count": 48,
   "metadata": {},
   "outputs": [
    {
     "data": {
      "text/plain": [
       "3"
      ]
     },
     "execution_count": 48,
     "metadata": {},
     "output_type": "execute_result"
    }
   ],
   "source": [
    "len(my_tuple) # 3, same as for lists"
   ]
  },
  {
   "cell_type": "code",
   "execution_count": 49,
   "metadata": {},
   "outputs": [
    {
     "ename": "TypeError",
     "evalue": "'tuple' object does not support item assignment",
     "output_type": "error",
     "traceback": [
      "\u001b[0;31m---------------------------------------------------------------------------\u001b[0m",
      "\u001b[0;31mTypeError\u001b[0m                                 Traceback (most recent call last)",
      "\u001b[0;32m<ipython-input-49-d98cba58f5db>\u001b[0m in \u001b[0;36m<module>\u001b[0;34m\u001b[0m\n\u001b[0;32m----> 1\u001b[0;31m \u001b[0mmy_tuple\u001b[0m\u001b[0;34m[\u001b[0m\u001b[0;36m0\u001b[0m\u001b[0;34m]\u001b[0m \u001b[0;34m=\u001b[0m \u001b[0;34m'a'\u001b[0m \u001b[0;31m# error! tuples are immutable\u001b[0m\u001b[0;34m\u001b[0m\u001b[0;34m\u001b[0m\u001b[0m\n\u001b[0m",
      "\u001b[0;31mTypeError\u001b[0m: 'tuple' object does not support item assignment"
     ]
    }
   ],
   "source": [
    "my_tuple[0] = 'a' # error! tuples are immutable"
   ]
  },
  {
   "cell_type": "markdown",
   "metadata": {
    "slideshow": {
     "slide_type": "slide"
    }
   },
   "source": [
    "逗号表面该对象是一个元组："
   ]
  },
  {
   "cell_type": "code",
   "execution_count": 50,
   "metadata": {},
   "outputs": [
    {
     "data": {
      "text/plain": [
       "1"
      ]
     },
     "execution_count": 50,
     "metadata": {},
     "output_type": "execute_result"
    }
   ],
   "source": [
    "singleton = 1, # note the comma\n",
    "len(singleton) # 1"
   ]
  },
  {
   "cell_type": "markdown",
   "metadata": {
    "slideshow": {
     "slide_type": "-"
    }
   },
   "source": [
    "当一组值需要被集合在一起时，元组是有用的。例如，它们可用于从函数返回多个值。我们可以通过拆分列表或元组来一次分配多个变量："
   ]
  },
  {
   "cell_type": "code",
   "execution_count": 51,
   "metadata": {},
   "outputs": [
    {
     "name": "stdout",
     "output_type": "stream",
     "text": [
      "0\n",
      "1\n"
     ]
    }
   ],
   "source": [
    "a, b = 0, 1 # a gets 0 and b gets 1\n",
    "print(a)\n",
    "print(b)"
   ]
  },
  {
   "cell_type": "code",
   "execution_count": 52,
   "metadata": {},
   "outputs": [],
   "source": [
    "a, b = [0, 1] # exactly the same effect\n",
    "(a, b) = 0, 1 # same\n",
    "[a,b] = [0,1] # same thing"
   ]
  },
  {
   "cell_type": "markdown",
   "metadata": {
    "slideshow": {
     "slide_type": "slide"
    }
   },
   "source": [
    "**交换技巧:** 可使用打包和拆分来交换两个变量的值\n",
    "```python\n",
    "a, b = b, a\n",
    "```"
   ]
  },
  {
   "cell_type": "markdown",
   "metadata": {},
   "source": [
    "元组具有如下的特点：\n",
    "\n",
    "- 元组就是不带括号的不可变列表。\n",
    "- 在多数情况下，可使用列表来代替元组。\n",
    "- 没有圆括号的写法更便捷但是不安全，在不确定的时候最好使用圆括号。"
   ]
  },
  {
   "cell_type": "code",
   "execution_count": 53,
   "metadata": {},
   "outputs": [
    {
     "name": "stdout",
     "output_type": "stream",
     "text": [
      "1\n",
      "0\n"
     ]
    }
   ],
   "source": [
    "a, b = b, a\n",
    "print(a)\n",
    "print(b)"
   ]
  },
  {
   "cell_type": "code",
   "execution_count": 54,
   "metadata": {},
   "outputs": [
    {
     "data": {
      "text/plain": [
       "(1, False, 4)"
      ]
     },
     "execution_count": 54,
     "metadata": {},
     "output_type": "execute_result"
    }
   ],
   "source": [
    "1, 2 == 3, 4 # 返回 (1, False, 4)"
   ]
  },
  {
   "cell_type": "code",
   "execution_count": 55,
   "metadata": {},
   "outputs": [
    {
     "data": {
      "text/plain": [
       "False"
      ]
     },
     "execution_count": 55,
     "metadata": {},
     "output_type": "execute_result"
    }
   ],
   "source": [
    "(1, 2) == (3, 4) # 返回  False"
   ]
  },
  {
   "cell_type": "markdown",
   "metadata": {
    "slideshow": {
     "slide_type": "slide"
    }
   },
   "source": [
    "# 字典\n",
    "\n",
    "列表、元组和数组均为对象的有序集合。根据其在列表中的位置，可以将单个对象进行插入、访问和处理。此外，字典事无序的键值对集合。我们可以通过键来访问字典数据。"
   ]
  },
  {
   "cell_type": "markdown",
   "metadata": {
    "slideshow": {
     "slide_type": "slide"
    }
   },
   "source": [
    "## 创建和修改字典\n",
    "\n",
    "例如可以创建一个包含力学中的刚体数据的字典，如下表示："
   ]
  },
  {
   "cell_type": "code",
   "execution_count": 56,
   "metadata": {},
   "outputs": [],
   "source": [
    "truck_wheel = {'name':'wheel','mass':5.7,\n",
    "               'Ix':20.0,'Iy':1.,'Iz':17.,\n",
    "               'center of mass':[0.,0.,0.]}"
   ]
  },
  {
   "cell_type": "markdown",
   "metadata": {},
   "source": [
    "通过冒号： 可以表示键值对。这些键值对用逗号分隔并放在一对大括号$\\{\\}$中。\n",
    "\n",
    "每个元素可以通过它们的键来访问："
   ]
  },
  {
   "cell_type": "code",
   "execution_count": 57,
   "metadata": {},
   "outputs": [
    {
     "data": {
      "text/plain": [
       "5.7"
      ]
     },
     "execution_count": 57,
     "metadata": {},
     "output_type": "execute_result"
    }
   ],
   "source": [
    "truck_wheel['name']  # 返回 'wheel'\n",
    "truck_wheel['mass']  # 返回 5.7"
   ]
  },
  {
   "cell_type": "markdown",
   "metadata": {},
   "source": [
    "通过创建新的键，可以将新的对象添加到字典中："
   ]
  },
  {
   "cell_type": "code",
   "execution_count": 58,
   "metadata": {},
   "outputs": [],
   "source": [
    "truck_wheel['Ixy'] = 0.0"
   ]
  },
  {
   "cell_type": "markdown",
   "metadata": {
    "slideshow": {
     "slide_type": "slide"
    }
   },
   "source": [
    "字典也可用于为函数提供参数。字典中的键可以有字符串、函数、具有不可变元素的元组以及类等任意一个来充当，键不能事列表或数组。命令``dict``可以用具有键值对的列表来生成一个字典："
   ]
  },
  {
   "cell_type": "code",
   "execution_count": 59,
   "metadata": {},
   "outputs": [
    {
     "data": {
      "text/plain": [
       "{'name': 'wheel',\n",
       " 'mass': 5.7,\n",
       " 'Ix': 20.0,\n",
       " 'Iy': 1.0,\n",
       " 'Iz': 17.0,\n",
       " 'center of mass': [0.0, 0.0, 0.0]}"
      ]
     },
     "execution_count": 59,
     "metadata": {},
     "output_type": "execute_result"
    }
   ],
   "source": [
    "truck_wheel = dict([('name','wheel'),('mass',5.7),\n",
    "                     ('Ix',20.0),('Iy',1.),('Iz',17.),('center of mass',[0.,0.,0.])]) \n",
    "truck_wheel"
   ]
  },
  {
   "cell_type": "markdown",
   "metadata": {
    "slideshow": {
     "slide_type": "slide"
    }
   },
   "source": [
    "## 循环遍历字典\n",
    "\n",
    "字典的循环遍历主要有3种方式。\n",
    "- 通过键的方式："
   ]
  },
  {
   "cell_type": "code",
   "execution_count": 60,
   "metadata": {},
   "outputs": [
    {
     "name": "stdout",
     "output_type": "stream",
     "text": [
      "name\n",
      "mass\n",
      "Ix\n",
      "Iy\n",
      "Iz\n",
      "center of mass\n"
     ]
    }
   ],
   "source": [
    "for key in truck_wheel.keys():\n",
    "    print(key)     # 输出 "
   ]
  },
  {
   "cell_type": "markdown",
   "metadata": {},
   "source": [
    "或者等同于如下："
   ]
  },
  {
   "cell_type": "code",
   "execution_count": 61,
   "metadata": {},
   "outputs": [
    {
     "name": "stdout",
     "output_type": "stream",
     "text": [
      "name\n",
      "mass\n",
      "Ix\n",
      "Iy\n",
      "Iz\n",
      "center of mass\n"
     ]
    }
   ],
   "source": [
    "for key in truck_wheel:\n",
    "    print(key)"
   ]
  },
  {
   "cell_type": "markdown",
   "metadata": {
    "slideshow": {
     "slide_type": "slide"
    }
   },
   "source": [
    "- 通过值的方式："
   ]
  },
  {
   "cell_type": "code",
   "execution_count": 62,
   "metadata": {},
   "outputs": [
    {
     "name": "stdout",
     "output_type": "stream",
     "text": [
      "wheel\n",
      "5.7\n",
      "20.0\n",
      "1.0\n",
      "17.0\n",
      "[0.0, 0.0, 0.0]\n"
     ]
    }
   ],
   "source": [
    "for value in truck_wheel.values():\n",
    "    print(value)"
   ]
  },
  {
   "cell_type": "markdown",
   "metadata": {},
   "source": [
    "- 通过元素---即键/值对的方式："
   ]
  },
  {
   "cell_type": "code",
   "execution_count": 63,
   "metadata": {},
   "outputs": [
    {
     "name": "stdout",
     "output_type": "stream",
     "text": [
      "('name', 'wheel')\n",
      "('mass', 5.7)\n",
      "('Ix', 20.0)\n",
      "('Iy', 1.0)\n",
      "('Iz', 17.0)\n",
      "('center of mass', [0.0, 0.0, 0.0])\n"
     ]
    }
   ],
   "source": [
    "for item in truck_wheel.items():\n",
    "    print(item)"
   ]
  },
  {
   "cell_type": "markdown",
   "metadata": {
    "slideshow": {
     "slide_type": "slide"
    }
   },
   "source": [
    "# 集合\n",
    "\n",
    "集合是与数学中的集合一样共享属性和运算的容器。数学集合事不同对象的集合。项目事一些数学集合表达式：\n",
    "$A = \\{1,2,3,4\\}, B ={5}, C = A \\cap B, D = A \\cup C, E = C\\A, 5 \\in C  $\n",
    "以及它们所对应的Python代码\n",
    "\n",
    "```python\n",
    "A = {1,2,3,4}\n",
    "B = {5}\n",
    "C = A.union(B) # returns set([1,2,3,4,5])\n",
    "D = A.intersection(C) # returns set([1,2,3,4])\n",
    "E = C.difference(A)  # returns set([5])\n",
    "5 in C # returns True\n",
    "```"
   ]
  },
  {
   "cell_type": "markdown",
   "metadata": {
    "slideshow": {
     "slide_type": "slide"
    }
   },
   "source": [
    "一个元素只能在集合中出现一次，如下事反映该定义的集合："
   ]
  },
  {
   "cell_type": "code",
   "execution_count": 64,
   "metadata": {},
   "outputs": [
    {
     "data": {
      "text/plain": [
       "True"
      ]
     },
     "execution_count": 64,
     "metadata": {},
     "output_type": "execute_result"
    }
   ],
   "source": [
    "A = {1,2,3,3,3}\n",
    "B = {1,2,3}\n",
    "A == B # returns True"
   ]
  },
  {
   "cell_type": "markdown",
   "metadata": {},
   "source": [
    "并且集合事无序的，也就是说，为定义集合中元素的顺序："
   ]
  },
  {
   "cell_type": "code",
   "execution_count": 65,
   "metadata": {},
   "outputs": [
    {
     "data": {
      "text/plain": [
       "True"
      ]
     },
     "execution_count": 65,
     "metadata": {},
     "output_type": "execute_result"
    }
   ],
   "source": [
    "A = {1,2,3}\n",
    "B = {1,3,2}\n",
    "A == B # returns True"
   ]
  },
  {
   "cell_type": "markdown",
   "metadata": {
    "slideshow": {
     "slide_type": "slide"
    }
   },
   "source": [
    "Python集合能够包含数值对象、字符串和布尔值。还有``union`` 和 ``intersection`` 两种方法："
   ]
  },
  {
   "cell_type": "code",
   "execution_count": 66,
   "metadata": {},
   "outputs": [
    {
     "data": {
      "text/plain": [
       "{1, 2, 3, 4, 5}"
      ]
     },
     "execution_count": 66,
     "metadata": {},
     "output_type": "execute_result"
    }
   ],
   "source": [
    "A={1,2,3,4}\n",
    "A.union({5})"
   ]
  },
  {
   "cell_type": "code",
   "execution_count": 67,
   "metadata": {},
   "outputs": [
    {
     "data": {
      "text/plain": [
       "{2, 4}"
      ]
     },
     "execution_count": 67,
     "metadata": {},
     "output_type": "execute_result"
    }
   ],
   "source": [
    "A.intersection({2,4,6}) # returns set([2, 4])"
   ]
  },
  {
   "cell_type": "markdown",
   "metadata": {},
   "source": [
    "还可以使用``issubset``和``issuperset`` 两种方法来比较两个集合："
   ]
  },
  {
   "cell_type": "code",
   "execution_count": 68,
   "metadata": {},
   "outputs": [
    {
     "data": {
      "text/plain": [
       "True"
      ]
     },
     "execution_count": 68,
     "metadata": {},
     "output_type": "execute_result"
    }
   ],
   "source": [
    "{2,4}.issubset({1,2,3,4,5})   # returns True"
   ]
  },
  {
   "cell_type": "code",
   "execution_count": 69,
   "metadata": {},
   "outputs": [
    {
     "data": {
      "text/plain": [
       "True"
      ]
     },
     "execution_count": 69,
     "metadata": {},
     "output_type": "execute_result"
    }
   ],
   "source": [
    "{1,2,3,4,5}.issuperset({2,4}) # returns True"
   ]
  },
  {
   "cell_type": "markdown",
   "metadata": {},
   "source": [
    "**空集：** 在Python中，一个空集不是有$\\{\\}$将定义一个空字典)来定义的，而是有``empty_st = set([])`` 来定义的！"
   ]
  },
  {
   "cell_type": "markdown",
   "metadata": {
    "slideshow": {
     "slide_type": "slide"
    }
   },
   "source": [
    "## 类型检查\n",
    "查看一个变量类型的最直接方式是使用``type``命令："
   ]
  },
  {
   "cell_type": "code",
   "execution_count": 70,
   "metadata": {},
   "outputs": [
    {
     "data": {
      "text/plain": [
       "str"
      ]
     },
     "execution_count": 70,
     "metadata": {},
     "output_type": "execute_result"
    }
   ],
   "source": [
    "label = 'local error'\n",
    "type(label) # returns str"
   ]
  },
  {
   "cell_type": "code",
   "execution_count": 71,
   "metadata": {},
   "outputs": [
    {
     "data": {
      "text/plain": [
       "list"
      ]
     },
     "execution_count": 71,
     "metadata": {},
     "output_type": "execute_result"
    }
   ],
   "source": [
    "x = [1, 2] # list\n",
    "type(x) # returns list"
   ]
  },
  {
   "cell_type": "markdown",
   "metadata": {
    "slideshow": {
     "slide_type": "slide"
    }
   },
   "source": [
    "但是如果想检测一个变量是否为某种确定的类型，则应该使用``isinstance``方法(而不是用``type``命令进行类型比较)"
   ]
  },
  {
   "cell_type": "code",
   "execution_count": 72,
   "metadata": {},
   "outputs": [
    {
     "data": {
      "text/plain": [
       "True"
      ]
     },
     "execution_count": 72,
     "metadata": {},
     "output_type": "execute_result"
    }
   ],
   "source": [
    "isinstance(x, list) # True"
   ]
  },
  {
   "cell_type": "markdown",
   "metadata": {},
   "source": [
    "后续学习子类和继承的概念后，使用``ininstance``的原因就显而易见了。简而言之，不同的数据类型通常与一些基本类型共享一些属性。最典型的例子就是bool类型，它是从更为通用的int类型派生而来的。"
   ]
  },
  {
   "cell_type": "code",
   "execution_count": 73,
   "metadata": {},
   "outputs": [
    {
     "data": {
      "text/plain": [
       "True"
      ]
     },
     "execution_count": 73,
     "metadata": {},
     "output_type": "execute_result"
    }
   ],
   "source": [
    "test = True\n",
    "isinstance(test, bool) # True\n",
    "isinstance(test, int) # True\n",
    "type(test) == int # False\n",
    "type(test) == bool # True"
   ]
  },
  {
   "cell_type": "markdown",
   "metadata": {},
   "source": [
    "因此，为了保证变量test正好是一个整数（与特定类型不相关），应检查它是否为一个integer类型的实例："
   ]
  },
  {
   "cell_type": "code",
   "execution_count": 74,
   "metadata": {},
   "outputs": [
    {
     "name": "stdout",
     "output_type": "stream",
     "text": [
      "The variable is an integer\n"
     ]
    }
   ],
   "source": [
    "if isinstance(test, int):\n",
    "    print(\"The variable is an integer\")"
   ]
  },
  {
   "cell_type": "markdown",
   "metadata": {
    "slideshow": {
     "slide_type": "slide"
    }
   },
   "source": [
    "**类型检查** Python不是一种预定义数据类型的语言，这意味着对象是有其能做什么而不是其事什么来定义的。例如，通过使用``len``方法，你拥有了一个可以作用于某个对象的字符串操作函数，那么你的函数可能对实现该方法的任务对象都有用。"
   ]
  },
  {
   "cell_type": "code",
   "execution_count": null,
   "metadata": {},
   "outputs": [],
   "source": []
  }
 ],
 "metadata": {
  "celltoolbar": "幻灯片",
  "kernelspec": {
   "display_name": "Python 3",
   "language": "python",
   "name": "python3"
  },
  "language_info": {
   "codemirror_mode": {
    "name": "ipython",
    "version": 3
   },
   "file_extension": ".py",
   "mimetype": "text/x-python",
   "name": "python",
   "nbconvert_exporter": "python",
   "pygments_lexer": "ipython3",
   "version": "3.7.3"
  }
 },
 "nbformat": 4,
 "nbformat_minor": 2
}
