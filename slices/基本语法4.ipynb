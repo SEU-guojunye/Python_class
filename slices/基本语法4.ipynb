{
 "cells": [
  {
   "cell_type": "markdown",
   "metadata": {
    "slideshow": {
     "slide_type": "slide"
    }
   },
   "source": [
    "# 数组\n",
    "\n",
    "线性代数是计算数学最重要的组成部分之一。线性代数的研究对象是向量和矩阵。``NumPy`` 包含有所有用来处理这些对象的必备工具。\n",
    "\n",
    "- 构建矩阵和向量，或者通过切片来更改它们。\n",
    "- ``dot``运算，包括了标量积、矩阵--向量乘积和矩阵-矩阵乘积 "
   ]
  },
  {
   "cell_type": "markdown",
   "metadata": {
    "slideshow": {
     "slide_type": "slide"
    }
   },
   "source": [
    "## 数组类型概要\n",
    "\n",
    "简而言之，这部分介绍如何在 nutshell中使用数组。\n",
    "\n",
    "### 向量和矩阵\n",
    "\n",
    "创建向量就像使用函数 array将列表转换为数组一样简单：\n",
    "\n",
    "```python\n",
    "v = array([1., 2., 3.])\n",
    "```\n",
    "\n",
    "对象v现在是一个向量，其行为很像线性代数中的向量。以下是一些在向量上执行的基本线性代数运算的例子："
   ]
  },
  {
   "cell_type": "code",
   "execution_count": 1,
   "metadata": {
    "slideshow": {
     "slide_type": "slide"
    }
   },
   "outputs": [],
   "source": [
    "from numpy import *\n",
    "from scipy import *\n",
    "from scipy.linalg import *\n",
    "from matplotlib.pyplot import *\n",
    "%matplotlib inline"
   ]
  },
  {
   "cell_type": "code",
   "execution_count": 2,
   "metadata": {},
   "outputs": [
    {
     "data": {
      "text/plain": [
       "array([0.5, 1. , 1.5])"
      ]
     },
     "execution_count": 2,
     "metadata": {},
     "output_type": "execute_result"
    }
   ],
   "source": [
    "# two vectors with three components\n",
    "v1 = array([1., 2., 3.]) \n",
    "v2 = array([2, 0, 1.]) \n",
    "\n",
    "2*v1      # array([2., 4., 6.])\n",
    "v1/2      # array([0.5, 1., 1.5])"
   ]
  },
  {
   "cell_type": "code",
   "execution_count": 3,
   "metadata": {},
   "outputs": [
    {
     "data": {
      "text/plain": [
       "5.0"
      ]
     },
     "execution_count": 3,
     "metadata": {},
     "output_type": "execute_result"
    }
   ],
   "source": [
    "# linear combinations\n",
    "3*v1 #  array([ 3.,  6.,  9.])\n",
    "3*v1 + 2*v2  # array([  7.,   6.,  11.])\n",
    "# norm\n",
    "norm(v1) #  3.7416573867739413\n",
    "# scalar product\n",
    "dot(v1, v2) # 5.\n",
    "v1 @ v2     #  5 ; alternative formulation "
   ]
  },
  {
   "cell_type": "code",
   "execution_count": 4,
   "metadata": {},
   "outputs": [
    {
     "data": {
      "text/plain": [
       "array([3., 2., 4.])"
      ]
     },
     "execution_count": 4,
     "metadata": {},
     "output_type": "execute_result"
    }
   ],
   "source": [
    "# elementwise operations:\n",
    "v1 * v2 # array([2., 0., 3.])\n",
    "v2 / v1 # array([2.,0.,.333333])\n",
    "v1 - v2 # array([-1.,  2.,  2.])\n",
    "v1 + v2 # array([ 3.,  2.,  4.])"
   ]
  },
  {
   "cell_type": "markdown",
   "metadata": {
    "slideshow": {
     "slide_type": "slide"
    }
   },
   "source": [
    "一些函数对于数组也是作用于元素上的："
   ]
  },
  {
   "cell_type": "code",
   "execution_count": 5,
   "metadata": {},
   "outputs": [
    {
     "data": {
      "text/plain": [
       "array([ 0.54030231, -0.41614684, -0.9899925 ])"
      ]
     },
     "execution_count": 5,
     "metadata": {},
     "output_type": "execute_result"
    }
   ],
   "source": [
    "cos(v1) # cosine, elementwise: array([ 0.5403, -0.4161, -0.9899])"
   ]
  },
  {
   "cell_type": "markdown",
   "metadata": {},
   "source": [
    "矩阵是用类似于创建向量的方式创建的，而不是通过一系列的列表来创建的："
   ]
  },
  {
   "cell_type": "code",
   "execution_count": 6,
   "metadata": {},
   "outputs": [],
   "source": [
    "M = array([[1.,2],[0.,1]])"
   ]
  },
  {
   "cell_type": "markdown",
   "metadata": {},
   "source": [
    "创建一个与向量 ``` v=array([1., 2., 1.])``` 包含相同数据的行矩阵"
   ]
  },
  {
   "cell_type": "code",
   "execution_count": 7,
   "metadata": {},
   "outputs": [
    {
     "data": {
      "text/plain": [
       "(1, 3)"
      ]
     },
     "execution_count": 7,
     "metadata": {},
     "output_type": "execute_result"
    }
   ],
   "source": [
    "R = array([[1.,2.,1.]])  # Note the brackets\n",
    "shape(R)                 # (1,3)   row matrix column matrix"
   ]
  },
  {
   "cell_type": "markdown",
   "metadata": {},
   "source": [
    "使用 ```reshape``` 方法，获得对应的列矩阵"
   ]
  },
  {
   "cell_type": "code",
   "execution_count": 8,
   "metadata": {},
   "outputs": [
    {
     "data": {
      "text/plain": [
       "(3, 1)"
      ]
     },
     "execution_count": 8,
     "metadata": {},
     "output_type": "execute_result"
    }
   ],
   "source": [
    "C = array([1., 2., 1.]).reshape(3,1)  \n",
    "shape(C)        #(3,1)  : column matrix"
   ]
  },
  {
   "cell_type": "markdown",
   "metadata": {
    "slideshow": {
     "slide_type": "slide"
    }
   },
   "source": [
    "### 索引和切片\n",
    "索引和切片与列表的索引和切片类似. 两者主要的区别是当数组是一个矩阵时，可能会有多个索引或切片.\n",
    "这里仅给出一些索引和切片的实例"
   ]
  },
  {
   "cell_type": "code",
   "execution_count": 9,
   "metadata": {},
   "outputs": [
    {
     "data": {
      "text/plain": [
       "array([3., 4.])"
      ]
     },
     "execution_count": 9,
     "metadata": {},
     "output_type": "execute_result"
    }
   ],
   "source": [
    "v = array([1., 2., 3])\n",
    "M = array([[1., 2.],[3., 4.]])\n",
    "v[0]      # 1.0\n",
    "v[1:]     # array([2., 3.])\n",
    "\n",
    "M[0, 0]   # 1.\n",
    "M[1:]     # array([4., 5., 6.])\n",
    "M[1]      # array([4., 5., 6.])"
   ]
  },
  {
   "cell_type": "code",
   "execution_count": 10,
   "metadata": {},
   "outputs": [
    {
     "ename": "ValueError",
     "evalue": "cannot copy sequence with size 3 to array axis with dimension 2",
     "output_type": "error",
     "traceback": [
      "\u001b[0;31m---------------------------------------------------------------------------\u001b[0m",
      "\u001b[0;31mValueError\u001b[0m                                Traceback (most recent call last)",
      "\u001b[0;32m<ipython-input-10-5ff82f56e76b>\u001b[0m in \u001b[0;36m<module>\u001b[0;34m\u001b[0m\n\u001b[1;32m      7\u001b[0m \u001b[0mv\u001b[0m\u001b[0;34m[\u001b[0m\u001b[0;34m:\u001b[0m\u001b[0;36m2\u001b[0m\u001b[0;34m]\u001b[0m \u001b[0;34m=\u001b[0m \u001b[0;34m[\u001b[0m\u001b[0;36m0\u001b[0m\u001b[0;34m,\u001b[0m\u001b[0;36m1\u001b[0m\u001b[0;34m]\u001b[0m  \u001b[0;31m#now v== array([0., 1., 3.])\u001b[0m\u001b[0;34m\u001b[0m\u001b[0;34m\u001b[0m\u001b[0m\n\u001b[1;32m      8\u001b[0m \u001b[0;34m\u001b[0m\u001b[0m\n\u001b[0;32m----> 9\u001b[0;31m \u001b[0mv\u001b[0m\u001b[0;34m[\u001b[0m\u001b[0;34m:\u001b[0m\u001b[0;36m2\u001b[0m\u001b[0;34m]\u001b[0m \u001b[0;34m=\u001b[0m \u001b[0;34m[\u001b[0m\u001b[0;36m1\u001b[0m\u001b[0;34m,\u001b[0m\u001b[0;36m2\u001b[0m\u001b[0;34m,\u001b[0m\u001b[0;36m3\u001b[0m\u001b[0;34m]\u001b[0m  \u001b[0;31m#error\u001b[0m\u001b[0;34m\u001b[0m\u001b[0;34m\u001b[0m\u001b[0m\n\u001b[0m",
      "\u001b[0;31mValueError\u001b[0m: cannot copy sequence with size 3 to array axis with dimension 2"
     ]
    }
   ],
   "source": [
    "# 访问\n",
    "v[0]    #1.\n",
    "v[0] = 10\n",
    "\n",
    "# slice\n",
    "v[:2]   #array([10.,  2.])\n",
    "v[:2] = [0,1]  #now v== array([0., 1., 3.])\n",
    "\n",
    "v[:2] = [1,2,3]  #error"
   ]
  },
  {
   "cell_type": "markdown",
   "metadata": {
    "slideshow": {
     "slide_type": "slide"
    }
   },
   "source": [
    "### 线性代数运算\n",
    "```dot```函数是执行大多数常见线性代数运算的基本运算符,它可以用于矩阵-向量乘法."
   ]
  },
  {
   "cell_type": "code",
   "execution_count": 11,
   "metadata": {},
   "outputs": [
    {
     "data": {
      "text/plain": [
       "array([11., 23.])"
      ]
     },
     "execution_count": 11,
     "metadata": {},
     "output_type": "execute_result"
    }
   ],
   "source": [
    "M = array([[1., 2., 3.],[4., 5.,6.]])\n",
    "v = array([0., 1., 3.])\n",
    "dot(M,v)   #  array([11., 23.])\n",
    "M @ v       # array([11., 23.]) ; alternative formulation \n"
   ]
  },
  {
   "cell_type": "markdown",
   "metadata": {
    "slideshow": {
     "slide_type": "slide"
    }
   },
   "source": [
    "用来计算两个向量之间的标量乘积"
   ]
  },
  {
   "cell_type": "code",
   "execution_count": 12,
   "metadata": {},
   "outputs": [
    {
     "data": {
      "text/plain": [
       "5.0"
      ]
     },
     "execution_count": 12,
     "metadata": {},
     "output_type": "execute_result"
    }
   ],
   "source": [
    "w = array([1., 2., 1.])\n",
    "v = array([0., 1., 3.])\n",
    "dot(v,w)   #5.0  Scalar product\n",
    "v@w        # 5.0   alternative formulation \n"
   ]
  },
  {
   "cell_type": "markdown",
   "metadata": {},
   "source": [
    "计算矩阵--矩阵乘积"
   ]
  },
  {
   "cell_type": "code",
   "execution_count": 13,
   "metadata": {},
   "outputs": [
    {
     "data": {
      "text/plain": [
       "array([[18., 13.],\n",
       "       [57., 31.]])"
      ]
     },
     "execution_count": 13,
     "metadata": {},
     "output_type": "execute_result"
    }
   ],
   "source": [
    "N = array([[10.,1.],[1., 3.],[2.,2]])\n",
    "dot(M,N)           #array([[18., 13.],[57., 31.]])\n",
    "M @ N              # array([[18., 13.], [57., 31.]])  alternative formulation "
   ]
  },
  {
   "cell_type": "markdown",
   "metadata": {
    "slideshow": {
     "slide_type": "slide"
    }
   },
   "source": [
    "#### 求解线性方程组\n",
    "$A$ 是一个矩阵, $b$ 是一个向量,可以求解线性方程\n",
    "$$ Ax = b$$\n",
    "可以使用```solve```方法, 语法如下\n",
    "```python\n",
    "solve(A,b)\n",
    "```\n",
    "例:\n",
    "$$ \\begin{cases}x_1+2x_2=1, \\\\ 3x_1+4x_2=4.\\end{cases}$$"
   ]
  },
  {
   "cell_type": "code",
   "execution_count": 14,
   "metadata": {},
   "outputs": [
    {
     "data": {
      "text/plain": [
       "True"
      ]
     },
     "execution_count": 14,
     "metadata": {},
     "output_type": "execute_result"
    }
   ],
   "source": [
    "A= array([[1., 2.],[3., 4.]])\n",
    "b = array([1., 4.])\n",
    "x = solve(A,b)      # [ 2.  -0.5]\n",
    "allclose(dot(A,x),b)   # True\n",
    "allclose(A @ x,b)   # True;  alternative formulation "
   ]
  },
  {
   "cell_type": "markdown",
   "metadata": {},
   "source": [
    "- `` allclose`` 用于比较两个向量.如果它们彼此足够接近,那么该命令将返回 ``True``."
   ]
  },
  {
   "cell_type": "markdown",
   "metadata": {
    "slideshow": {
     "slide_type": "slide"
    }
   },
   "source": [
    "## 数组类型\n",
    "NumPy中用于操纵向量、矩阵以及更多用于张量的对象称为数组。\n",
    "\n",
    "### 数组属性\n",
    "\n",
    "数组本质上具有3个属性\n",
    "\n",
    "| 名称 |     说明 |\n",
    "| :--- | :--- |\n",
    "| shape| 它描述了如何将数据解释为向量、矩阵或高阶张量，并给出了相应的维度。可以使用shape属性访问它|\n",
    "| dtype | 它给出了底层数据的类型(浮点数、复数、整数等)|\n",
    "|strides|此属性指定了应读取数据的顺序。例如，矩阵可以逐列(FORTRAN语言约定)或逐行(C语言约定)存储。属性是-个元组，其必须在内存中跳过一定的字节数才能到达下行或下一列。strides属性甚至允许对内存中的数据进行更灵活的解释，这使得数组视图成为可能.|\n"
   ]
  },
  {
   "cell_type": "code",
   "execution_count": 15,
   "metadata": {
    "slideshow": {
     "slide_type": "slide"
    }
   },
   "outputs": [
    {
     "data": {
      "text/plain": [
       "(24, 8)"
      ]
     },
     "execution_count": 15,
     "metadata": {},
     "output_type": "execute_result"
    }
   ],
   "source": [
    "A = array([[1, 2, 3],[3,4, 6]])\n",
    "A.shape    # (2， 3)\n",
    "A.dtype    # dtype(' int64')\n",
    "\n",
    "A.strides   # (24， 8)"
   ]
  },
  {
   "cell_type": "markdown",
   "metadata": {},
   "source": [
    "该数组的元素类型为'int64'，也就是说，它们占用了64位或者8字节大小的内存。完整的数组以行的方式存储在内存中。从$A[0,0]$到下一行 $A[1,0]$ 中的第一个元素的距离占用了24字节的内存(3个矩阵元素)。相应地，$A[0,0]$ 和 $A[0,1]$ 之间占用了8字节的内存(一个矩阵元素)。这些值均存储在属性strides中。"
   ]
  },
  {
   "cell_type": "markdown",
   "metadata": {
    "slideshow": {
     "slide_type": "slide"
    }
   },
   "source": [
    "### 用列表创建数组\n",
    "\n",
    "函数array是创建数组的常用语法。创建一个实数向量的语法如下:\n",
    "``` \n",
    "V = array(11., 2., 1.1, dtype-float)\n",
    "```\n",
    "要创建个与上面的数组具有相同数据的复数向量，\n",
    "```\n",
    "V = array(11., 2., 1.1， dtype-complex) \n",
    "```\n",
    "若没有指定类型,则需要推测类型. `` array``函数会选择能够存储所有指定值的数据类型:"
   ]
  },
  {
   "cell_type": "code",
   "execution_count": 16,
   "metadata": {},
   "outputs": [
    {
     "data": {
      "text/plain": [
       "dtype('complex128')"
      ]
     },
     "execution_count": 16,
     "metadata": {},
     "output_type": "execute_result"
    }
   ],
   "source": [
    "V = array([1, 2]) # [1, 2] is a list of integers\n",
    "V.dtype # int64\n",
    "\n",
    "V = array([1., 2]) # [1., 2] mix float/integer\n",
    "V.dtype   # float64\n",
    "\n",
    "V = array([1. + 0j, 2.]) # mix float/complex\n",
    "V.dtype # complex128"
   ]
  },
  {
   "cell_type": "markdown",
   "metadata": {
    "slideshow": {
     "slide_type": "slide"
    }
   },
   "source": [
    "#### 默认类型转换\n",
    "\n",
    "``NumPy`` 默认将浮点数转换为整数，这可能会产生意想不到的结果:"
   ]
  },
  {
   "cell_type": "code",
   "execution_count": 17,
   "metadata": {},
   "outputs": [
    {
     "data": {
      "text/plain": [
       "array([0, 2, 3])"
      ]
     },
     "execution_count": 17,
     "metadata": {},
     "output_type": "execute_result"
    }
   ],
   "source": [
    " a = array([1, 2, 3])\n",
    " a[0] = 0.5 \n",
    " a   # now: array([0, 2, 3])"
   ]
  },
  {
   "cell_type": "markdown",
   "metadata": {
    "slideshow": {
     "slide_type": "slide"
    }
   },
   "source": [
    "#### 数组和Python圆括号\n",
    "\n",
    "当一些左大括号或圆利括号未关闭时，Python 允许使用一个换行符。这为数组创建提供了便捷的语法。该语法使得数组的创建更为友好。"
   ]
  },
  {
   "cell_type": "code",
   "execution_count": 18,
   "metadata": {},
   "outputs": [],
   "source": [
    "# the identity matrix in 2D\n",
    "Id = array([[1., 0.], [0., 1.]])\n",
    "# Python allows this:\n",
    "Id = array([[1., 0.],\n",
    "            [0., 1.]])\n",
    "# which is more readable"
   ]
  },
  {
   "cell_type": "markdown",
   "metadata": {
    "slideshow": {
     "slide_type": "slide"
    }
   },
   "source": [
    "## 访问数组项\n",
    "\n",
    "可以通过索引来访问数组项。与向量系数不同，我们需要两个索引来访问矩阵系数。这些索引都在一对 方括号中给出，这样就能将数组语法与一系列列表语法 ( 需要两对方把号来访问元素)区分开来。"
   ]
  },
  {
   "cell_type": "code",
   "execution_count": 19,
   "metadata": {},
   "outputs": [
    {
     "data": {
      "text/plain": [
       "3.0"
      ]
     },
     "execution_count": 19,
     "metadata": {},
     "output_type": "execute_result"
    }
   ],
   "source": [
    "M = array([[1., 2.],[3.,4.]])\n",
    "M[0,0] # first row, first column: 1.\n",
    "\n",
    "M[-1,0] # last row, first column: 3."
   ]
  },
  {
   "cell_type": "markdown",
   "metadata": {
    "slideshow": {
     "slide_type": "slide"
    }
   },
   "source": [
    "### 基本数组切片\n",
    "\n",
    "数组切片与列表切片类似，但其可能存在多个维度。\n",
    "* $M[i，...]$ 是由 $M$ 的 $i$ 行所填充的向量。\n",
    "* $M[:,j]$ 是由 $M$ 的 $j$ 列所填充的向量。\n",
    "* $M[2: 4，...]$ 是仅在行上的 $2:4$ 的切片。\n",
    "* $M[2: 4,1: 4]$ 是行和列的切片。\n",
    "\n",
    "删除维度: 如果删除了一个索引或切片，NumPy会假定你只取行。$M[3]$ 是 $M$ 的第三行视图的向量，$M[1:3]$ 是 $M$ 的第二行和第三行的视图的矩阵。\n",
    "\n",
    "改变切片的元素会影响整个数组:"
   ]
  },
  {
   "cell_type": "code",
   "execution_count": 20,
   "metadata": {},
   "outputs": [
    {
     "data": {
      "text/plain": [
       "array([0., 2., 3.])"
      ]
     },
     "execution_count": 20,
     "metadata": {},
     "output_type": "execute_result"
    }
   ],
   "source": [
    "v = array([1., 2., 3.])\n",
    "v1 = v[:2] # v1 is array([1.,2.])\n",
    "v1[0] = 0.  # if v1 is changed ...\n",
    "\n",
    "v #   ... v is changed too: array([0., 2., 3.])"
   ]
  },
  {
   "cell_type": "markdown",
   "metadata": {
    "slideshow": {
     "slide_type": "slide"
    }
   },
   "source": [
    "一般的切片规则\n",
    "\n",
    "|访问方式 | 维数 | 类型 |\n",
    "|:---:| :---: | :---:|\n",
    "|index, index   |  0   |scalar|\n",
    "|slice,index|    1 |vector|\n",
    "|index,slice|    1 | vector |\n",
    "|slice,slice|    2 | matrix|\n",
    "\n",
    "形状为 $(4,4)$ 的数组 $M$ 的切片运算结果:\n",
    "\n",
    "|访问方式 | 形状 | 维数 | 类型 |\n",
    "| :---: | :---: | :---:| :---:|\n",
    "| M[:2,1:-1] |(2,2) |2 |matrix |\n",
    "| M[1,:] |(4) |1 |vector |\n",
    "| M[1,1] |() |0 |scalar |\n",
    "| M[1:2,:] |(1,4)|2 |matrix |\n",
    "| M[1:2,1:2] |(1,1) |2 |matrix |\n"
   ]
  },
  {
   "cell_type": "markdown",
   "metadata": {
    "slideshow": {
     "slide_type": "slide"
    }
   },
   "source": [
    "### 使用切片修改数组\n",
    "\n",
    "可以通过使用切片或直接访问来修改数组。下面仅更改了5X3矩阵M中的一个元素:"
   ]
  },
  {
   "cell_type": "code",
   "execution_count": 21,
   "metadata": {},
   "outputs": [
    {
     "data": {
      "text/plain": [
       "array([[ 1,  2,  3],\n",
       "       [ 4,  5,  2],\n",
       "       [ 7,  8,  9],\n",
       "       [10, 11, 12],\n",
       "       [13, 14, 15]])"
      ]
     },
     "execution_count": 21,
     "metadata": {},
     "output_type": "execute_result"
    }
   ],
   "source": [
    "M = array([[1,2,3],[4,5,6],[7,8,9],[10,11,12],[13,14,15]])\n",
    "shape(M)     # (5, 3)\n",
    "\n",
    "M[1,2] = 2.0 # scalar\n",
    "M     # array([[ 1,  2,  3], [ 4,  5,  2],[ 7,  8,  9], [10, 11, 12],[13, 14, 15]])"
   ]
  },
  {
   "cell_type": "markdown",
   "metadata": {
    "slideshow": {
     "slide_type": "slide"
    }
   },
   "source": [
    "也可以修改矩阵的一整行:"
   ]
  },
  {
   "cell_type": "code",
   "execution_count": 22,
   "metadata": {},
   "outputs": [],
   "source": [
    "M[2,:] = [1.,2.,3.] # vector\n",
    "# array([[ 1,  2,  3],[ 4,  5,  2],[ 1,  2,  3],[10, 11, 12],[13, 14, 15]])"
   ]
  },
  {
   "cell_type": "markdown",
   "metadata": {},
   "source": [
    "也可以替换整个子矩阵:"
   ]
  },
  {
   "cell_type": "code",
   "execution_count": 23,
   "metadata": {},
   "outputs": [],
   "source": [
    "M[1:3,:] = array([[1.,2.,3.],[-1.,-2.,-3.]]) # matrix\n",
    " #array([[ 1,  2,  3],[ 1,  2,  3],[-1, -2, -3],[10, 11, 12],[13, 14, 15]])"
   ]
  },
  {
   "cell_type": "markdown",
   "metadata": {
    "slideshow": {
     "slide_type": "slide"
    }
   },
   "source": [
    "列矩阵和向量不同。以下使用列矩阵的赋值不会返回错误:"
   ]
  },
  {
   "cell_type": "code",
   "execution_count": 24,
   "metadata": {},
   "outputs": [
    {
     "data": {
      "text/plain": [
       "array([[ 1,  2,  3],\n",
       "       [ 1,  2,  1],\n",
       "       [-1, -2,  0],\n",
       "       [10, 11, -1],\n",
       "       [13, 14, 15]])"
      ]
     },
     "execution_count": 24,
     "metadata": {},
     "output_type": "execute_result"
    }
   ],
   "source": [
    "M[1:4,2:3] = array([[1.],[0.],[-1.0]]) # column matrix\n",
    "M   # array([[ 1,  2,  3], [ 1,  2,  1],[-1, -2,  0],[10, 11, -1],[13, 14, 15]])"
   ]
  },
  {
   "cell_type": "markdown",
   "metadata": {},
   "source": [
    "而以下使用向量的赋值将返回一个Value Error:"
   ]
  },
  {
   "cell_type": "code",
   "execution_count": 25,
   "metadata": {},
   "outputs": [
    {
     "ename": "ValueError",
     "evalue": "could not broadcast input array from shape (3) into shape (3,1)",
     "output_type": "error",
     "traceback": [
      "\u001b[0;31m---------------------------------------------------------------------------\u001b[0m",
      "\u001b[0;31mValueError\u001b[0m                                Traceback (most recent call last)",
      "\u001b[0;32m<ipython-input-25-946a49e876f6>\u001b[0m in \u001b[0;36m<module>\u001b[0;34m\u001b[0m\n\u001b[0;32m----> 1\u001b[0;31m \u001b[0mM\u001b[0m\u001b[0;34m[\u001b[0m\u001b[0;36m1\u001b[0m\u001b[0;34m:\u001b[0m\u001b[0;36m4\u001b[0m\u001b[0;34m,\u001b[0m\u001b[0;36m2\u001b[0m\u001b[0;34m:\u001b[0m\u001b[0;36m3\u001b[0m\u001b[0;34m]\u001b[0m \u001b[0;34m=\u001b[0m \u001b[0marray\u001b[0m \u001b[0;34m(\u001b[0m \u001b[0;34m[\u001b[0m\u001b[0;36m1.\u001b[0m\u001b[0;34m,\u001b[0m \u001b[0;36m0.\u001b[0m\u001b[0;34m,\u001b[0m \u001b[0;34m-\u001b[0m\u001b[0;36m1.0\u001b[0m\u001b[0;34m]\u001b[0m\u001b[0;34m)\u001b[0m \u001b[0;31m# error\u001b[0m\u001b[0;34m\u001b[0m\u001b[0;34m\u001b[0m\u001b[0m\n\u001b[0m",
      "\u001b[0;31mValueError\u001b[0m: could not broadcast input array from shape (3) into shape (3,1)"
     ]
    }
   ],
   "source": [
    "M[1:4,2:3] = array ( [1., 0., -1.0]) # error"
   ]
  },
  {
   "cell_type": "markdown",
   "metadata": {
    "slideshow": {
     "slide_type": "slide"
    }
   },
   "source": [
    "## 数组构造函数\n",
    "\n",
    "我们一般通过列表来构建数组，但还有一些便捷的方法可用来生成特殊的数组， 见表.\n",
    "\n",
    "|方法 |形状 | 生成结果 |\n",
    "| :--- | :--- | :--- |\n",
    "| zeros((n,m)) |(n,m)| 由zeros填充的矩阵 |\n",
    "| ones (n,m) | (n,m) | 由ones填充的矩阵 |\n",
    "| diag(v,k) | (n,n) | 来自向量vV的对角矩阵(Sub-,super-) |\n",
    "|random.rand (n,m) | (n,m) | 由在(0,1)中平均分布的随机数填充的矩阵|\n",
    "| arange (n) | (n,) | 前n个整数|\n",
    "|linspace(a,b,n) | (n,) | 由平均分布在 a 和 b 之间的 n 个点所组成的向量|"
   ]
  },
  {
   "cell_type": "markdown",
   "metadata": {
    "slideshow": {
     "slide_type": "slide"
    }
   },
   "source": [
    "这些命令可以采用额外的参数。特别是命令 ``zeros``, ``ones`` 和 ``arange`` 采用 dtype 作为可选参数. \n",
    "\n",
    "除 ``arange`` 之外，默认类型型均为 float . 还有诸如 ``zeros_like`` 和 ``ones_like`` 的方法，它们是上述命令的此变体，例如，``zeros_like(A)`` 方法相当于 ``zeros(shape(A))``。\n",
    "\n",
    "如下是函数identity,它构造了一个指定大小的单位矩阵:"
   ]
  },
  {
   "cell_type": "code",
   "execution_count": 26,
   "metadata": {},
   "outputs": [],
   "source": [
    "identity(3)  # array([[1., 0., 0.],[0., 1., 0.],[0., 0., 1.]])\n",
    "\n",
    "I = array([[1., 0., 0.],[0., 1., 0.],[0., 0., 1.]])  "
   ]
  },
  {
   "cell_type": "markdown",
   "metadata": {
    "slideshow": {
     "slide_type": "slide"
    }
   },
   "source": [
    "## 访问和修改形状\n",
    "\n",
    "向量和矩阵的区别在于维数，不同大小的向量或矩阵的主要区别在于形状。\n",
    "\n",
    "### shape函数\n",
    "\n",
    "矩阵的形状是其维度的元组。$n\\times m$ 矩阵的形状是元组 (n,m)，该元组可以通过shape函数获得:"
   ]
  },
  {
   "cell_type": "code",
   "execution_count": 27,
   "metadata": {},
   "outputs": [
    {
     "data": {
      "text/plain": [
       "(3, 3)"
      ]
     },
     "execution_count": 27,
     "metadata": {},
     "output_type": "execute_result"
    }
   ],
   "source": [
    "M = identity(3)\n",
    "shape(M) # (3, 3)"
   ]
  },
  {
   "cell_type": "markdown",
   "metadata": {},
   "source": [
    "对于一个向量来说，其形状是包含该向量长度的单元素元组:"
   ]
  },
  {
   "cell_type": "code",
   "execution_count": 28,
   "metadata": {},
   "outputs": [
    {
     "data": {
      "text/plain": [
       "(4,)"
      ]
     },
     "execution_count": 28,
     "metadata": {},
     "output_type": "execute_result"
    }
   ],
   "source": [
    "v = array([1., 2., 1., 4.])\n",
    "shape(v) # (4,) <- singleton (1-tuple)"
   ]
  },
  {
   "cell_type": "markdown",
   "metadata": {
    "slideshow": {
     "slide_type": "slide"
    }
   },
   "source": [
    "另一种方法是使用数组属性shape,它可以得到相同的结果:"
   ]
  },
  {
   "cell_type": "code",
   "execution_count": 29,
   "metadata": {},
   "outputs": [
    {
     "data": {
      "text/plain": [
       "(1, 2)"
      ]
     },
     "execution_count": 29,
     "metadata": {},
     "output_type": "execute_result"
    }
   ],
   "source": [
    "M = array([[1.,2.]])\n",
    "shape(M) # (1,2)\n",
    "M.shape # (1,2)"
   ]
  },
  {
   "cell_type": "markdown",
   "metadata": {},
   "source": [
    "但是将shape用作函数的优点是可以在标量和列表上使用该函数。当代码需要同时使用标量和数组时，该函数可能会派上用场:"
   ]
  },
  {
   "cell_type": "code",
   "execution_count": 30,
   "metadata": {},
   "outputs": [
    {
     "data": {
      "text/plain": [
       "(1, 2)"
      ]
     },
     "execution_count": 30,
     "metadata": {},
     "output_type": "execute_result"
    }
   ],
   "source": [
    "shape(1.) # ()\n",
    "\n",
    "shape([1,2]) # (2,)\n",
    "\n",
    "shape([[1,2]]) # (1,2)"
   ]
  },
  {
   "cell_type": "markdown",
   "metadata": {
    "slideshow": {
     "slide_type": "slide"
    }
   },
   "source": [
    "### 维数\n",
    "\n",
    "使用函数``numpy.ndim``或数组属性``ndarray.ndim``可以获取数组的维数:"
   ]
  },
  {
   "cell_type": "code",
   "execution_count": 31,
   "metadata": {},
   "outputs": [
    {
     "data": {
      "text/plain": [
       "2"
      ]
     },
     "execution_count": 31,
     "metadata": {},
     "output_type": "execute_result"
    }
   ],
   "source": [
    "A=random.rand(2,3)\n",
    "ndim(A) # 2\n",
    "A.ndim # 2"
   ]
  },
  {
   "cell_type": "markdown",
   "metadata": {},
   "source": [
    "注意，张量 T (向量、矩阵或更高阶张量)的函数 ``ndim`` 给出的维数总是等于其形状的长度:"
   ]
  },
  {
   "cell_type": "code",
   "execution_count": 32,
   "metadata": {},
   "outputs": [
    {
     "data": {
      "text/plain": [
       "3"
      ]
     },
     "execution_count": 32,
     "metadata": {},
     "output_type": "execute_result"
    }
   ],
   "source": [
    "T = zeros((2,2,3)) # tensor of shape (2,2,3); three dimensions\n",
    "ndim(T) # 3\n",
    "\n",
    "len(shape(T)) # 3"
   ]
  },
  {
   "cell_type": "markdown",
   "metadata": {
    "slideshow": {
     "slide_type": "slide"
    }
   },
   "source": [
    "### 重塑\n",
    "\n",
    "``reshape`` 函数在不复制数据的情况下给出了一个数组的新视图，它有一个新形状:"
   ]
  },
  {
   "cell_type": "code",
   "execution_count": 33,
   "metadata": {},
   "outputs": [
    {
     "data": {
      "text/plain": [
       "array([10,  1,  2,  3,  4,  5])"
      ]
     },
     "execution_count": 33,
     "metadata": {},
     "output_type": "execute_result"
    }
   ],
   "source": [
    "v = array([0,1,2,3,4,5])\n",
    "M = v.reshape(2,3)   # array([[0, 1, 2], [3, 4, 5]])\n",
    "shape(M)  # returns (2,3)\n",
    "M[0,0] = 10 # now v[0] is 10\n",
    "v   # array([10,  1,  2,  3,  4,  5])"
   ]
  },
  {
   "cell_type": "markdown",
   "metadata": {
    "slideshow": {
     "slide_type": "slide"
    }
   },
   "source": [
    "### 重塑而不复制\n",
    "\n",
    "重塑不是创建一个新数组，而是给出了现有数组的一个新视图。在前面的例子中，更改M的一个元素导致 v 中相应的元素也会自动地发生改变。当这种行为不被接受时，你就需要复制数据\n"
   ]
  },
  {
   "cell_type": "markdown",
   "metadata": {
    "slideshow": {
     "slide_type": "-"
    }
   },
   "source": [
    "如果要尝试重塑不与初始形状值相乘的形状的数组，则会引发错误:\n",
    "\n",
    "``ValueError: total size of new array must be unchanged.``\n",
    "\n",
    "有时候仅指定一个形状参数也很方便，并让Python以与原始形状相乘的方式来确定另一个形状参数。这可以通过设置自由形状参数-1来实现:\n"
   ]
  },
  {
   "cell_type": "code",
   "execution_count": 34,
   "metadata": {},
   "outputs": [
    {
     "ename": "ValueError",
     "evalue": "cannot reshape array of size 8 into shape (3,newaxis)",
     "output_type": "error",
     "traceback": [
      "\u001b[0;31m---------------------------------------------------------------------------\u001b[0m",
      "\u001b[0;31mValueError\u001b[0m                                Traceback (most recent call last)",
      "\u001b[0;32m<ipython-input-34-1724d4084009>\u001b[0m in \u001b[0;36m<module>\u001b[0;34m\u001b[0m\n\u001b[1;32m      6\u001b[0m \u001b[0mshape\u001b[0m\u001b[0;34m(\u001b[0m\u001b[0mM\u001b[0m\u001b[0;34m)\u001b[0m   \u001b[0;31m# returns (4,2)\u001b[0m\u001b[0;34m\u001b[0m\u001b[0;34m\u001b[0m\u001b[0m\n\u001b[1;32m      7\u001b[0m \u001b[0;34m\u001b[0m\u001b[0m\n\u001b[0;32m----> 8\u001b[0;31m \u001b[0mM\u001b[0m \u001b[0;34m=\u001b[0m \u001b[0mv\u001b[0m\u001b[0;34m.\u001b[0m\u001b[0mreshape\u001b[0m\u001b[0;34m(\u001b[0m\u001b[0;36m3\u001b[0m\u001b[0;34m,\u001b[0m\u001b[0;34m-\u001b[0m\u001b[0;36m1\u001b[0m\u001b[0;34m)\u001b[0m \u001b[0;31m# returns error\u001b[0m\u001b[0;34m\u001b[0m\u001b[0;34m\u001b[0m\u001b[0m\n\u001b[0m",
      "\u001b[0;31mValueError\u001b[0m: cannot reshape array of size 8 into shape (3,newaxis)"
     ]
    }
   ],
   "source": [
    "v = array([1,2,3,4,5,6,7,8])\n",
    "M = v.reshape(2,-1)  # array([[1, 2, 3, 4],[5, 6, 7, 8]])\n",
    "shape(M)   # returns (2,4)\n",
    "\n",
    "M = v.reshape(-1,2)   # array([[1, 2],[3, 4],[5, 6],[7,8]])\n",
    "shape(M)   # returns (4,2)\n",
    "\n",
    "M = v.reshape(3,-1) # returns error "
   ]
  },
  {
   "cell_type": "markdown",
   "metadata": {
    "slideshow": {
     "slide_type": "slide"
    }
   },
   "source": [
    "### 转置\n",
    "转置是一种特殊格式的重塑， 它仅切换了矩阵的两个形状元素。矩阵A的转置矩阵是如下的矩阵B:\n",
    "$$ B_{ij} = A_{ji} $$\n",
    "这可以通过如下方式来实现:"
   ]
  },
  {
   "cell_type": "code",
   "execution_count": 35,
   "metadata": {},
   "outputs": [
    {
     "data": {
      "text/plain": [
       "(4, 3)"
      ]
     },
     "execution_count": 35,
     "metadata": {},
     "output_type": "execute_result"
    }
   ],
   "source": [
    "A = random.rand(3,4)\n",
    "shape(A)    # (3,4)\n",
    "B = A.T     # A transpose\n",
    "shape(B)    # (4,3)"
   ]
  },
  {
   "cell_type": "markdown",
   "metadata": {},
   "source": [
    "转置而不复制\n",
    "\n",
    "转置与重塑非常类似，尤其是它不复制数据，而只是返回一个相同数组的视图。"
   ]
  },
  {
   "cell_type": "code",
   "execution_count": 36,
   "metadata": {},
   "outputs": [
    {
     "data": {
      "text/plain": [
       "5.0"
      ]
     },
     "execution_count": 36,
     "metadata": {},
     "output_type": "execute_result"
    }
   ],
   "source": [
    "A = array([[1.,2.],[3.,4.]])\n",
    "B = A.T          # array([[1., 3.], [2., 4.]])\n",
    "A[1,1] = 5.\n",
    "B[1,1]           # 5."
   ]
  },
  {
   "cell_type": "markdown",
   "metadata": {
    "slideshow": {
     "slide_type": "slide"
    }
   },
   "source": [
    "由于向量是一维的张量， 也就是一个变量的函数，因此转置向量是没有意义的。然而，``NumPy`` 将遵循返回一个完全相同的对象:"
   ]
  },
  {
   "cell_type": "code",
   "execution_count": 37,
   "metadata": {},
   "outputs": [
    {
     "data": {
      "text/plain": [
       "array([1., 2., 3.])"
      ]
     },
     "execution_count": 37,
     "metadata": {},
     "output_type": "execute_result"
    }
   ],
   "source": [
    "v = array([1.,2.,3.])\n",
    "v.T       # exactly the same vector!"
   ]
  },
  {
   "cell_type": "markdown",
   "metadata": {},
   "source": [
    "转置一个向量时，所能想到的可能是创建一个行数组或列数组。这是通过使用``reshape``函数来实现的:"
   ]
  },
  {
   "cell_type": "code",
   "execution_count": 38,
   "metadata": {},
   "outputs": [
    {
     "data": {
      "text/plain": [
       "array([[1., 2., 3.]])"
      ]
     },
     "execution_count": 38,
     "metadata": {},
     "output_type": "execute_result"
    }
   ],
   "source": [
    "v.reshape(-1,1) # column matrix containing v \n",
    "                # array([[1.],[2.],[3.]]) \n",
    "v.reshape(1,-1) # row matrix containing v\n",
    "                # array([[1., 2., 3.]])"
   ]
  },
  {
   "cell_type": "markdown",
   "metadata": {
    "slideshow": {
     "slide_type": "slide"
    }
   },
   "source": [
    "## 叠加\n",
    "\n",
    "用一对相匹配的子矩阵来构建矩阵的通用方法是``concatenate``, 其语法是:\n",
    "```\n",
    "concatenate( (a1，a2， . . .)，axis = 0)\n",
    "```\n",
    "当参数 axis = 0 时，此命令将垂直叠加子矩阵(在彼此的顶部)。而参数 axis = 1 时，子矩阵将水平叠加，这也适用于具有更多维度的数组。该函数可以通过以下的便捷函数来调用。\n",
    "\n",
    "* hstack: 用于水平叠加矩阵。\n",
    "\n",
    "* vstack;用于垂直叠加矩阵。\n",
    "\n",
    "* columnstack: 用于在列中叠加向量。\n"
   ]
  },
  {
   "cell_type": "markdown",
   "metadata": {
    "slideshow": {
     "slide_type": "slide"
    }
   },
   "source": [
    "### 叠加向量\n",
    "可以使用``vstack``函数和``column_stack``函数来逐行或逐列叠加向量.\n",
    "\n",
    "\n",
    "将偶排列作为向量堆叠的一个例子来考虑: 假没有一一个长度为2n的向量，要对具有偶数个分量的向量执行偶排列，也就是说，将符号变化的向量的前半部分和后半部分进行交换:\n",
    "\n",
    "该运算在Python中的实现如下:"
   ]
  },
  {
   "cell_type": "code",
   "execution_count": 39,
   "metadata": {},
   "outputs": [
    {
     "data": {
      "text/plain": [
       "array([[1., 3.],\n",
       "       [2., 4.]])"
      ]
     },
     "execution_count": 39,
     "metadata": {},
     "output_type": "execute_result"
    }
   ],
   "source": [
    "v1 = array([1.,2.])\n",
    "v2 = array([3.,4.])\n",
    "vstack([v1,v2])    # array([[1., 2.], [3., 4.]])\n",
    "column_stack([v1,v2])  # array([[1., 3.], [2., 4.]])"
   ]
  },
  {
   "cell_type": "markdown",
   "metadata": {
    "slideshow": {
     "slide_type": "slide"
    }
   },
   "source": [
    "将偶排列作为向量堆叠的一个例子来考虑: 假没有一个长度为 2n 的向量，要对具有偶数个分量的向量执行偶排列，也就是说，将符号变化的向量的前半部分和后半部分进行交换:\n",
    "$$  (x_1,x_2,\\cdots,x_n,x_{n+1},\\cdots,x_{2n}) \\mapsto (x_{n+1},\\cdots,x_{2n},-x_1,\\cdots,-x_n)  $$\n",
    "\n",
    "该运算在Python中的实现如下:"
   ]
  },
  {
   "cell_type": "code",
   "execution_count": 40,
   "metadata": {},
   "outputs": [
    {
     "data": {
      "text/plain": [
       "array([ 3,  4, -1, -2])"
      ]
     },
     "execution_count": 40,
     "metadata": {},
     "output_type": "execute_result"
    }
   ],
   "source": [
    "# v is supposed to have an even length.\n",
    "def symp(v):\n",
    "  n = len(v) // 2 # use the integer division //\n",
    "  return hstack([v[-n:], -v[:n]])\n",
    "v = arange(1,5)\n",
    "symp(v)   # array([ 3,  4, -1, -2])"
   ]
  },
  {
   "cell_type": "markdown",
   "metadata": {
    "slideshow": {
     "slide_type": "slide"
    }
   },
   "source": [
    "## 作用于数组的函数\n",
    "\n",
    "有许多不同类型的函数可作用于数组。有些函数是基于元素的，它们返回一个与原数组具有相同形状的数组，被称为通用函数。其他数组函数则返回一个具有不同形状的数组。\n",
    "### 通用函数\n",
    "\n",
    "通用函数是作用于数组元素的函数，因此它们具有与输入数组形状相同的输出数组。这些函数能让我们一次性计算出整个数组中的标量函数的结果。\n",
    "\n",
    "1.内置通用函数\n",
    "\n",
    "一个典型的示例是cos函数(由NumPy提供);"
   ]
  },
  {
   "cell_type": "code",
   "execution_count": 41,
   "metadata": {},
   "outputs": [
    {
     "data": {
      "text/plain": [
       "array([[ 1.000000e+00,  6.123234e-17, -1.000000e+00]])"
      ]
     },
     "execution_count": 41,
     "metadata": {},
     "output_type": "execute_result"
    }
   ],
   "source": [
    "cos(pi) # -1.\n",
    "cos(array([[0, pi/2, pi]])) # array([[ 1.000000e+00,  6.123234e-17, -1.000000e+00]]) = array([[1, 0, -1]])"
   ]
  },
  {
   "cell_type": "markdown",
   "metadata": {
    "slideshow": {
     "slide_type": "slide"
    }
   },
   "source": [
    "注意，通用函数以单元素方式作用于数组。乘法或指数等运算符也是如此:"
   ]
  },
  {
   "cell_type": "code",
   "execution_count": 42,
   "metadata": {},
   "outputs": [
    {
     "data": {
      "text/plain": [
       "array([1, 4])"
      ]
     },
     "execution_count": 42,
     "metadata": {},
     "output_type": "execute_result"
    }
   ],
   "source": [
    "2 * array([2, 4]) # array([4, 8])\n",
    "array([1, 2]) * array([1, 8]) # array([1, 16])\n",
    "array([1, 2])**2 # array([1, 4])\n",
    "2**array([1, 2]) # array([2, 4])\n",
    "array([1, 2])**array([1, 2]) # array([1, 4])"
   ]
  },
  {
   "cell_type": "markdown",
   "metadata": {
    "slideshow": {
     "slide_type": "slide"
    }
   },
   "source": [
    "2. 创建通用函数\n",
    "\n",
    "如果在函数中仅使用通用函数，那么它将自动成为通用函数。但是，如果函数使用了不通用的函数，那么在尝试将它们应用于数组时，可能会得到标量结果，甚至发生错误:\n"
   ]
  },
  {
   "cell_type": "code",
   "execution_count": 43,
   "metadata": {},
   "outputs": [
    {
     "data": {
      "text/plain": [
       "1"
      ]
     },
     "execution_count": 43,
     "metadata": {},
     "output_type": "execute_result"
    }
   ],
   "source": [
    "def const(x):\n",
    "    return 1\n",
    "const(array([0, 2])) # returns 1 instead of array([1, 1])"
   ]
  },
  {
   "cell_type": "markdown",
   "metadata": {},
   "source": [
    "另一个实例如下:"
   ]
  },
  {
   "cell_type": "code",
   "execution_count": 44,
   "metadata": {},
   "outputs": [
    {
     "ename": "ValueError",
     "evalue": "The truth value of an array with more than one element is ambiguous. Use a.any() or a.all()",
     "output_type": "error",
     "traceback": [
      "\u001b[0;31m---------------------------------------------------------------------------\u001b[0m",
      "\u001b[0;31mValueError\u001b[0m                                Traceback (most recent call last)",
      "\u001b[0;32m<ipython-input-44-bcf44cabfa06>\u001b[0m in \u001b[0;36m<module>\u001b[0;34m\u001b[0m\n\u001b[1;32m      4\u001b[0m     \u001b[0;32melse\u001b[0m\u001b[0;34m:\u001b[0m\u001b[0;34m\u001b[0m\u001b[0;34m\u001b[0m\u001b[0m\n\u001b[1;32m      5\u001b[0m         \u001b[0;32mreturn\u001b[0m \u001b[0;36m0.\u001b[0m\u001b[0;34m\u001b[0m\u001b[0;34m\u001b[0m\u001b[0m\n\u001b[0;32m----> 6\u001b[0;31m \u001b[0mheaviside\u001b[0m\u001b[0;34m(\u001b[0m\u001b[0marray\u001b[0m\u001b[0;34m(\u001b[0m\u001b[0;34m[\u001b[0m\u001b[0;34m-\u001b[0m\u001b[0;36m1\u001b[0m\u001b[0;34m,\u001b[0m \u001b[0;36m2\u001b[0m\u001b[0;34m]\u001b[0m\u001b[0;34m)\u001b[0m\u001b[0;34m)\u001b[0m \u001b[0;31m# error\u001b[0m\u001b[0;34m\u001b[0m\u001b[0;34m\u001b[0m\u001b[0m\n\u001b[0m",
      "\u001b[0;32m<ipython-input-44-bcf44cabfa06>\u001b[0m in \u001b[0;36mheaviside\u001b[0;34m(x)\u001b[0m\n\u001b[1;32m      1\u001b[0m \u001b[0;32mdef\u001b[0m \u001b[0mheaviside\u001b[0m\u001b[0;34m(\u001b[0m\u001b[0mx\u001b[0m\u001b[0;34m)\u001b[0m\u001b[0;34m:\u001b[0m\u001b[0;34m\u001b[0m\u001b[0;34m\u001b[0m\u001b[0m\n\u001b[0;32m----> 2\u001b[0;31m     \u001b[0;32mif\u001b[0m \u001b[0mx\u001b[0m \u001b[0;34m>=\u001b[0m \u001b[0;36m0\u001b[0m\u001b[0;34m:\u001b[0m\u001b[0;34m\u001b[0m\u001b[0;34m\u001b[0m\u001b[0m\n\u001b[0m\u001b[1;32m      3\u001b[0m         \u001b[0;32mreturn\u001b[0m \u001b[0;36m1.\u001b[0m\u001b[0;34m\u001b[0m\u001b[0;34m\u001b[0m\u001b[0m\n\u001b[1;32m      4\u001b[0m     \u001b[0;32melse\u001b[0m\u001b[0;34m:\u001b[0m\u001b[0;34m\u001b[0m\u001b[0;34m\u001b[0m\u001b[0m\n\u001b[1;32m      5\u001b[0m         \u001b[0;32mreturn\u001b[0m \u001b[0;36m0.\u001b[0m\u001b[0;34m\u001b[0m\u001b[0;34m\u001b[0m\u001b[0m\n",
      "\u001b[0;31mValueError\u001b[0m: The truth value of an array with more than one element is ambiguous. Use a.any() or a.all()"
     ]
    }
   ],
   "source": [
    "def heaviside(x):\n",
    "    if x >= 0:\n",
    "        return 1.\n",
    "    else:\n",
    "        return 0.\n",
    "heaviside(array([-1, 2])) # error"
   ]
  },
  {
   "cell_type": "markdown",
   "metadata": {
    "slideshow": {
     "slide_type": "slide"
    }
   },
   "source": [
    "可预见的行为是作用于向量[a，b]的``heaviside``函数将返回``[heaviside(a)，heaviside (b) ]``。但这样也没用，因为不论输入的参数的大小，该函数总是返回个标量。\n",
    "\n",
    "此外，使用数组作为输入的函数会引发异常。\n",
    "\n",
    "NumPy包的函数``vectorize``使我们能够快速解决这个问题:"
   ]
  },
  {
   "cell_type": "code",
   "execution_count": 45,
   "metadata": {},
   "outputs": [
    {
     "data": {
      "text/plain": [
       "array([0., 1.])"
      ]
     },
     "execution_count": 45,
     "metadata": {},
     "output_type": "execute_result"
    }
   ],
   "source": [
    "vheaviside = vectorize(heaviside)\n",
    "vheaviside(array([-1,2])) # array([0,1]) as expected"
   ]
  },
  {
   "cell_type": "markdown",
   "metadata": {
    "slideshow": {
     "slide_type": "slide"
    }
   },
   "source": [
    "该方法的典型应用是其在绘图函数中的使用:"
   ]
  },
  {
   "cell_type": "code",
   "execution_count": 46,
   "metadata": {},
   "outputs": [
    {
     "data": {
      "text/plain": [
       "[-1.5, 1.5, -0.5, 1.5]"
      ]
     },
     "execution_count": 46,
     "metadata": {},
     "output_type": "execute_result"
    },
    {
     "data": {
      "image/png": "[encoded data removed]",
      "text/plain": [
       "<Figure size 432x288 with 1 Axes>"
      ]
     },
     "metadata": {
      "needs_background": "light"
     },
     "output_type": "display_data"
    }
   ],
   "source": [
    "xvals=linspace(-1,1,100)\n",
    "plot(xvals,vectorize(heaviside)(xvals))\n",
    "axis([-1.5,1.5,-0.5,1.5])"
   ]
  },
  {
   "cell_type": "markdown",
   "metadata": {},
   "source": [
    "Note: ``vectorize``函数不会提升性能，它仅为函数转换提供了一种方便快捷的方法，使其能够作用于列表和数组上的元素。"
   ]
  },
  {
   "cell_type": "markdown",
   "metadata": {
    "slideshow": {
     "slide_type": "slide"
    }
   },
   "source": [
    "### 数组函数\n",
    "有许多作用于数组(而不是作用于元素)的函数，例如``max、min`` 和``sum``,这些函数能以行或列的方式作用于整个矩阵。当没有提供任何参数时，它们将作用于整个矩阵。假设A是如下矩阵:\n",
    "\\begin{align}\n",
    "1 \\quad 2 \\quad 3 \\quad 4\\\\\n",
    "5 \\quad 6 \\quad 7 \\quad 8\n",
    "\\end{align}\n",
    "作用在该矩阵上的sum函数返回了一个标量:"
   ]
  },
  {
   "cell_type": "code",
   "execution_count": 47,
   "metadata": {},
   "outputs": [
    {
     "data": {
      "text/plain": [
       "36"
      ]
     },
     "execution_count": 47,
     "metadata": {},
     "output_type": "execute_result"
    }
   ],
   "source": [
    "A = arange(1,9).reshape((2,-1))\n",
    "sum(A) # 36"
   ]
  },
  {
   "cell_type": "markdown",
   "metadata": {
    "slideshow": {
     "slide_type": "slide"
    }
   },
   "source": [
    "该命令有一个可选参数 axis, 该参数能让我们选择沿着哪个轴来执行运算。\n",
    "例如, 如果``axis``为 0，则表示应该沿着第一个轴来计算总和。 沿着形状为(m, n)数组的轴 0 所计算的总和是一个长度为 n 的向量。\n",
    "\n",
    "假设沿着轴0来计算矩阵A的总和:(这相当于计算列上的总和,其结果是一个向量.)\n"
   ]
  },
  {
   "cell_type": "code",
   "execution_count": 48,
   "metadata": {},
   "outputs": [
    {
     "data": {
      "text/plain": [
       "array([ 6,  8, 10, 12])"
      ]
     },
     "execution_count": 48,
     "metadata": {},
     "output_type": "execute_result"
    }
   ],
   "source": [
    "sum(A, axis=0) # array([ 6,  8, 10, 12])"
   ]
  },
  {
   "cell_type": "markdown",
   "metadata": {},
   "source": [
    "假设沿着轴1来计算矩阵A的总和:(这相当于计算行上的总和,其结果是一个向量)\n"
   ]
  },
  {
   "cell_type": "code",
   "execution_count": 49,
   "metadata": {},
   "outputs": [
    {
     "data": {
      "text/plain": [
       "array([10, 26])"
      ]
     },
     "execution_count": 49,
     "metadata": {},
     "output_type": "execute_result"
    }
   ],
   "source": [
    "A.sum(axis=1) # array([10, 26])"
   ]
  },
  {
   "cell_type": "markdown",
   "metadata": {
    "slideshow": {
     "slide_type": "slide"
    }
   },
   "source": [
    "## SciPy中的线性代数方法\n",
    "\n",
    "``SciPy``在``scipy. linalg``模块中提供了大量的数值线性代数方法，其中许多方法都是封装自**LAPACK库**的Python程序。LAPACK库是一一个 良好的可用于求解线性方程组和特征值问题的FORTRAN子程序集合。线性代数方法是科学计算中所有方法的核心，并且SciPy使用包装程序(wrappers) 而不是纯Python 代码，使得这些核心方法运算非常快。\n",
    "\n"
   ]
  },
  {
   "cell_type": "markdown",
   "metadata": {
    "slideshow": {
     "slide_type": "slide"
    }
   },
   "source": [
    "### 使用 LU 来求解多个线性方程组\n",
    "令 **A** 为 $n\\times n$ 矩阵， $b_1,b_2,\\cdots,b_k $ 为 n 向量序列。 我们来考虑如何找到 n 个向量 $x_i$ 使得:\n",
    "$$Ax_i =b_i$$\n",
    "同时假设向量$b_i$未知，尤其是在$b_{i+1}$可用之前必须解决第$i$个问题是一个很常见的情况。\n",
    "\n",
    "**LU分解**是一种用如下方式来组织的经典高斯消元法，其计算分两步实现。\n",
    "* 执行矩阵 **A** 的分解步骤，从而获得一个三角形矩阵。\n",
    "\n",
    "* 执行作用于 $b_i$ 的相对廉价的后向和前向消元步骤，并能从更耗时的因式分解步骤中受益。\n",
    "\n",
    "该方法还使用了以下事实:如果**P**是一个序列矩阵，那就使得**PA**是行序列改变的初始矩阵。\n"
   ]
  },
  {
   "cell_type": "markdown",
   "metadata": {
    "slideshow": {
     "slide_type": "slide"
    }
   },
   "source": [
    "如下两个方程组 ${\\bf{A}}x= b$ 和 ${\\bf{PA}}x={\\bf{P}}b$ 的解法相同。\n",
    "\n",
    "**LU分解**找到一个序列矩阵 **P**、一个下三角矩阵 **L** 和一个上三角矩阵 **U**，使得 **PA=LU** 或 **A** = **PLU**.\n",
    "\n",
    "这样的分解总是存在的，与此同时，还可以用 $L_{ii}= 1$ 的方法来确定 **L**。因此，必须存储的来自 **L** 的基本数据是 ${\\bf{L}}_{ij}(i>j)$. **L** 和 **U** 可以一起存储在 $n \\times n$ 数组中，而存储序列矩阵 **P** 的信息只需要一个 n 整数向量即轴向量来完成。\n"
   ]
  },
  {
   "cell_type": "markdown",
   "metadata": {
    "slideshow": {
     "slide_type": "slide"
    }
   },
   "source": [
    "在SciPy中，有两种计算LU分解的方法，其中标准的方法是scipy. linalg.lu,该方法将返回3个矩阵L、U和P。另一种方法是lu_ factor, 我们在这里说明这个方法是因为它在稍后与lu_ solve方法结合起来使用的话会很方便:\n",
    "```python\n",
    "import scipy.linalg as sl\n",
    "[LU,piv] = sl.lu_factor(A)\n",
    "```"
   ]
  },
  {
   "cell_type": "code",
   "execution_count": 50,
   "metadata": {},
   "outputs": [],
   "source": [
    "import scipy.linalg as sl\n",
    "A = array([[1,2], [-6,4]])\n",
    "[LU,piv] = sl.lu_factor(A)\n",
    "# LU = array([[-6.,4. ],[-0.16666667,  2.66666667]])\n",
    "#  piv = array([1, 1], dtype=int32)"
   ]
  },
  {
   "cell_type": "markdown",
   "metadata": {
    "slideshow": {
     "slide_type": "slide"
    }
   },
   "source": [
    "**A**矩阵在这里被分解，并且返回具有关于 **L** 和**U**的信息的数组以及轴向量。利用该信息，我们可以根据存储在轴向量中的信息来执行向量 $b_i$ 的行交换，并使用 **U** 进行后向替换，最后使用 **L** 进行前向替换来求解该方程组。\n",
    "\n",
    "这在 **Python** 中是以方法 ``lu_solve`` 捆绑的。以下代码片段展示了一旦执行 **LU** 分解并将其结果存储在元组 (LU，piv) 中的情况下，方程组 $Ax_i= b_i$ 的求解方法:\n",
    "```python\n",
    "import scipy.linalg as s1\n",
    "xi = sl,lu_ solve((LU, piv), bi)\n",
    "```"
   ]
  },
  {
   "cell_type": "code",
   "execution_count": 51,
   "metadata": {},
   "outputs": [
    {
     "data": {
      "text/plain": [
       "array([0.125 , 0.4375])"
      ]
     },
     "execution_count": 51,
     "metadata": {},
     "output_type": "execute_result"
    }
   ],
   "source": [
    "bi = array([1,1])\n",
    "xi=sl.lu_solve((LU,piv),bi)\n",
    "xi   # array([0.125 , 0.4375])"
   ]
  },
  {
   "cell_type": "markdown",
   "metadata": {
    "slideshow": {
     "slide_type": "slide"
    }
   },
   "source": [
    "### 使用 SVD 来解决最小二乘问题\n",
    "\n",
    "线性方程组 $Ax=b$ (其中 A 为 $m\\times n$ 矩阵且 $m>n$ )被称为***超定线性方程***。\n",
    "\n",
    "通常该方程组没有经典解法，并且要寻求一个带有如下属性的向量 $x^*\\in \\mathbb{R}^n$:\n",
    "\n",
    "$$\\|Ax^* - b\\|_2 = \\min\\|Ax-b\\|_2$$\n",
    "\n",
    "这里 $\\| \\cdot\\|$ 表示欧几里德向量范数 $\\|v\\|_2 \\sqrt{(\\sum_{i=1}^n v_i^2)}. $\n"
   ]
  },
  {
   "cell_type": "markdown",
   "metadata": {
    "slideshow": {
     "slide_type": "slide"
    }
   },
   "source": [
    "该问题称为**最小二乘的问题**。\n",
    "\n",
    "一个稳妥的求解方法是基于分解 $A = U\\sum V^{\\top}$,其中 U 是一个 $m\\times m$ 正交矩阵，V 是一个 $n\\times n$ 正交矩阵，$\\sum =(\\sigma_{ij})$ 是一个 $m\\times n$ 矩阵(其中属性$\\sigma_{ij}=0$且$i\\neq j$)。这样的分解称为**奇异值分解**(Singular Value Decomposition, SVD)。\n",
    " \n"
   ]
  },
  {
   "cell_type": "markdown",
   "metadata": {
    "slideshow": {
     "slide_type": "-"
    }
   },
   "source": [
    "$$\n",
    "\\sum=\\left[\\begin{array}{r}\n",
    "\\Sigma_{1} \\\\\n",
    "0\n",
    "\\end{array}\\right]\n",
    "$$\n",
    "对角线 $n \\times n$ 矩阵 $\\Sigma_{1}$ 。如果假设 $A$ 是满秩的, 那么 $\\Sigma_{1}$ 就是可逆的并且可以表示为 $x^{*}=V\\left[\\sum_{1}^{-1} 0\\right] U^{\\mathrm{T}} b$ 。\n",
    "\n",
    "如果将 $\\boldsymbol{U}=\\left[\\boldsymbol{U}_{1} \\boldsymbol{U}_{2}\\right]$ (其中 $\\boldsymbol{U}_{1}$ 是一个 $m \\times n$ 的子矩阵)分解, 则可以上面的方程简化为 $x^{*}=V \\sum_{1}^{-1} U^{\\mathrm{T}} b$ 。\n",
    "\n"
   ]
  },
  {
   "cell_type": "markdown",
   "metadata": {
    "slideshow": {
     "slide_type": "slide"
    }
   },
   "source": [
    "SciPy 提供了一个函数 svd, 可以用来求解该任务, 如下所示:"
   ]
  },
  {
   "cell_type": "code",
   "execution_count": 52,
   "metadata": {},
   "outputs": [
    {
     "data": {
      "text/plain": [
       "0.7808688094430303"
      ]
     },
     "execution_count": 52,
     "metadata": {},
     "output_type": "execute_result"
    }
   ],
   "source": [
    "import scipy.linalg as sl\n",
    "A = array([[1, 2], [-6, 4], [0, 8]])\n",
    "b = array([1,1,1])\n",
    "[U1, Sigma_1, VT] = sl.svd(A, full_matrices = False, compute_uv = True)\n",
    "xast = dot(VT.T, dot(U1.T, b)/ Sigma_1) # [-0.04268293  0.1554878 ]\n",
    "r = dot(A, xast) - b  # computes the residual  r=[-0.73170732 -0.12195122  0.24390244]\n",
    "nr = sl.norm(r, 2)     # computes the Euclidean norm of the residual\n",
    "nr    # 0.7808688094430303"
   ]
  },
  {
   "cell_type": "markdown",
   "metadata": {
    "slideshow": {
     "slide_type": "-"
    }
   },
   "source": [
    "关键字``full matrices`` 表示只需要计算 U 的 $U_1$ 部分。由于我们通常只使用 SVD 来计算奇异值 $\\sigma_{ij}$, 所以必须使用关键字``compute_uv`` 显式地要求对 U 和 V 的计算。\n",
    "\n",
    "Scify函数scipy. linalg.lstsq通过使用奇异值分解来解决最小二乘问题。"
   ]
  },
  {
   "cell_type": "markdown",
   "metadata": {
    "slideshow": {
     "slide_type": "slide"
    }
   },
   "source": [
    "### 其他方法\n",
    " 下表给出了 ``scip.linalg`` 模块的一些线性代数函数。\n",
    "\n",
    "| 方法  | 说明(矩阵方法) |\n",
    "| :--- | :---|\n",
    "| sl.det | 矩阵的行列式 |\n",
    "| sl.eig | 矩阵的特征值和特征向量|\n",
    "| sl.inv| 逆矩阵 |\n",
    "| sl.pinv| 伪逆矩阵 |\n",
    "| sl.norm| 矩阵或向量范数|\n",
    "| sl.svd | 奇异值分解|\n",
    "| sl.lu  |  LU分解  | \n",
    "| sl.qr  |  QR分解  | \n",
    "| sl.cholesky| 三角分解|\n",
    "| sl.solve |一般或对称的线性系统的解决方案: Ax=b|\n",
    "| sl.solve.banded| 同带状矩阵 |\n",
    "| sl.lstsq| 最小二乘解 |\n",
    "\n",
    "首先执行导入命令``import scipy.linalg as al``"
   ]
  }
 ],
 "metadata": {
  "celltoolbar": "幻灯片",
  "kernelspec": {
   "display_name": "Python 3",
   "language": "python",
   "name": "python3"
  },
  "language_info": {
   "codemirror_mode": {
    "name": "ipython",
    "version": 3
   },
   "file_extension": ".py",
   "mimetype": "text/x-python",
   "name": "python",
   "nbconvert_exporter": "python",
   "pygments_lexer": "ipython3",
   "version": "3.7.3"
  },
  "toc": {
   "base_numbering": 1,
   "nav_menu": {},
   "number_sections": true,
   "sideBar": true,
   "skip_h1_title": false,
   "title_cell": "Table of Contents",
   "title_sidebar": "Contents",
   "toc_cell": false,
   "toc_position": {},
   "toc_section_display": true,
   "toc_window_display": false
  }
 },
 "nbformat": 4,
 "nbformat_minor": 2
}
